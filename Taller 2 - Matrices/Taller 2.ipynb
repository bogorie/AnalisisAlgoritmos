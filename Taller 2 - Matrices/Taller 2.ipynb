{
 "cells": [
  {
   "cell_type": "markdown",
   "metadata": {},
   "source": [
    "<h1>Taller 2: Multiplicación de Matrices</h1>"
   ]
  },
  {
   "cell_type": "code",
   "execution_count": 1,
   "metadata": {
    "collapsed": true
   },
   "outputs": [],
   "source": [
    "import numpy as np\n",
    "import matplotlib.pyplot as pl\n",
    "import time"
   ]
  },
  {
   "cell_type": "code",
   "execution_count": 2,
   "metadata": {
    "collapsed": true
   },
   "outputs": [],
   "source": [
    "class Counter:\n",
    "    '''\n",
    "    Class Counter\n",
    "    Implements a step counter, which is used to compute the number of basic operations performed in\n",
    "    a particular call to a function.\n",
    "    '''\n",
    "    def __init__(self):\n",
    "        self.steps = 0\n",
    "\n",
    "    def reset(self):\n",
    "        self.steps = 0\n",
    "\n",
    "    def count(self):\n",
    "        self.steps += 1\n",
    "\n",
    "    def print_steps(self):\n",
    "        print \"Number of steps =\", self.steps"
   ]
  },
  {
   "cell_type": "markdown",
   "metadata": {},
   "source": [
    "<h3>1. Multiplicacion <i>O(n^3)</i></h3>"
   ]
  },
  {
   "cell_type": "code",
   "execution_count": 3,
   "metadata": {
    "collapsed": false
   },
   "outputs": [],
   "source": [
    "def matrix_multi(mA, mB, acct):\n",
    "    column = []\n",
    "    if len(mA) != len(mB):\n",
    "        acct.count()\n",
    "        return column\n",
    "    else:\n",
    "        acct.count()\n",
    "        for i in range(0, len(mA)):\n",
    "            acct.count()\n",
    "            low = []\n",
    "            for j in range(0, len(mA[i])):\n",
    "                acct.count()\n",
    "                aux = 0; acct.count()\n",
    "                for k in range(0, len(mB)):\n",
    "                    acct.count()\n",
    "                    aux += mA[i][k]*mB[k][j]; acct.count()\n",
    "                low.append(aux); acct.count()\n",
    "            column.append(low); acct.count()\n",
    "    return column"
   ]
  },
  {
   "cell_type": "markdown",
   "metadata": {},
   "source": [
    "Test:"
   ]
  },
  {
   "cell_type": "code",
   "execution_count": 4,
   "metadata": {
    "collapsed": false
   },
   "outputs": [
    {
     "name": "stdout",
     "output_type": "stream",
     "text": [
      "  28  36  22  23\n",
      "  28  35  23  21\n",
      "  17  17  14  51\n",
      "  48  61  41 128\n"
     ]
    }
   ],
   "source": [
    "acct = Counter()\n",
    "A = [[2,0,1,5],[3,0,0,5],[5,1,1,2],[8,9,1,6]]\n",
    "B = [[1,0,1,7],[1,2,1,7],[1,1,0,9],[5,7,4,0]]\n",
    "\n",
    "C = matrix_multi(A, B, acct)\n",
    "\n",
    "print('\\n'.join([''.join(['{:4}'.format(item) for item in row]) for row in C]))"
   ]
  },
  {
   "cell_type": "markdown",
   "metadata": {},
   "source": [
    "<h3>2. Divide y Conquista</h3>"
   ]
  },
  {
   "cell_type": "markdown",
   "metadata": {},
   "source": [
    "Llenar la matriz."
   ]
  },
  {
   "cell_type": "code",
   "execution_count": 5,
   "metadata": {
    "collapsed": false
   },
   "outputs": [],
   "source": [
    "def matData(A):\n",
    "    num = 1\n",
    "    for i in range(0,8):\n",
    "        low = []\n",
    "        for j in range(0,8):\n",
    "            low.append(num)\n",
    "            num = num+1\n",
    "        A.append(low)"
   ]
  },
  {
   "cell_type": "markdown",
   "metadata": {},
   "source": [
    "Dividir la matriz en cuatro partes."
   ]
  },
  {
   "cell_type": "code",
   "execution_count": 6,
   "metadata": {
    "collapsed": false
   },
   "outputs": [],
   "source": [
    "def split(matrix, acct): # split matrix into quarters \n",
    "    a = matrix; acct.count()\n",
    "    b = matrix; acct.count()\n",
    "    c = matrix; acct.count()\n",
    "    d = matrix; acct.count()\n",
    "    while(len(a) > len(matrix)/2):\n",
    "        acct.count()\n",
    "        a = a[:len(a)/2]; acct.count()\n",
    "        b = b[:len(b)/2]; acct.count()\n",
    "        c = c[len(c)/2:]; acct.count()\n",
    "        d = d[len(d)/2:]; acct.count()\n",
    "    while(len(a[0]) > len(matrix[0])/2):\n",
    "        acct.count()\n",
    "        for i in range(len(a[0])/2):\n",
    "            acct.count()\n",
    "            a[i] = a[i][:len(a[i])/2]; acct.count()\n",
    "            b[i] = b[i][len(b[i])/2:]; acct.count()\n",
    "            c[i] = c[i][:len(c[i])/2]; acct.count()\n",
    "            d[i] = d[i][len(d[i])/2:]; acct.count()\n",
    "    return a,b,c,d"
   ]
  },
  {
   "cell_type": "markdown",
   "metadata": {},
   "source": [
    "Cambiar matricez impar a par"
   ]
  },
  {
   "cell_type": "code",
   "execution_count": 7,
   "metadata": {
    "collapsed": true
   },
   "outputs": [],
   "source": [
    "def change_matrix(A):\n",
    "    for i in range(0,len(A)):\n",
    "        acct.count()\n",
    "        A[i].append(1); acct.count()\n",
    "    aux = []\n",
    "    for i in range(0,len(A)+1):\n",
    "        acct.count()\n",
    "        aux.append(1); acct.count()\n",
    "    A.append(aux); acct.count()"
   ]
  },
  {
   "cell_type": "markdown",
   "metadata": {},
   "source": [
    "Dividir la matriz hasta que sea 2x2"
   ]
  },
  {
   "cell_type": "code",
   "execution_count": 8,
   "metadata": {
    "collapsed": false
   },
   "outputs": [],
   "source": [
    "def rec(A, B, mylist, acct):    \n",
    "    if(len(A[0])>2):\n",
    "        acct.count()\n",
    "        a11,a12,a21,a22 = split(A, acct); acct.count()\n",
    "        b11,b12,b21,b22 = split(B, acct); acct.count()\n",
    "        \n",
    "        rec(a11, b11, mylist, acct); acct.count()\n",
    "        rec(a12, b21, mylist, acct); acct.count()\n",
    "        rec(a11, b12, mylist, acct); acct.count()\n",
    "        rec(a12, b22, mylist, acct); acct.count()\n",
    "        rec(a21, b11, mylist, acct); acct.count()\n",
    "        rec(a22, b21, mylist, acct); acct.count()\n",
    "        rec(a21, b12, mylist, acct); acct.count()\n",
    "        rec(a22, b22, mylist, acct); acct.count()\n",
    "            \n",
    "    #if(len(A[0])==2):\n",
    "        var1 = calc(a11, b11, a12, b21, acct); acct.count()\n",
    "        var2 = calc(a11, b12, a12, b22, acct); acct.count()\n",
    "        var3 = calc(a21, b11, a22, b21, acct); acct.count()\n",
    "        var4 = calc(a21, b12, a22, b22, acct); acct.count()\n",
    "                \n",
    "        s_1 = np.concatenate((var1,var2), axis =1); acct.count()\n",
    "        s_2 = np.concatenate((var3,var4), axis =1); acct.count()\n",
    "        sol = np.concatenate((s_1,s_2), axis =0); acct.count()\n",
    "        mylist.append(sol); acct.count()\n",
    "        \n",
    "def calc(A1, B1, A2, B2, acct):\n",
    "    sol = []\n",
    "    sol1 = matrix_multi(A1, B1, acct); acct.count()\n",
    "    sol2 = matrix_multi(A2, B2, acct); acct.count()\n",
    "    for i in range(0,2):\n",
    "        acct.count()\n",
    "        low = []\n",
    "        for j in range(0,2):\n",
    "            acct.count()\n",
    "            low.append(sol1[i][j]+sol2[i][j]); acct.count()\n",
    "        sol.append(low); acct.count()\n",
    "    return sol"
   ]
  },
  {
   "cell_type": "code",
   "execution_count": 9,
   "metadata": {
    "collapsed": true
   },
   "outputs": [],
   "source": [
    "def solution(mylist):\n",
    "    sol = []\n",
    "    for i in range(0,len(mylist)-1,2):\n",
    "        column = []\n",
    "        for j in range(0,len(mylist[i])):\n",
    "            low = []\n",
    "            for k in range(0,len(mylist[i])):\n",
    "                low.append(mylist[i][j][k] + mylist[i+1][j][k] )\n",
    "            column.append(low)\n",
    "        sol.append(column)\n",
    "    return sol"
   ]
  },
  {
   "cell_type": "code",
   "execution_count": 10,
   "metadata": {
    "collapsed": true
   },
   "outputs": [],
   "source": [
    "def ss(list):\n",
    "    ss = []\n",
    "    for i in range(0,len(list),2):\n",
    "        s_1 = np.concatenate((list[i],list[i+1]), axis =1)\n",
    "        ss.append(s_1)\n",
    "    return ss"
   ]
  },
  {
   "cell_type": "markdown",
   "metadata": {},
   "source": [
    "Test:"
   ]
  },
  {
   "cell_type": "code",
   "execution_count": 11,
   "metadata": {
    "collapsed": false
   },
   "outputs": [
    {
     "name": "stdout",
     "output_type": "stream",
     "text": [
      "1380    1416    1452    1488    1524    1560    1596    1632\n",
      "3236    3336    3436    3536    3636    3736    3836    3936\n",
      "5092    5256    5420    5584    5748    5912    6076    6240\n",
      "6948    7176    7404    7632    7860    8088    8316    8544\n",
      "8804    9096    9388    9680    9972    10264    10556    10848\n",
      "10660    11016    11372    11728    12084    12440    12796    13152\n",
      "12516    12936    13356    13776    14196    14616    15036    15456\n",
      "14372    14856    15340    15824    16308    16792    17276    17760\n"
     ]
    }
   ],
   "source": [
    "acct = Counter()\n",
    "A = []\n",
    "B = []\n",
    "mylist=[]\n",
    "matData(A)\n",
    "matData(B)\n",
    "\n",
    "rec(A, B, mylist, acct)\n",
    "a = ss(solution(mylist))\n",
    "\n",
    "for i in range(0, len(a)):\n",
    "    print('\\n'.join(['    '.join(['{:4}'.format(item) for item in row]) for row in a[i]]))"
   ]
  },
  {
   "cell_type": "markdown",
   "metadata": {},
   "source": [
    "<h3>3. Algoritmo de Strassen</h3>"
   ]
  },
  {
   "cell_type": "markdown",
   "metadata": {},
   "source": [
    "Tomado por: http://stackoverflow.com/questions/12867099/strassen-matrix-multiplication-close-but-still-with-bugs"
   ]
  },
  {
   "cell_type": "code",
   "execution_count": 12,
   "metadata": {
    "collapsed": false
   },
   "outputs": [],
   "source": [
    "def new_m(p, q, acct): # create a matrix filled with 0s\n",
    "    matrix = [[0 for row in range(p)] for col in range(q)]; acct.count()\n",
    "    return matrix\n",
    "\n",
    "def add_m(a, b, acct):\n",
    "    if type(a) == int:\n",
    "        acct.count()\n",
    "        d = a + b; acct.count()\n",
    "    else:\n",
    "        acct.count()\n",
    "        d = []\n",
    "        for i in range(len(a)):\n",
    "            acct.count()\n",
    "            c = []\n",
    "            for j in range(len(a[0])):\n",
    "                acct.count()\n",
    "                c.append(a[i][j] + b[i][j]); acct.count()\n",
    "            d.append(c); acct.count()\n",
    "    return d\n",
    "\n",
    "def sub_m(a, b, acct):\n",
    "    if type(a) == int:\n",
    "        acct.count()\n",
    "        d = a - b; acct.count()\n",
    "    else:\n",
    "        d = []\n",
    "        for i in range(len(a)):\n",
    "            acct.count()\n",
    "            c = []\n",
    "            for j in range(len(a[0])):\n",
    "                acct.count()\n",
    "                c.append(a[i][j] - b[i][j]); acct.count()\n",
    "            d.append(c); acct.count()\n",
    "    return d\n",
    "\n",
    "def strassen(a, b, q, acct):\n",
    "    # base case: 1x1 matrix\n",
    "    if q == 1:\n",
    "        acct.count()\n",
    "        d = [[0]]; acct.count()\n",
    "        d[0][0] = a[0][0] * b[0][0]; acct.count()\n",
    "        return d\n",
    "    else:\n",
    "        acct.count()\n",
    "        #split matrices into quarters\n",
    "        a11, a12, a21, a22 = split(a, acct);  acct.count()\n",
    "        b11, b12, b21, b22 = split(b, acct);  acct.count()\n",
    "\n",
    "        # p1 = (a11+a22) * (b11+b22)\n",
    "        p1 = strassen(add_m(a11,a22, acct), add_m(b11,b22, acct), q/2, acct);  acct.count()\n",
    "        # p2 = (a21+a22) * b11\n",
    "        p2 = strassen(add_m(a21,a22, acct), b11, q/2, acct);  acct.count()\n",
    "        # p3 = a11 * (b12-b22)\n",
    "        p3 = strassen(a11, sub_m(b12,b22, acct), q/2, acct);  acct.count()\n",
    "        # p4 = a22 * (b12-b11)\n",
    "        p4 = strassen(a22, sub_m(b21,b11, acct), q/2, acct);  acct.count()\n",
    "        # p5 = (a11+a12) * b22\n",
    "        p5 = strassen(add_m(a11,a12, acct), b22, q/2, acct);  acct.count()\n",
    "        # p6 = (a21-a11) * (b11+b12)\n",
    "        p6 = strassen(sub_m(a21,a11, acct), add_m(b11,b12, acct), q/2, acct);  acct.count()\n",
    "        # p7 = (a12-a22) * (b21+b22)\n",
    "        p7 = strassen(sub_m(a12,a22, acct), add_m(b21,b22, acct), q/2, acct);  acct.count()\n",
    "\n",
    "        # c11 = p1 + p4 - p5 + p7\n",
    "        c11 = add_m(sub_m(add_m(p1, p4, acct), p5, acct), p7, acct);  acct.count()\n",
    "        # c12 = p3 + p5\n",
    "        c12 = add_m(p3, p5, acct);  acct.count()\n",
    "        # c21 = p2 + p4\n",
    "        c21 = add_m(p2, p4, acct);  acct.count()\n",
    "        # c22 = p1 + p3 - p2 + p6\n",
    "        c22 = add_m(sub_m(add_m(p1, p3, acct), p2, acct), p6, acct);  acct.count()\n",
    "\n",
    "        c = new_m(len(c11)*2,len(c11)*2, acct);  acct.count()\n",
    "        for i in range(len(c11)):\n",
    "            acct.count()\n",
    "            for j in range(len(c11)):\n",
    "                acct.count()\n",
    "                c[i][j]                   = c11[i][j];  acct.count()\n",
    "                c[i][j+len(c11)]          = c12[i][j];  acct.count()\n",
    "                c[i+len(c11)][j]          = c21[i][j];  acct.count()\n",
    "                c[i+len(c11)][j+len(c11)] = c22[i][j];  acct.count()\n",
    "\n",
    "        return c"
   ]
  },
  {
   "cell_type": "markdown",
   "metadata": {},
   "source": [
    "Test:"
   ]
  },
  {
   "cell_type": "code",
   "execution_count": 13,
   "metadata": {
    "collapsed": false
   },
   "outputs": [
    {
     "name": "stdout",
     "output_type": "stream",
     "text": [
      "  28  36  22  23\n",
      "  28  35  23  21\n",
      "  17  17  14  51\n",
      "  48  61  41 128\n"
     ]
    }
   ],
   "source": [
    "acct = Counter()\n",
    "A = [[2,0,1,5],[3,0,0,5],[5,1,1,2],[8,9,1,6]]\n",
    "B = [[1,0,1,7],[1,2,1,7],[1,1,0,9],[5,7,4,0]]\n",
    "\n",
    "C = strassen(A, B, 4, acct)\n",
    "\n",
    "print('\\n'.join([''.join(['{:4}'.format(item) for item in row]) for row in C]))"
   ]
  },
  {
   "cell_type": "markdown",
   "metadata": {},
   "source": [
    "<h3>4. Grafica</h3>"
   ]
  },
  {
   "cell_type": "code",
   "execution_count": 14,
   "metadata": {
    "collapsed": true
   },
   "outputs": [],
   "source": [
    "def exper_analysis_mult(n):\n",
    "    steps_1 = []\n",
    "    timeP_1 = []\n",
    "    steps_2 = []\n",
    "    timeP_2 = []\n",
    "    steps_3 = []\n",
    "    timeP_3 = []\n",
    "    acct = Counter()\n",
    "    for i in range(n):\n",
    "        num = np.random.randint(2, 100)\n",
    "        A = np.random.choice([x for x in xrange(0,100)],num*num)\n",
    "        A.resize(num,num)\n",
    "        B = np.random.choice([x for x in xrange(0,100)],num*num)\n",
    "        B.resize(num,num)\n",
    "        \n",
    "        #Matriz de O(n^3)\n",
    "        acct.reset()\n",
    "        tic = time.clock()\n",
    "        matrix_multi(A, B, acct)\n",
    "        toc = time.clock()\n",
    "        steps_1.append(acct.steps)\n",
    "        timeP_1.append(toc - tic)\n",
    "        \n",
    "        \n",
    "    results = [steps_1, timeP_1]\n",
    "    return results"
   ]
  },
  {
   "cell_type": "code",
   "execution_count": 15,
   "metadata": {
    "collapsed": false
   },
   "outputs": [
    {
     "data": {
      "text/plain": [
       "[<matplotlib.lines.Line2D at 0x75a66a0>]"
      ]
     },
     "execution_count": 15,
     "metadata": {},
     "output_type": "execute_result"
    }
   ],
   "source": [
    "pl.clf()\n",
    "res = exper_analysis_mult(20)\n",
    "x = np.array(res[0])\n",
    "y = np.array(res[1])\n",
    "\n",
    "pl.plot(x, y, 'k.')"
   ]
  },
  {
   "cell_type": "code",
   "execution_count": null,
   "metadata": {
    "collapsed": true
   },
   "outputs": [],
   "source": []
  }
 ],
 "metadata": {
  "anaconda-cloud": {},
  "kernelspec": {
   "display_name": "Python 2",
   "language": "python",
   "name": "python2"
  },
  "language_info": {
   "codemirror_mode": {
    "name": "ipython",
    "version": 2
   },
   "file_extension": ".py",
   "mimetype": "text/x-python",
   "name": "python",
   "nbconvert_exporter": "python",
   "pygments_lexer": "ipython2",
   "version": "2.7.13"
  }
 },
 "nbformat": 4,
 "nbformat_minor": 1
}
