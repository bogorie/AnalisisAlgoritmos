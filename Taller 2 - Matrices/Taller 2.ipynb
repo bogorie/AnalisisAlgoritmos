{
 "cells": [
  {
   "cell_type": "markdown",
   "metadata": {},
   "source": [
    "<h1>Taller 2: Multiplicación de Matrices</h1>"
   ]
  },
  {
   "cell_type": "code",
   "execution_count": 1,
   "metadata": {
    "collapsed": true
   },
   "outputs": [],
   "source": [
    "import numpy as np\n",
    "import matplotlib.pyplot as pl\n",
    "import time\n",
    "%matplotlib inline"
   ]
  },
  {
   "cell_type": "code",
   "execution_count": 2,
   "metadata": {
    "collapsed": true
   },
   "outputs": [],
   "source": [
    "class Counter:\n",
    "    '''\n",
    "    Class Counter\n",
    "    Implements a step counter, which is used to compute the number of basic operations performed in\n",
    "    a particular call to a function.\n",
    "    '''\n",
    "    def __init__(self):\n",
    "        self.steps = 0\n",
    "\n",
    "    def reset(self):\n",
    "        self.steps = 0\n",
    "\n",
    "    def count(self):\n",
    "        self.steps += 1\n",
    "\n",
    "    def print_steps(self):\n",
    "        print \"Number of steps =\", self.steps"
   ]
  },
  {
   "cell_type": "markdown",
   "metadata": {},
   "source": [
    "<h3>1. Multiplicacion <i>O(n^3)</i></h3>"
   ]
  },
  {
   "cell_type": "code",
   "execution_count": 3,
   "metadata": {
    "collapsed": false
   },
   "outputs": [],
   "source": [
    "def matrix_multi(mA, mB, acct):\n",
    "    column = []\n",
    "    if len(mA) != len(mB):\n",
    "        acct.count()\n",
    "        return column\n",
    "    else:\n",
    "        acct.count()\n",
    "        for i in range(0, len(mA)):\n",
    "            acct.count()\n",
    "            low = []; acct.count()\n",
    "            for j in range(0, len(mA[i])):\n",
    "                acct.count()\n",
    "                aux = 0; acct.count()\n",
    "                for k in range(0, len(mB)):\n",
    "                    acct.count()\n",
    "                    aux += mA[i][k]*mB[k][j]; acct.count()\n",
    "                low.append(aux)\n",
    "            column.append(low)\n",
    "    return column"
   ]
  },
  {
   "cell_type": "markdown",
   "metadata": {},
   "source": [
    "Test:"
   ]
  },
  {
   "cell_type": "code",
   "execution_count": 4,
   "metadata": {
    "collapsed": false
   },
   "outputs": [
    {
     "name": "stdout",
     "output_type": "stream",
     "text": [
      "  28  36  22  23\n",
      "  28  35  23  21\n",
      "  17  17  14  51\n",
      "  48  61  41 128\n"
     ]
    }
   ],
   "source": [
    "acct = Counter()\n",
    "A = [[2,0,1,5],[3,0,0,5],[5,1,1,2],[8,9,1,6]]\n",
    "B = [[1,0,1,7],[1,2,1,7],[1,1,0,9],[5,7,4,0]]\n",
    "\n",
    "C = matrix_multi(A, B, acct)\n",
    "\n",
    "print('\\n'.join([''.join(['{:4}'.format(item) for item in row]) for row in C]))"
   ]
  },
  {
   "cell_type": "markdown",
   "metadata": {},
   "source": [
    "<h3>2. Divide y Conquista</h3>"
   ]
  },
  {
   "cell_type": "markdown",
   "metadata": {},
   "source": [
    "Llenar la matriz."
   ]
  },
  {
   "cell_type": "code",
   "execution_count": 5,
   "metadata": {
    "collapsed": false
   },
   "outputs": [],
   "source": [
    "def matData(A):\n",
    "    num = 1\n",
    "    for i in range(0,7):\n",
    "        low = []\n",
    "        for j in range(0,7):\n",
    "            low.append(num)\n",
    "            num = num+1\n",
    "        A.append(low)"
   ]
  },
  {
   "cell_type": "markdown",
   "metadata": {},
   "source": [
    "Dividir la matriz en cuatro partes."
   ]
  },
  {
   "cell_type": "code",
   "execution_count": 6,
   "metadata": {
    "collapsed": false
   },
   "outputs": [],
   "source": [
    "def split(matrix, acct):\n",
    "    a = matrix; acct.count()\n",
    "    b = matrix; acct.count()\n",
    "    c = matrix; acct.count()\n",
    "    d = matrix; acct.count()\n",
    "    \n",
    "    while(len(a) > len(matrix)/2):\n",
    "        acct.count()\n",
    "        a = a[:len(a)/2]; acct.count()\n",
    "        b = b[:len(b)/2]; acct.count()\n",
    "        c = c[len(c)/2:]; acct.count()\n",
    "        d = d[len(d)/2:]; acct.count()\n",
    "        \n",
    "    while(len(a[0]) > len(matrix[0])/2):\n",
    "        acct.count()\n",
    "        for i in range(len(a[0])/2):\n",
    "            acct.count()\n",
    "            a[i] = a[i][:len(a[i])/2]; acct.count()\n",
    "            b[i] = b[i][len(b[i])/2:]; acct.count()\n",
    "            c[i] = c[i][:len(c[i])/2]; acct.count()\n",
    "            d[i] = d[i][len(d[i])/2:]; acct.count()\n",
    "    return a,b,c,d"
   ]
  },
  {
   "cell_type": "markdown",
   "metadata": {},
   "source": [
    "Cambiar matricez impar a par"
   ]
  },
  {
   "cell_type": "code",
   "execution_count": 7,
   "metadata": {
    "collapsed": true
   },
   "outputs": [],
   "source": [
    "def change_matrix(A, acct):\n",
    "    for i in range(0,len(A)):\n",
    "        acct.count()\n",
    "        A[i].append(0)\n",
    "        \n",
    "    aux = []; acct.count()\n",
    "    for i in range(0,len(A)+1):\n",
    "        acct.count()\n",
    "        aux.append(0)\n",
    "    A.append(aux)"
   ]
  },
  {
   "cell_type": "markdown",
   "metadata": {},
   "source": [
    "Dividir la matriz hasta que sea 2x2"
   ]
  },
  {
   "cell_type": "code",
   "execution_count": 8,
   "metadata": {
    "collapsed": false
   },
   "outputs": [],
   "source": [
    "def rec(A, B, acct):\n",
    "    hasZero = False\n",
    "    if(len(A)%2 != 0):\n",
    "        acct.count()\n",
    "        change_matrix(A, acct)\n",
    "        change_matrix(B, acct)\n",
    "        hasZero = True\n",
    "    \n",
    "    if(len(A)>2):\n",
    "        acct.count()\n",
    "        a11,a12,a21,a22 = split(A, acct); acct.count()\n",
    "        b11,b12,b21,b22 = split(B, acct); acct.count()\n",
    "        \n",
    "        var1 = np.array(rec(a11, b11, acct)) + np.array(rec(a12, b21, acct)); acct.count()\n",
    "        var2 = np.array(rec(a11, b12, acct)) + np.array(rec(a12, b22, acct)); acct.count()\n",
    "        var3 = np.array(rec(a21, b11, acct)) + np.array(rec(a22, b21, acct)); acct.count()\n",
    "        var4 = np.array(rec(a21, b12, acct)) + np.array(rec(a22, b22, acct)); acct.count()\n",
    "        \n",
    "        s_1 = np.concatenate((var1,var2), axis =1); acct.count()\n",
    "        s_2 = np.concatenate((var3,var4), axis =1); acct.count()\n",
    "        ans = np.concatenate((s_1,s_2), axis =0); acct.count()\n",
    "        \n",
    "        if(hasZero):\n",
    "            acct.count()\n",
    "            ans = np.delete(ans, len(ans)-1, 0)\n",
    "            ans = np.delete(ans, len(ans), 1)\n",
    "        \n",
    "        return ans\n",
    "            \n",
    "    if(len(A)==2):\n",
    "        acct.count()\n",
    "        return mult(A, B, acct)\n",
    "\n",
    "def mult(mA, mB, acct):\n",
    "    column = []\n",
    "    if len(mA) != len(mB):\n",
    "        acct.count()\n",
    "        return column\n",
    "    else:\n",
    "        acct.count()\n",
    "        for i in range(0, len(mA)):\n",
    "            acct.count()\n",
    "            low = []; acct.count()\n",
    "            for j in range(0, len(mA[i])):\n",
    "                acct.count()\n",
    "                aux = 0; acct.count()\n",
    "                for k in range(0, len(mB)):\n",
    "                    acct.count()\n",
    "                    aux += mA[i][k]*mB[k][j]; acct.count()\n",
    "                low.append(aux)\n",
    "            column.append(low)\n",
    "    return column"
   ]
  },
  {
   "cell_type": "markdown",
   "metadata": {},
   "source": [
    "Test:"
   ]
  },
  {
   "cell_type": "code",
   "execution_count": 9,
   "metadata": {
    "collapsed": false,
    "scrolled": false
   },
   "outputs": [
    {
     "name": "stdout",
     "output_type": "stream",
     "text": [
      " 812    840    868    896    924    952    980\n",
      "1890   1967   2044   2121   2198   2275   2352\n",
      "2968   3094   3220   3346   3472   3598   3724\n",
      "4046   4221   4396   4571   4746   4921   5096\n",
      "5124   5348   5572   5796   6020   6244   6468\n",
      "6202   6475   6748   7021   7294   7567   7840\n",
      "7280   7602   7924   8246   8568   8890   9212\n"
     ]
    }
   ],
   "source": [
    "acct = Counter()\n",
    "A = []\n",
    "B = []\n",
    "matData(A)\n",
    "matData(B)\n",
    "\n",
    "C = rec(A, B, acct)\n",
    "print('\\n'.join(['   '.join(['{:4}'.format(item) for item in row]) for row in C]))"
   ]
  },
  {
   "cell_type": "markdown",
   "metadata": {},
   "source": [
    "<h3>3. Algoritmo de Strassen</h3>"
   ]
  },
  {
   "cell_type": "markdown",
   "metadata": {},
   "source": [
    "Tomado por: http://stackoverflow.com/questions/12867099/strassen-matrix-multiplication-close-but-still-with-bugs"
   ]
  },
  {
   "cell_type": "code",
   "execution_count": 10,
   "metadata": {
    "collapsed": false
   },
   "outputs": [],
   "source": [
    "def new_m(p, q, acct): # create a matrix filled with 0s\n",
    "    matrix = [[0 for row in range(p)] for col in range(q)]; acct.count()\n",
    "    return matrix\n",
    "\n",
    "def add_m(a, b, acct):\n",
    "    if type(a) == int:\n",
    "        acct.count()\n",
    "        d = a + b; acct.count()\n",
    "    else:\n",
    "        acct.count()\n",
    "        d = []; acct.count()\n",
    "        for i in range(len(a)):\n",
    "            acct.count()\n",
    "            c = []; acct.count()\n",
    "            for j in range(len(a[0])):\n",
    "                acct.count()\n",
    "                c.append(a[i][j] + b[i][j]); acct.count()\n",
    "            d.append(c)\n",
    "    return d\n",
    "\n",
    "def sub_m(a, b, acct):\n",
    "    if type(a) == int:\n",
    "        acct.count()\n",
    "        d = a - b; acct.count()\n",
    "    else:\n",
    "        d = []; acct.count()\n",
    "        for i in range(len(a)):\n",
    "            acct.count()\n",
    "            c = []; acct.count()\n",
    "            for j in range(len(a[0])):\n",
    "                acct.count()\n",
    "                c.append(a[i][j] - b[i][j]); acct.count()\n",
    "            d.append(c)\n",
    "    return d\n",
    "\n",
    "def strassen(a, b, q, acct):\n",
    "    # base case: 1x1 matrix\n",
    "    if q == 1:\n",
    "        acct.count()\n",
    "        d = [[0]]; acct.count()\n",
    "        d[0][0] = a[0][0] * b[0][0]; acct.count()\n",
    "        return d\n",
    "    else:\n",
    "        acct.count()\n",
    "        #split matrices into quarters\n",
    "        a11, a12, a21, a22 = split(a, acct);  acct.count()\n",
    "        b11, b12, b21, b22 = split(b, acct);  acct.count()\n",
    "\n",
    "        # p1 = (a11+a22) * (b11+b22)\n",
    "        p1 = strassen(add_m(a11,a22, acct), add_m(b11,b22, acct), q/2, acct);  acct.count()\n",
    "        # p2 = (a21+a22) * b11\n",
    "        p2 = strassen(add_m(a21,a22, acct), b11, q/2, acct);  acct.count()\n",
    "        # p3 = a11 * (b12-b22)\n",
    "        p3 = strassen(a11, sub_m(b12,b22, acct), q/2, acct);  acct.count()\n",
    "        # p4 = a22 * (b12-b11)\n",
    "        p4 = strassen(a22, sub_m(b21,b11, acct), q/2, acct);  acct.count()\n",
    "        # p5 = (a11+a12) * b22\n",
    "        p5 = strassen(add_m(a11,a12, acct), b22, q/2, acct);  acct.count()\n",
    "        # p6 = (a21-a11) * (b11+b12)\n",
    "        p6 = strassen(sub_m(a21,a11, acct), add_m(b11,b12, acct), q/2, acct);  acct.count()\n",
    "        # p7 = (a12-a22) * (b21+b22)\n",
    "        p7 = strassen(sub_m(a12,a22, acct), add_m(b21,b22, acct), q/2, acct);  acct.count()\n",
    "\n",
    "        # c11 = p1 + p4 - p5 + p7\n",
    "        c11 = add_m(sub_m(add_m(p1, p4, acct), p5, acct), p7, acct);  acct.count()\n",
    "        # c12 = p3 + p5\n",
    "        c12 = add_m(p3, p5, acct);  acct.count()\n",
    "        # c21 = p2 + p4\n",
    "        c21 = add_m(p2, p4, acct);  acct.count()\n",
    "        # c22 = p1 + p3 - p2 + p6\n",
    "        c22 = add_m(sub_m(add_m(p1, p3, acct), p2, acct), p6, acct);  acct.count()\n",
    "\n",
    "        c = new_m(len(c11)*2,len(c11)*2, acct);  acct.count()\n",
    "        for i in range(len(c11)):\n",
    "            acct.count()\n",
    "            for j in range(len(c11)):\n",
    "                acct.count()\n",
    "                c[i][j]                   = c11[i][j];  acct.count()\n",
    "                c[i][j+len(c11)]          = c12[i][j];  acct.count()\n",
    "                c[i+len(c11)][j]          = c21[i][j];  acct.count()\n",
    "                c[i+len(c11)][j+len(c11)] = c22[i][j];  acct.count()\n",
    "\n",
    "        return c"
   ]
  },
  {
   "cell_type": "markdown",
   "metadata": {},
   "source": [
    "Test:"
   ]
  },
  {
   "cell_type": "code",
   "execution_count": 11,
   "metadata": {
    "collapsed": false
   },
   "outputs": [
    {
     "name": "stdout",
     "output_type": "stream",
     "text": [
      "  28  36  22  23\n",
      "  28  35  23  21\n",
      "  17  17  14  51\n",
      "  48  61  41 128\n"
     ]
    }
   ],
   "source": [
    "acct = Counter()\n",
    "A = [[2,0,1,5],[3,0,0,5],[5,1,1,2],[8,9,1,6]]\n",
    "B = [[1,0,1,7],[1,2,1,7],[1,1,0,9],[5,7,4,0]]\n",
    "\n",
    "C = strassen(A, B, 4, acct)\n",
    "\n",
    "print('\\n'.join([''.join(['{:4}'.format(item) for item in row]) for row in C]))"
   ]
  },
  {
   "cell_type": "markdown",
   "metadata": {},
   "source": [
    "<h3>4. Grafica</h3>"
   ]
  },
  {
   "cell_type": "code",
   "execution_count": 12,
   "metadata": {
    "collapsed": true
   },
   "outputs": [],
   "source": [
    "def exper_analysis_mult(n):\n",
    "    steps_1 = []\n",
    "    timeP_1 = []\n",
    "    steps_2 = []\n",
    "    timeP_2 = []\n",
    "    steps_3 = []\n",
    "    timeP_3 = []\n",
    "    acct = Counter()\n",
    "    for i in range(2, n, 2):\n",
    "        A = np.random.randint(100, size=(i, i))\n",
    "        B = np.random.randint(100, size=(i, i))\n",
    "        \n",
    "        #Matriz de O(n^3)\n",
    "        acct.reset()\n",
    "        tic = time.clock()\n",
    "        matrix_multi(A, B, acct)\n",
    "        toc = time.clock()\n",
    "        steps_1.append(acct.steps)\n",
    "        timeP_1.append(toc - tic)\n",
    "        \n",
    "        #Divide y Conquite\n",
    "        #acct.reset()\n",
    "        #tic = time.clock()\n",
    "        #rec(A, B, acct)\n",
    "        #toc = time.clock()\n",
    "        #steps_2.append(acct.steps)\n",
    "        #timeP_2.append(toc - tic)\n",
    "        \n",
    "        #MStrassen\n",
    "        #acct.reset()\n",
    "        #tic = time.clock()\n",
    "        #strassen(A, B, i, acct)\n",
    "        #toc = time.clock()\n",
    "        #steps_3.append(acct.steps)\n",
    "        #timeP_3.append(toc - tic)\n",
    "        \n",
    "        \n",
    "    results = [steps_1, timeP_1, steps_2, timeP_2, steps_3, timeP_3]\n",
    "    return results"
   ]
  },
  {
   "cell_type": "markdown",
   "metadata": {},
   "source": [
    "Grafica de Matriz O(n^3)\n",
    "\n",
    "ROJO: Tiempp\n",
    "\n",
    "Negro: Operaciones"
   ]
  },
  {
   "cell_type": "code",
   "execution_count": 13,
   "metadata": {
    "collapsed": false
   },
   "outputs": [
    {
     "data": {
      "text/plain": [
       "[<matplotlib.lines.Line2D at 0x75b5fd0>,\n",
       " <matplotlib.lines.Line2D at 0x75c60f0>]"
      ]
     },
     "execution_count": 13,
     "metadata": {},
     "output_type": "execute_result"
    },
    {
     "data": {
      "image/png": "[encoded data removed]",
      "text/plain": [
       "<matplotlib.figure.Figure at 0x746b080>"
      ]
     },
     "metadata": {},
     "output_type": "display_data"
    }
   ],
   "source": [
    "pl.clf()\n",
    "x = np.arange(10)\n",
    "res = exper_analysis_mult(22)\n",
    "y1 = np.array(res[0])\n",
    "h1 = np.array(res[1])\n",
    "\n",
    "pl.plot(x, y1, 'k.', h1, 'r.')\n"
   ]
  },
  {
   "cell_type": "markdown",
   "metadata": {},
   "source": [
    "Grafica completo"
   ]
  },
  {
   "cell_type": "code",
   "execution_count": 14,
   "metadata": {
    "collapsed": false
   },
   "outputs": [],
   "source": [
    "#pl.figure(1)\n",
    "#x = np.arange(10)\n",
    "#res = exper_analysis_mult(22)\n",
    "#y1 = np.array(res[0])\n",
    "#h1 = np.array(res[1])\n",
    "#y2 = np.array(res[2])\n",
    "#h2 = np.array(res[3])\n",
    "#y3 = np.array(res[4])\n",
    "#h3 = np.array(res[5])\n",
    "\n",
    "#pl.subplot(211)\n",
    "#pl.plot(x, y1, 'k.', y2, 'r.',y3, 'r.')\n",
    "\n",
    "#pl.subplot(212)\n",
    "#pl.plot(x, h1, 'k.', h2, 'r.'h3, 'r.')"
   ]
  }
 ],
 "metadata": {
  "anaconda-cloud": {},
  "kernelspec": {
   "display_name": "Python 2",
   "language": "python",
   "name": "python2"
  },
  "language_info": {
   "codemirror_mode": {
    "name": "ipython",
    "version": 2
   },
   "file_extension": ".py",
   "mimetype": "text/x-python",
   "name": "python",
   "nbconvert_exporter": "python",
   "pygments_lexer": "ipython2",
   "version": "2.7.13"
  }
 },
 "nbformat": 4,
 "nbformat_minor": 1
}
