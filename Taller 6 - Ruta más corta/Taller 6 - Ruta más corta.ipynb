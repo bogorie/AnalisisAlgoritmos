{
 "cells": [
  {
   "cell_type": "markdown",
   "metadata": {},
   "source": [
    "<h1>Taller 6: Ruta más corta</h1>"
   ]
  },
  {
   "cell_type": "markdown",
   "metadata": {},
   "source": [
    "Librerias"
   ]
  },
  {
   "cell_type": "code",
   "execution_count": 1,
   "metadata": {
    "collapsed": true
   },
   "outputs": [],
   "source": [
    "import random as rnd\n",
    "import numpy as np\n",
    "from heapq import heappush, heappop\n",
    "from collections import deque\n",
    "from IPython.display import Image\n",
    "import networkx as nx\n",
    "import matplotlib.pyplot as plt\n",
    "import pylab\n",
    "import time\n",
    "%matplotlib inline"
   ]
  },
  {
   "cell_type": "markdown",
   "metadata": {},
   "source": [
    "<h3>Floyd-Warshall</h3>"
   ]
  },
  {
   "cell_type": "code",
   "execution_count": 2,
   "metadata": {
    "collapsed": true
   },
   "outputs": [],
   "source": [
    "def FloydWarshall(W):\n",
    "    n = W.shape[0]\n",
    "    D_list = []#Save each D^{(k)} matrix\n",
    "    D_list.append(W[:,:])#D^{(0)}\n",
    "    \n",
    "    for k in range(n):        \n",
    "        D_k = D_list[k][:,:]\n",
    "        for i in range(n):\n",
    "            for j in range(n):\n",
    "                D_k[i,j] = min(D_list[k][i,j], D_list[k][i,k]+D_list[k][k,j])        \n",
    "        D_list.append(np.copy(D_k))\n",
    "        \n",
    "    return D_k, D_list"
   ]
  },
  {
   "cell_type": "markdown",
   "metadata": {},
   "source": [
    "<h3>Dijkstra</h3>"
   ]
  },
  {
   "cell_type": "code",
   "execution_count": 3,
   "metadata": {
    "collapsed": true
   },
   "outputs": [],
   "source": [
    "def updateheap(heap,d,v):\n",
    "    for i in range(len(heap)):\n",
    "        if heap[i][1] == v:\n",
    "            heap[i][0] = d\n",
    "            fix_minheap(heap,i) # heap=heapify(heap) ineficient      \n",
    "            break    \n",
    "\n",
    "def fix_minheap(heap, i):\n",
    "    if i == 0: return  \n",
    "    p = int(i/2) #parent  \n",
    "    if p >= 0 and heap[p][0] > heap[i][0]:\n",
    "        heap[i], heap[p] = heap[p], heap[i]\n",
    "        fix_minheap(heap,p)   \n",
    "            \n",
    "def Dijkstra(G,start):\n",
    "    D = {} # dictionary of final distances\n",
    "    for v in G:\n",
    "        D[v] = float('inf')\n",
    "    D[start] = 0\n",
    "    \n",
    "    P = {} # dictionary of predecessors\n",
    "    \n",
    "    Q=[] #  priority queue est.dist. of non-final vert.\n",
    "    for v in G:\n",
    "        item = []\n",
    "        item.append(D[v])\n",
    "        item.append(v)\n",
    "        heappush(Q,item)\n",
    "    \n",
    "    #S = []\n",
    "    while Q:\n",
    "        u = heappop(Q)[1]\n",
    "        #S.append(u)\n",
    "        for v in G[u]:\n",
    "            newDuv = D[u] + G[u][v]\n",
    "            if newDuv < D[v]:\n",
    "                P[v] = u\n",
    "                D[v] = newDuv\n",
    "                updateheap(Q,D[v],v)\n",
    "    return D, P"
   ]
  },
  {
   "cell_type": "code",
   "execution_count": 4,
   "metadata": {
    "collapsed": true
   },
   "outputs": [],
   "source": [
    "# From  http://www.ics.uci.edu/~eppstein/161/python/dijkstra.py\n",
    "# David Eppstein, UC Irvine, 4 April 2002\n",
    "def shortestPath(G,start,end,method):\n",
    "    \"\"\"\n",
    "    Find a single shortest path from the given start vertex to the given end vertex.\n",
    "    The input has the same conventions as Dijkstra().\n",
    "    The output is a list of the vertices in order along the shortest path.\n",
    "     \"\"\"\n",
    "    if method ==  'Dijkstra':\n",
    "        D,P = Dijkstra(G,start)\n",
    "    elif method == 'Bellman':\n",
    "        D,P = BellmanFord(G,start)\n",
    "    else:\n",
    "        D,P = Dijkstra(G,start)\n",
    "    \n",
    "    Path = []\n",
    "    while 1:\n",
    "        Path.append(end)\n",
    "        if end == start: break\n",
    "        end = P[end]\n",
    "    Path.reverse()\n",
    "    \n",
    "    return Path"
   ]
  },
  {
   "cell_type": "markdown",
   "metadata": {},
   "source": [
    "<h3>Bellman-Ford</h3>"
   ]
  },
  {
   "cell_type": "code",
   "execution_count": 5,
   "metadata": {
    "collapsed": true
   },
   "outputs": [],
   "source": [
    "def BellmanFord(G,start):\n",
    "    D = {} # dictionary of final distances\n",
    "    for v in G:\n",
    "        D[v] = float('inf')\n",
    "    D[start] = 0\n",
    "    \n",
    "    P = {} # dictionary of predecessors\n",
    "    \n",
    "    for i in range(len(G)-1):\n",
    "        for u in G:\n",
    "            for v in G[u]:   \n",
    "                newDv = D[u] + G[u][v]\n",
    "                if newDv < D[v]:\n",
    "                    P[v] = u\n",
    "                    D[v] = newDv\n",
    "    \n",
    "    for u in G:\n",
    "        for v in G[u]:   \n",
    "            newDv = D[u] + G[u][v]\n",
    "            if newDv < D[v]: print(\"Negative cicle\",u,v)\n",
    "                \n",
    "    return D, P"
   ]
  },
  {
   "cell_type": "markdown",
   "metadata": {},
   "source": [
    "<h3>Punto 1</h3>"
   ]
  },
  {
   "cell_type": "markdown",
   "metadata": {},
   "source": [
    "<i>Implemente un método para crear grafos aleatorios de $n$ vertices, donde con probabilidad $\\psi \\in [0,1]$ definira si exite una arista entre cada par de vertices $(i,j)$. El peso $\\omega(i,j) \\in [minw, maxw]$ se asignará de manera aleatoria uniformemente en el intervalo $[minw, maxw]$.</i>"
   ]
  },
  {
   "cell_type": "markdown",
   "metadata": {},
   "source": [
    "Para dibujar el grafo:"
   ]
  },
  {
   "cell_type": "code",
   "execution_count": 6,
   "metadata": {
    "collapsed": true
   },
   "outputs": [],
   "source": [
    "def draw_graph(graph):\n",
    "    G = nx.DiGraph()\n",
    "    for node in graph:\n",
    "        G.add_nodes_from([node])\n",
    "        for conect in graph[node]:\n",
    "            G.add_edges_from([(node, conect)], weight = graph[node][conect])\n",
    "    \n",
    "    values = 'blue'\n",
    "    edge_labels=dict([((u,v,),d['weight'])\n",
    "                 for u,v,d in G.edges(data=True)])\n",
    "    edge_colors = 'red'\n",
    "        \n",
    "    pos=nx.spring_layout(G)\n",
    "    node_labels = {node:node for node in G.nodes()};\n",
    "    nx.draw_networkx_labels(G, pos, labels=node_labels)\n",
    "    nx.draw_networkx_edge_labels(G,pos,edge_labels=edge_labels)\n",
    "    nx.draw(G,pos, node_color = values, node_size=1500,edge_color=edge_colors,edge_cmap=plt.cm.Reds)\n",
    "    pylab.show()"
   ]
  },
  {
   "cell_type": "markdown",
   "metadata": {},
   "source": [
    "Contrucción de grafo areatorio."
   ]
  },
  {
   "cell_type": "code",
   "execution_count": 7,
   "metadata": {
    "collapsed": true
   },
   "outputs": [],
   "source": [
    "def randomGraph(n, minw, maxw):\n",
    "    if n > 26:\n",
    "        n = 26\n",
    "    if n < 1:\n",
    "        n = 1\n",
    "    for x in range(1, n+1):\n",
    "        l1 = [chr(n) for n in rnd.sample(range(65, 65+x), x)]\n",
    "        \n",
    "    l2 = []\n",
    "    for y in range(len(l1)):\n",
    "        l1_c = l1[0:y] + l1[y+1:len(l1)]\n",
    "        neighbors = rnd.sample(l1_c, rnd.randint(0, len(l1)-1))\n",
    "        cost = [rnd.randint(minw, maxw) for r in xrange(len(neighbors))]\n",
    "        l2.append(dict(zip(neighbors, cost)))\n",
    "            \n",
    "    graph = dict(zip(l1, l2))\n",
    "\n",
    "    return l1, graph"
   ]
  },
  {
   "cell_type": "markdown",
   "metadata": {},
   "source": [
    "Ejemplo:"
   ]
  },
  {
   "cell_type": "code",
   "execution_count": 26,
   "metadata": {
    "collapsed": false
   },
   "outputs": [
    {
     "data": {
      "image/png": "[encoded data removed]",
      "text/plain": [
       "<matplotlib.figure.Figure at 0x7c16208>"
      ]
     },
     "metadata": {},
     "output_type": "display_data"
    },
    {
     "name": "stdout",
     "output_type": "stream",
     "text": [
      "Nodo: A\n",
      "  Vecinos:\n",
      "   C -> 2\n",
      "\n",
      "\n",
      "Nodo: C\n",
      "  Vecinos:\n",
      "   E -> 1\n",
      "\n",
      "\n",
      "Nodo: B\n",
      "  Vecinos:\n",
      "   A -> 1\n",
      "   C -> 3\n",
      "   E -> 1\n",
      "   D -> 1\n",
      "\n",
      "\n",
      "Nodo: E\n",
      "  Vecinos:\n",
      "   A -> 2\n",
      "   C -> 3\n",
      "   B -> 2\n",
      "   D -> 2\n",
      "\n",
      "\n",
      "Nodo: D\n",
      "  Vecinos:\n",
      "   C -> 2\n",
      "   B -> 2\n",
      "\n",
      "\n"
     ]
    }
   ],
   "source": [
    "n = 5\n",
    "minw = 1\n",
    "maxw = 3\n",
    "\n",
    "nodes, graph = randomGraph(n, minw, maxw)\n",
    "\n",
    "draw_graph(graph)\n",
    "for node in graph:\n",
    "    print \"Nodo:\", node\n",
    "    print \"  Vecinos:\"\n",
    "    for conect in graph[node]:\n",
    "        print \"  \", conect, \"->\", graph[node][conect]\n",
    "    print \"\\n\""
   ]
  },
  {
   "cell_type": "markdown",
   "metadata": {},
   "source": [
    "<h3>Punto 2</h3>"
   ]
  },
  {
   "cell_type": "markdown",
   "metadata": {},
   "source": [
    "<i>Adapte el algoritmo de Dijkstra para calcular todos los pares de rutas más cortas.</i>"
   ]
  },
  {
   "cell_type": "code",
   "execution_count": 27,
   "metadata": {
    "collapsed": true
   },
   "outputs": [],
   "source": [
    "def find_all_dijkstra(graph):\n",
    "    path = []\n",
    "\n",
    "    for i in range(0, len(nodes)):\n",
    "        path.append(Dijkstra(graph, nodes[i]))\n",
    "    \n",
    "    return path"
   ]
  },
  {
   "cell_type": "code",
   "execution_count": 28,
   "metadata": {
    "collapsed": false
   },
   "outputs": [
    {
     "data": {
      "image/png": "[encoded data removed]",
      "text/plain": [
       "<matplotlib.figure.Figure at 0x7802198>"
      ]
     },
     "metadata": {},
     "output_type": "display_data"
    },
    {
     "name": "stdout",
     "output_type": "stream",
     "text": [
      "Inicio: D\n",
      "  Camino más corto:\n",
      "   {'A': 'B', 'C': 'D', 'B': 'D', 'E': 'C'}\n",
      "  Con pesos de:\n",
      "   {'A': 3, 'C': 2, 'B': 2, 'E': 3, 'D': 0} \n",
      "\n",
      "Inicio: B\n",
      "  Camino más corto:\n",
      "   {'A': 'B', 'C': 'B', 'E': 'B', 'D': 'B'}\n",
      "  Con pesos de:\n",
      "   {'A': 1, 'C': 3, 'B': 0, 'E': 1, 'D': 1} \n",
      "\n",
      "Inicio: E\n",
      "  Camino más corto:\n",
      "   {'A': 'E', 'C': 'E', 'B': 'E', 'D': 'E'}\n",
      "  Con pesos de:\n",
      "   {'A': 2, 'C': 3, 'B': 2, 'E': 0, 'D': 2} \n",
      "\n",
      "Inicio: A\n",
      "  Camino más corto:\n",
      "   {'C': 'A', 'B': 'E', 'E': 'C', 'D': 'E'}\n",
      "  Con pesos de:\n",
      "   {'A': 0, 'C': 2, 'B': 5, 'E': 3, 'D': 5} \n",
      "\n",
      "Inicio: C\n",
      "  Camino más corto:\n",
      "   {'A': 'E', 'B': 'E', 'E': 'C', 'D': 'E'}\n",
      "  Con pesos de:\n",
      "   {'A': 3, 'C': 0, 'B': 3, 'E': 1, 'D': 3} \n",
      "\n"
     ]
    }
   ],
   "source": [
    "path = find_all_dijkstra(graph)\n",
    "\n",
    "draw_graph(graph)\n",
    "    \n",
    "for i in range (0, len(nodes)):\n",
    "    print \"Inicio:\", nodes[i]\n",
    "    print \"  Camino más corto:\"\n",
    "    print \"  \", path[i][1]\n",
    "    print \"  Con pesos de:\"\n",
    "    print \"  \", path[i][0], \"\\n\""
   ]
  },
  {
   "cell_type": "markdown",
   "metadata": {},
   "source": [
    "<h3>Punto 3</h3>"
   ]
  },
  {
   "cell_type": "markdown",
   "metadata": {},
   "source": [
    "<i>Adapte el algoritmo de Bellman-Ford para calcular todos los pares de rutas más cortas.</i>"
   ]
  },
  {
   "cell_type": "code",
   "execution_count": 29,
   "metadata": {
    "collapsed": true
   },
   "outputs": [],
   "source": [
    "def find_all_bellman(graph):\n",
    "    path = []\n",
    "\n",
    "    for i in range(0, len(nodes)):\n",
    "        path.append(BellmanFord(graph, nodes[i]))\n",
    "        \n",
    "    return path"
   ]
  },
  {
   "cell_type": "code",
   "execution_count": 30,
   "metadata": {
    "collapsed": false
   },
   "outputs": [
    {
     "data": {
      "image/png": "[encoded data removed]",
      "text/plain": [
       "<matplotlib.figure.Figure at 0x8d14ef0>"
      ]
     },
     "metadata": {},
     "output_type": "display_data"
    },
    {
     "name": "stdout",
     "output_type": "stream",
     "text": [
      "Inicio: D\n",
      "  Camino más corto:\n",
      "   {'A': 'B', 'C': 'D', 'B': 'D', 'E': 'C'}\n",
      "  Con pesos de:\n",
      "   {'A': 3, 'C': 2, 'B': 2, 'E': 3, 'D': 0} \n",
      "\n",
      "Inicio: B\n",
      "  Camino más corto:\n",
      "   {'A': 'B', 'C': 'B', 'E': 'B', 'D': 'B'}\n",
      "  Con pesos de:\n",
      "   {'A': 1, 'C': 3, 'B': 0, 'E': 1, 'D': 1} \n",
      "\n",
      "Inicio: E\n",
      "  Camino más corto:\n",
      "   {'A': 'E', 'C': 'E', 'B': 'E', 'D': 'E'}\n",
      "  Con pesos de:\n",
      "   {'A': 2, 'C': 3, 'B': 2, 'E': 0, 'D': 2} \n",
      "\n",
      "Inicio: A\n",
      "  Camino más corto:\n",
      "   {'C': 'A', 'B': 'E', 'E': 'C', 'D': 'E'}\n",
      "  Con pesos de:\n",
      "   {'A': 0, 'C': 2, 'B': 5, 'E': 3, 'D': 5} \n",
      "\n",
      "Inicio: C\n",
      "  Camino más corto:\n",
      "   {'A': 'E', 'B': 'E', 'E': 'C', 'D': 'E'}\n",
      "  Con pesos de:\n",
      "   {'A': 3, 'C': 0, 'B': 3, 'E': 1, 'D': 3} \n",
      "\n"
     ]
    }
   ],
   "source": [
    "path = find_all_bellman(graph)\n",
    "    \n",
    "draw_graph(graph)\n",
    "\n",
    "for i in range (0, len(nodes)):\n",
    "    print \"Inicio:\", nodes[i]\n",
    "    print \"  Camino más corto:\"\n",
    "    print \"  \", path[i][1]\n",
    "    print \"  Con pesos de:\"\n",
    "    print \"  \", path[i][0], \"\\n\""
   ]
  },
  {
   "cell_type": "markdown",
   "metadata": {},
   "source": [
    "<h3>Punto 4</h3>"
   ]
  },
  {
   "cell_type": "markdown",
   "metadata": {},
   "source": [
    "<i>Implemente el algoritmo de BFS para calcular todos los pares de rutas más cortas (asumiendo que la longitud de la ruta esta dada por la cantidad de aristas que interviene más no por su peso).</i>"
   ]
  },
  {
   "cell_type": "code",
   "execution_count": 31,
   "metadata": {
    "collapsed": true
   },
   "outputs": [],
   "source": [
    "def shortest_path(graph, start, end):\n",
    "    parents = {}\n",
    "    for parent, child in bfs(graph, start):\n",
    "        parents[child] = parent\n",
    "        if child == end:\n",
    "            revpath = [end]\n",
    "            while True:\n",
    "                parent = parents[child]\n",
    "                revpath.append(parent)\n",
    "                if parent == start:\n",
    "                    break\n",
    "                child = parent\n",
    "            return list(reversed(revpath))\n",
    "    return None\n",
    "\n",
    "def bfs(graph, start):\n",
    "    queue, enqueued = deque([(None, start)]), set([start])\n",
    "    while queue:\n",
    "        parent, n = queue.popleft()\n",
    "        yield parent, n\n",
    "        new = set(graph[n]) - enqueued\n",
    "        enqueued |= new\n",
    "        queue.extend([(n, child) for child in new])"
   ]
  },
  {
   "cell_type": "markdown",
   "metadata": {},
   "source": [
    "Ejemplo:"
   ]
  },
  {
   "cell_type": "code",
   "execution_count": 32,
   "metadata": {
    "collapsed": false
   },
   "outputs": [
    {
     "name": "stdout",
     "output_type": "stream",
     "text": [
      "Camino más corto desde Y a U :\n",
      "['Y', 'S', 'U']\n"
     ]
    },
    {
     "data": {
      "image/png": "[encoded data removed]",
      "text/plain": [
       "<IPython.core.display.Image object>"
      ]
     },
     "execution_count": 32,
     "metadata": {},
     "output_type": "execute_result"
    }
   ],
   "source": [
    "graph_test = {'S': {'U', 'X'},\n",
    "              'U': {'V', 'X'},\n",
    "              'V': {'Y'},\n",
    "              'X':{'U','V','Y'},\n",
    "              'Y':{'S','V'}\n",
    "             }\n",
    "\n",
    "start = \"Y\"\n",
    "end = \"U\"\n",
    "print \"Camino más corto desde\", start, \"a\", end, \":\"\n",
    "print shortest_path(graph_test, start, end)\n",
    "Image(filename='graph--bfs.png')"
   ]
  },
  {
   "cell_type": "markdown",
   "metadata": {},
   "source": [
    "Para todos los nodos:"
   ]
  },
  {
   "cell_type": "code",
   "execution_count": 33,
   "metadata": {
    "collapsed": false
   },
   "outputs": [],
   "source": [
    "def find_all_shortest_path(graph, nodes):\n",
    "    path = []\n",
    "    datas = []\n",
    "    for i in range(0, len(nodes)):\n",
    "        for j in range(0, len(nodes)):\n",
    "            data = []\n",
    "            if nodes[i] != nodes[j]:\n",
    "                data.append(nodes[i])\n",
    "                data.append(nodes[j])\n",
    "                datas.append(data)\n",
    "                path.append(shortest_path(graph, nodes[i], nodes[j]))\n",
    "    \n",
    "    return datas, path"
   ]
  },
  {
   "cell_type": "code",
   "execution_count": 34,
   "metadata": {
    "collapsed": false
   },
   "outputs": [
    {
     "data": {
      "image/png": "[encoded data removed]",
      "text/plain": [
       "<matplotlib.figure.Figure at 0x900d5f8>"
      ]
     },
     "metadata": {},
     "output_type": "display_data"
    },
    {
     "name": "stdout",
     "output_type": "stream",
     "text": [
      "Camino desde D a B :\n",
      "['D', 'B'] \n",
      "\n",
      "Camino desde D a E :\n",
      "['D', 'C', 'E'] \n",
      "\n",
      "Camino desde D a A :\n",
      "['D', 'B', 'A'] \n",
      "\n",
      "Camino desde D a C :\n",
      "['D', 'C'] \n",
      "\n",
      "Camino desde B a D :\n",
      "['B', 'D'] \n",
      "\n",
      "Camino desde B a E :\n",
      "['B', 'E'] \n",
      "\n",
      "Camino desde B a A :\n",
      "['B', 'A'] \n",
      "\n",
      "Camino desde B a C :\n",
      "['B', 'C'] \n",
      "\n",
      "Camino desde E a D :\n",
      "['E', 'D'] \n",
      "\n",
      "Camino desde E a B :\n",
      "['E', 'B'] \n",
      "\n",
      "Camino desde E a A :\n",
      "['E', 'A'] \n",
      "\n",
      "Camino desde E a C :\n",
      "['E', 'C'] \n",
      "\n",
      "Camino desde A a D :\n",
      "['A', 'C', 'E', 'D'] \n",
      "\n",
      "Camino desde A a B :\n",
      "['A', 'C', 'E', 'B'] \n",
      "\n",
      "Camino desde A a E :\n",
      "['A', 'C', 'E'] \n",
      "\n",
      "Camino desde A a C :\n",
      "['A', 'C'] \n",
      "\n",
      "Camino desde C a D :\n",
      "['C', 'E', 'D'] \n",
      "\n",
      "Camino desde C a B :\n",
      "['C', 'E', 'B'] \n",
      "\n",
      "Camino desde C a E :\n",
      "['C', 'E'] \n",
      "\n",
      "Camino desde C a A :\n",
      "['C', 'E', 'A'] \n",
      "\n"
     ]
    }
   ],
   "source": [
    "datas, path =  find_all_shortest_path(graph, nodes)\n",
    "\n",
    "draw_graph(graph)\n",
    "\n",
    "for i in range(0, len(path)):\n",
    "    if path[i] != None:\n",
    "        print \"Camino desde\", datas[i][0], \"a\", datas[i][1], \":\"\n",
    "        print path[i], \"\\n\""
   ]
  },
  {
   "cell_type": "markdown",
   "metadata": {},
   "source": [
    "<h3>Punto 5</h3>"
   ]
  },
  {
   "cell_type": "markdown",
   "metadata": {},
   "source": [
    "<i>Compare experimentalmente los algoritmos incluyendo Floyd-Warshall para grafos aleatorios densos ($\\psi$ cercano a 0) variando linealmente los tamaños de $n$.</i>"
   ]
  },
  {
   "cell_type": "markdown",
   "metadata": {},
   "source": [
    "Conversión de grafo a matriz."
   ]
  },
  {
   "cell_type": "code",
   "execution_count": 35,
   "metadata": {
    "collapsed": false
   },
   "outputs": [],
   "source": [
    "def graph_to_matrix(graph):\n",
    "    mat = np.ones((len(graph), len(graph))) * float('inf')\n",
    "    \n",
    "    for i in range(len(mat)):\n",
    "        mat[i][i] = 0\n",
    "    \n",
    "    for node in graph:\n",
    "        for conect in graph[node]:\n",
    "            mat[graph.keys().index(node), graph.keys().index(conect)] = graph[node][conect]\n",
    "\n",
    "    return mat"
   ]
  },
  {
   "cell_type": "markdown",
   "metadata": {},
   "source": [
    "Crear grafo denso."
   ]
  },
  {
   "cell_type": "code",
   "execution_count": 36,
   "metadata": {
    "collapsed": false
   },
   "outputs": [],
   "source": [
    "def randomGraph_dense(n, minw, maxw):\n",
    "    if n > 26:\n",
    "        n = 26\n",
    "    if n < 1:\n",
    "        n = 1\n",
    "    for x in range(1, n+1):\n",
    "        l1 = [chr(a) for a in rnd.sample(range(65, 65+x), x)]\n",
    "        \n",
    "    l2 = []\n",
    "    for y in range(len(l1)):\n",
    "        l1_c = l1[y+1:len(l1)]\n",
    "        neighbors = rnd.sample(l1_c, rnd.randint(int((len(l1_c))*0.7), int((len(l1_c))*1)))\n",
    "        cost = [rnd.randint(minw, maxw) for r in xrange(len(neighbors))]\n",
    "        l2.append(dict(zip(neighbors, cost)))\n",
    "            \n",
    "    graph = dict(zip(l1, l2))\n",
    "\n",
    "    return l1, graph"
   ]
  },
  {
   "cell_type": "markdown",
   "metadata": {},
   "source": [
    "Ejemplo:"
   ]
  },
  {
   "cell_type": "code",
   "execution_count": 37,
   "metadata": {
    "collapsed": false
   },
   "outputs": [
    {
     "data": {
      "image/png": "[encoded data removed]",
      "text/plain": [
       "<matplotlib.figure.Figure at 0x5fa1f98>"
      ]
     },
     "metadata": {},
     "output_type": "display_data"
    }
   ],
   "source": [
    "nodes, graph = randomGraph_dense(5, 1, 3)\n",
    "\n",
    "draw_graph(graph)"
   ]
  },
  {
   "cell_type": "markdown",
   "metadata": {},
   "source": [
    "Obtener tiempo de ejecución."
   ]
  },
  {
   "cell_type": "code",
   "execution_count": 38,
   "metadata": {
    "collapsed": true
   },
   "outputs": [],
   "source": [
    "def analysis_denseGraph(n):\n",
    "    time_floyd = []\n",
    "    time_dijks = []\n",
    "    time_bell = []\n",
    "    time_bfs = []\n",
    "    timeP = []\n",
    "    \n",
    "    for i in range(1, n+1):\n",
    "        nodes, graph = randomGraph_dense(i, 1, 5)\n",
    "        start = rnd.choice(nodes)\n",
    "        \n",
    "        graph_mat = graph_to_matrix(graph)\n",
    "        \n",
    "        tic = time.clock()\n",
    "        FloydWarshall(graph_mat)\n",
    "        toc = time.clock()\n",
    "        time_floyd.append(toc - tic)\n",
    "        \n",
    "        tic = time.clock()\n",
    "        find_all_dijkstra(graph)\n",
    "        toc = time.clock()\n",
    "        time_dijks.append(toc - tic)\n",
    "        \n",
    "        tic = time.clock()\n",
    "        find_all_bellman(graph)\n",
    "        toc = time.clock()\n",
    "        time_bell.append(toc - tic)\n",
    "        \n",
    "        tic = time.clock()\n",
    "        find_all_shortest_path(graph, nodes)\n",
    "        toc = time.clock()\n",
    "        time_bfs.append(toc - tic)\n",
    "        \n",
    "    timeP = [time_floyd, time_dijks, time_bell, time_bfs]\n",
    "    return timeP"
   ]
  },
  {
   "cell_type": "markdown",
   "metadata": {},
   "source": [
    "<b>Grafica:</b>\n",
    "<br>Azul -> Floyd-Warshall</br>\n",
    "<br>Rojo -> Dijkstra</br>\n",
    "<br>Verde -> Bellman-Ford</br>\n",
    "<br>Amarillo -> BFS</br>"
   ]
  },
  {
   "cell_type": "code",
   "execution_count": 40,
   "metadata": {
    "collapsed": false
   },
   "outputs": [
    {
     "data": {
      "text/plain": [
       "[<matplotlib.lines.Line2D at 0x7da7f98>,\n",
       " <matplotlib.lines.Line2D at 0x7da76a0>,\n",
       " <matplotlib.lines.Line2D at 0x7da7748>,\n",
       " <matplotlib.lines.Line2D at 0x7e00668>]"
      ]
     },
     "execution_count": 40,
     "metadata": {},
     "output_type": "execute_result"
    },
    {
     "data": {
      "image/png": "[encoded data removed]",
      "text/plain": [
       "<matplotlib.figure.Figure at 0x8f77e10>"
      ]
     },
     "metadata": {},
     "output_type": "display_data"
    }
   ],
   "source": [
    "plt.clf()\n",
    "res = analysis_denseGraph(25)\n",
    "x = np.arange(25)\n",
    "y_floyd = np.array(res[0])\n",
    "y_dijks = np.array(res[1])\n",
    "y_bell = np.array(res[2])\n",
    "y_bfs = np.array(res[3])\n",
    "\n",
    "plt.plot(x, y_floyd, 'b', y_dijks, 'r', y_bell, 'g', y_bfs, 'y')"
   ]
  },
  {
   "cell_type": "markdown",
   "metadata": {},
   "source": [
    "<h3>Punto 6</h3>"
   ]
  },
  {
   "cell_type": "markdown",
   "metadata": {},
   "source": [
    "<i>Compare experimentalmente los algoritmos incluyendo Floyd-Warshall para grafos aleatorios dispersos ($\\psi$ cercano a 1) variando linealmente los tamaños de $n$.</i>"
   ]
  },
  {
   "cell_type": "markdown",
   "metadata": {},
   "source": [
    "Crear grafo disperso."
   ]
  },
  {
   "cell_type": "code",
   "execution_count": 41,
   "metadata": {
    "collapsed": true
   },
   "outputs": [],
   "source": [
    "def randomGraph_sparse(n, minw, maxw):\n",
    "    if n > 26:\n",
    "        n = 26\n",
    "    if n < 1:\n",
    "        n = 1\n",
    "    for x in range(1, n+1):\n",
    "        l1 = [chr(n) for n in rnd.sample(range(65, 65+x), x)]\n",
    "        \n",
    "    l2 = []\n",
    "    for y in range(len(l1)):\n",
    "        l1_c = l1[y+1:len(l1)]\n",
    "        neighbors = rnd.sample(l1_c, rnd.randint(int((len(l1_c))*0.6), int((len(l1_c))*0.7)))\n",
    "        cost = [rnd.randint(minw, maxw) for r in xrange(len(neighbors))]\n",
    "        l2.append(dict(zip(neighbors, cost)))\n",
    "            \n",
    "    graph = dict(zip(l1, l2))\n",
    "\n",
    "    return l1, graph"
   ]
  },
  {
   "cell_type": "markdown",
   "metadata": {},
   "source": [
    "Ejemplo:"
   ]
  },
  {
   "cell_type": "code",
   "execution_count": 42,
   "metadata": {
    "collapsed": false
   },
   "outputs": [
    {
     "data": {
      "image/png": "[encoded data removed]",
      "text/plain": [
       "<matplotlib.figure.Figure at 0x9733748>"
      ]
     },
     "metadata": {},
     "output_type": "display_data"
    }
   ],
   "source": [
    "nodes, graph = randomGraph_sparse(5, 1, 3)\n",
    "\n",
    "draw_graph(graph)"
   ]
  },
  {
   "cell_type": "markdown",
   "metadata": {},
   "source": [
    "Obtener tiempo de ejecución."
   ]
  },
  {
   "cell_type": "code",
   "execution_count": 43,
   "metadata": {
    "collapsed": true
   },
   "outputs": [],
   "source": [
    "def analysis_sparseGraph(n):\n",
    "    time_floyd = []\n",
    "    time_dijks = []\n",
    "    time_bell = []\n",
    "    time_bfs = []\n",
    "    timeP = []\n",
    "    \n",
    "    for i in range(1, n+1):\n",
    "        nodes, graph = randomGraph_sparse(i, 1, 5)\n",
    "        start = rnd.choice(nodes)\n",
    "        \n",
    "        graph_mat = graph_to_matrix(graph)\n",
    "        \n",
    "        tic = time.clock()\n",
    "        FloydWarshall(graph_mat)\n",
    "        toc = time.clock()\n",
    "        time_floyd.append(toc - tic)\n",
    "        \n",
    "        tic = time.clock()\n",
    "        find_all_dijkstra(graph)\n",
    "        toc = time.clock()\n",
    "        time_dijks.append(toc - tic)\n",
    "        \n",
    "        tic = time.clock()\n",
    "        find_all_bellman(graph)\n",
    "        toc = time.clock()\n",
    "        time_bell.append(toc - tic)\n",
    "        \n",
    "        tic = time.clock()\n",
    "        find_all_shortest_path(graph, nodes)\n",
    "        toc = time.clock()\n",
    "        time_bfs.append(toc - tic)\n",
    "        \n",
    "    timeP = [time_floyd, time_dijks, time_bell, time_bfs]\n",
    "    return timeP"
   ]
  },
  {
   "cell_type": "markdown",
   "metadata": {
    "collapsed": false
   },
   "source": [
    "<b>Grafica:</b>\n",
    "<br>Azul -> Floyd-Warshall</br>\n",
    "<br>Rojo -> Dijkstra</br>\n",
    "<br>Verde -> Bellman-Ford</br>\n",
    "<br>Amarillo -> BFS</br>"
   ]
  },
  {
   "cell_type": "code",
   "execution_count": 48,
   "metadata": {
    "collapsed": false
   },
   "outputs": [
    {
     "data": {
      "text/plain": [
       "[<matplotlib.lines.Line2D at 0x97f0da0>,\n",
       " <matplotlib.lines.Line2D at 0x97f0588>,\n",
       " <matplotlib.lines.Line2D at 0x97f0470>,\n",
       " <matplotlib.lines.Line2D at 0x94fb9e8>]"
      ]
     },
     "execution_count": 48,
     "metadata": {},
     "output_type": "execute_result"
    },
    {
     "data": {
      "image/png": "[encoded data removed]",
      "text/plain": [
       "<matplotlib.figure.Figure at 0x7818198>"
      ]
     },
     "metadata": {},
     "output_type": "display_data"
    }
   ],
   "source": [
    "plt.clf()\n",
    "res = analysis_denseGraph(25)\n",
    "x = np.arange(25)\n",
    "y_floyd = np.array(res[0])\n",
    "y_dijks = np.array(res[1])\n",
    "y_bell = np.array(res[2])\n",
    "y_bfs = np.array(res[3])\n",
    "\n",
    "plt.plot(x, y_floyd, 'b', y_dijks, 'r', y_bell, 'g', y_bfs, 'y')"
   ]
  },
  {
   "cell_type": "markdown",
   "metadata": {},
   "source": [
    "<h3>Bibliografía</h3>"
   ]
  },
  {
   "cell_type": "markdown",
   "metadata": {},
   "source": [
    "<br>http://stackoverflow.com/questions/20133479/how-to-draw-directed-graphs-using-networkx-in-python</br>\n",
    "<br>http://code.activestate.com/recipes/576675-bfs-breadth-first-search-graph-traversal/</br>"
   ]
  }
 ],
 "metadata": {
  "kernelspec": {
   "display_name": "Python 2",
   "language": "python",
   "name": "python2"
  },
  "language_info": {
   "codemirror_mode": {
    "name": "ipython",
    "version": 2
   },
   "file_extension": ".py",
   "mimetype": "text/x-python",
   "name": "python",
   "nbconvert_exporter": "python",
   "pygments_lexer": "ipython2",
   "version": "2.7.13"
  }
 },
 "nbformat": 4,
 "nbformat_minor": 2
}
