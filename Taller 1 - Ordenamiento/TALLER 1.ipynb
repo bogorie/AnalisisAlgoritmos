{
 "cells": [
  {
   "cell_type": "markdown",
   "metadata": {},
   "source": [
    "<h1>Analizando algoritmos de ordenamiento</h1>"
   ]
  },
  {
   "cell_type": "code",
   "execution_count": 1,
   "metadata": {
    "collapsed": false
   },
   "outputs": [],
   "source": [
    "import math\n",
    "import numpy as np\n",
    "import matplotlib.pyplot as pl\n",
    "import time\n",
    "%matplotlib inline"
   ]
  },
  {
   "cell_type": "markdown",
   "metadata": {},
   "source": [
    "<h2>Problema de ordenamiento</h2>\n",
    "\n",
    "Input:  $A[1..n] = <a_1,a_2\\ldots, a_n>$\n",
    "\n",
    "Output: $A'[1..n] = <a'_1,a'_2\\ldots, a'_n> : a'_1\\leq a'_2 \\leq \\ldots \\leq  a'_n$"
   ]
  },
  {
   "cell_type": "markdown",
   "metadata": {},
   "source": [
    "<h3> Ordenamiento por inserción </h3>"
   ]
  },
  {
   "cell_type": "code",
   "execution_count": 2,
   "metadata": {
    "collapsed": true
   },
   "outputs": [],
   "source": [
    "def insertion_sort(A):\n",
    "    j = 1\n",
    "    while j < len(A):\n",
    "        key = A[j]\n",
    "        i = j - 1\n",
    "        while (i >= 0) and (A[i] > key):\n",
    "            A[i + 1] = A[i]\n",
    "            i = i -1\n",
    "        A[i + 1] = key\n",
    "        j = j + 1"
   ]
  },
  {
   "cell_type": "code",
   "execution_count": 3,
   "metadata": {
    "collapsed": false
   },
   "outputs": [
    {
     "name": "stdout",
     "output_type": "stream",
     "text": [
      "[7 2 9 4 8 5 3 0 6 1]\n",
      "[0 1 2 3 4 5 6 7 8 9]\n"
     ]
    }
   ],
   "source": [
    "B = np.random.permutation(range(0,10))\n",
    "print B\n",
    "insertion_sort(B)\n",
    "print B"
   ]
  },
  {
   "cell_type": "markdown",
   "metadata": {},
   "source": [
    "<h4>Correctitud</h4>\n",
    "\n",
    "<b>Invariante:</b> Al comienzo de cada iteración del ciclo externo el subarreglo $A[0..j-1]$ consiste de los elementos originalmente en $A[0..j-1]$ pero ordenados."
   ]
  },
  {
   "cell_type": "code",
   "execution_count": 4,
   "metadata": {
    "collapsed": true
   },
   "outputs": [],
   "source": [
    "def invariant(A, original_A):\n",
    "    l1 = list(A)\n",
    "    l2 = list(original_A)\n",
    "    l2.sort()\n",
    "    return l1 == l2"
   ]
  },
  {
   "cell_type": "code",
   "execution_count": 5,
   "metadata": {
    "collapsed": false
   },
   "outputs": [
    {
     "name": "stdout",
     "output_type": "stream",
     "text": [
      "True\n",
      "False\n"
     ]
    }
   ],
   "source": [
    "print invariant([1, 2, 3, 4], [4, 3, 2, 1])\n",
    "print invariant([1, 2, 3, 4], [5, 3, 2, 1])"
   ]
  },
  {
   "cell_type": "markdown",
   "metadata": {},
   "source": [
    "Algoritmo de ordenamiento por inserción incluyendo evaluación de la invariante (inicialización, mantenimiento, terminación)"
   ]
  },
  {
   "cell_type": "code",
   "execution_count": 6,
   "metadata": {
    "collapsed": true
   },
   "outputs": [],
   "source": [
    "def right_insertion_sort(A):\n",
    "    original_A = list(A)\n",
    "    j = 1\n",
    "    assert invariant(A[0:j], original_A[0:j])\n",
    "    while j < len(A):\n",
    "        assert invariant(A[0:j], original_A[0:j])\n",
    "        key = A[j]\n",
    "        i = j - 1\n",
    "        while (i >= 0) and (A[i] > key):\n",
    "            A[i + 1] = A[i]\n",
    "            i = i -1        \n",
    "        A[i + 1] = key\n",
    "        j = j + 1\n",
    "    assert invariant(A[0:j], original_A[0:j])"
   ]
  },
  {
   "cell_type": "code",
   "execution_count": null,
   "metadata": {
    "collapsed": false
   },
   "outputs": [
    {
     "name": "stdout",
     "output_type": "stream",
     "text": [
      "[1, 2, 3, 4, 5, 6, 7, 8, 9]\n"
     ]
    }
   ],
   "source": [
    "B = [5, 4, 6, 3, 7, 2, 8, 1, 9]\n",
    "right_insertion_sort(B)\n",
    "print B"
   ]
  },
  {
   "cell_type": "markdown",
   "metadata": {},
   "source": [
    "La siguiente función incluye un error, por lo tanto la aserción para comprobar el invariante de ciclo falla. Esto genera una excepción que es capturada para imprimir un mensaje y el estado de las variables."
   ]
  },
  {
   "cell_type": "code",
   "execution_count": null,
   "metadata": {
    "collapsed": true
   },
   "outputs": [],
   "source": [
    "def wrong_insertion_sort(A):\n",
    "    original_A = list(A)\n",
    "    j = 1\n",
    "    try:\n",
    "        assert invariant(A[0:j], original_A[0:j])\n",
    "        while j < len(A):\n",
    "            assert invariant(A[0:j], original_A[0:j])\n",
    "            key = A[j]\n",
    "            i = j - 1\n",
    "            while (i >= 0) and (A[i] < key):\n",
    "                A[i + 1] = A[i]\n",
    "                i = i - 1        \n",
    "            A[i + 1] = key\n",
    "            j = j + 1\n",
    "        assert invariant(A[0:j], original_A[0:j])\n",
    "    except  AssertionError:\n",
    "        print \"Error en el invariante de ciclo!\"\n",
    "        print \"j=\", j\n",
    "        print \"i=\", i\n",
    "        print \"A=\", A\n",
    "        print \"Original A=\", original_A"
   ]
  },
  {
   "cell_type": "code",
   "execution_count": null,
   "metadata": {
    "collapsed": false
   },
   "outputs": [],
   "source": [
    "B = [5, 4, 6, 3, 7, 2, 8, 1, 9]\n",
    "wrong_insertion_sort(B)"
   ]
  },
  {
   "cell_type": "markdown",
   "metadata": {},
   "source": [
    "<h4> Análisis del tiempo de ejecución</h4>"
   ]
  },
  {
   "cell_type": "code",
   "execution_count": null,
   "metadata": {
    "collapsed": true
   },
   "outputs": [],
   "source": [
    "class Counter:\n",
    "    '''\n",
    "    Class Counter\n",
    "    Implements a step counter, which is used to compute the number of basic operations performed in\n",
    "    a particular call to a function.\n",
    "    '''\n",
    "    def __init__(self):\n",
    "        self.steps = 0\n",
    "\n",
    "    def reset(self):\n",
    "        self.steps = 0\n",
    "\n",
    "    def count(self):\n",
    "        self.steps += 1\n",
    "\n",
    "    def print_steps(self):\n",
    "        print \"Number of steps =\", self.steps\n",
    "        \n",
    "def acct_insertion_sort(A, acct):\n",
    "    j = 1; acct.count()\n",
    "    acct.count()\n",
    "    while j < len(A):\n",
    "        acct.count()\n",
    "        key = A[j]; acct.count()\n",
    "        i = j - 1; acct.count()\n",
    "        acct.count()\n",
    "        while (i >= 0) and (A[i] > key):\n",
    "            acct.count()\n",
    "            A[i + 1] = A[i]; acct.count()\n",
    "            i = i -1; acct.count()\n",
    "        A[i + 1] = key; acct.count()\n",
    "        j = j + 1; acct.count()"
   ]
  },
  {
   "cell_type": "code",
   "execution_count": null,
   "metadata": {
    "collapsed": false
   },
   "outputs": [],
   "source": [
    "B = np.random.permutation(range(0,10))\n",
    "acct = Counter()\n",
    "acct_insertion_sort(B, acct)\n",
    "acct.print_steps()"
   ]
  },
  {
   "cell_type": "markdown",
   "metadata": {},
   "source": [
    "<h4>Análisis experimental</h4>\n",
    "Ahora vamos a analizar el comportamiento del algoritmo cuando el tamaño de la entrada varía. La siguiente función genera arreglos al azar de tamaño 1 a n, llama la función acct_insertion_sort(l, acct) y contabiliza el número de pasos."
   ]
  },
  {
   "cell_type": "code",
   "execution_count": null,
   "metadata": {
    "collapsed": true
   },
   "outputs": [],
   "source": [
    "import random as rnd\n",
    "\n",
    "def exper_analysis(n):\n",
    "    steps = []\n",
    "    timeP = []\n",
    "    acct = Counter()\n",
    "    for i in range(n):\n",
    "        l = range(i)\n",
    "        rnd.shuffle(l)\n",
    "        acct.reset()\n",
    "        tic = time.clock()\n",
    "        acct_insertion_sort(l, acct)\n",
    "        toc = time.clock()\n",
    "        timeP.append(toc - tic)\n",
    "        steps.append(acct.steps)\n",
    "        \n",
    "    results = [steps, timeP]\n",
    "    return results"
   ]
  },
  {
   "cell_type": "code",
   "execution_count": null,
   "metadata": {
    "collapsed": false
   },
   "outputs": [],
   "source": [
    "print exper_analysis(10)"
   ]
  },
  {
   "cell_type": "code",
   "execution_count": null,
   "metadata": {
    "collapsed": false
   },
   "outputs": [],
   "source": [
    "pl.clf()\n",
    "x = np.arange(100)\n",
    "res = exper_analysis(100)\n",
    "y = np.array(res[0])\n",
    "pl.plot(x, y, 'k.')"
   ]
  },
  {
   "cell_type": "markdown",
   "metadata": {},
   "source": [
    "#Actividad\n",
    " <ol>\n",
    "  <li>En una sola gráfica represente el número de operaciones, tiempo y T(n) que el algoritmo de ordenamiento por inserción requiere para ordenar arreglos de tamaño n (varie n) en el peor de los casos.</li>\n",
    "  <li>Replique los ejercicios realizados en este taller para el algoritmo de ordenamiento por mezclas (merge sort)</li>\n",
    "  <li>Replique los ejercicios realizados en este taller para el algoritmo de ordenamiento quick-sort</li>\n",
    "</ol> "
   ]
  },
  {
   "cell_type": "markdown",
   "metadata": {
    "collapsed": false
   },
   "source": [
    "<h1>Solución Taller</h1>"
   ]
  },
  {
   "cell_type": "markdown",
   "metadata": {},
   "source": [
    "<h2>Merge Sort</h2>"
   ]
  },
  {
   "cell_type": "markdown",
   "metadata": {},
   "source": [
    "<h3>1. Invariante</h3>"
   ]
  },
  {
   "cell_type": "markdown",
   "metadata": {},
   "source": [
    "Este invariante verifica si los sub rarreglos que se dividio en el merge sort verifique si se los ordeno correctamente."
   ]
  },
  {
   "cell_type": "code",
   "execution_count": null,
   "metadata": {
    "collapsed": false
   },
   "outputs": [],
   "source": [
    "def invariant_merge(A):\n",
    "    l1 = list(A)\n",
    "    l2 = list(A)\n",
    "    l2.sort()\n",
    "    return l1==l2"
   ]
  },
  {
   "cell_type": "code",
   "execution_count": null,
   "metadata": {
    "collapsed": false
   },
   "outputs": [],
   "source": [
    "print invariant_merge([1,2,3,4,5])\n",
    "print invariant_merge([1,9,7,5,2])"
   ]
  },
  {
   "cell_type": "markdown",
   "metadata": {},
   "source": [
    "El siguente codigo del merge sort tiene error en el momento de ordenar el arreglo, por lo tanto lanza una exceccion."
   ]
  },
  {
   "cell_type": "code",
   "execution_count": null,
   "metadata": {
    "collapsed": false
   },
   "outputs": [],
   "source": [
    "import random as rnd\n",
    "import math\n",
    "\n",
    "def merge_sort_error(A):\n",
    "    try:\n",
    "        if len(A) > 1:\n",
    "            mid = int(len(A)/2)\n",
    "            lefthalf = A[:mid]\n",
    "            righthalf = A[mid:]\n",
    "\n",
    "            merge_sort_error(lefthalf)\n",
    "            merge_sort_error(righthalf)\n",
    "\n",
    "            i=0\n",
    "            j=0\n",
    "            k=0\n",
    "\n",
    "            while i < len(lefthalf) and j < len(righthalf):\n",
    "                if lefthalf[i] > righthalf[j]:\n",
    "                    A[k]=lefthalf[i]\n",
    "                    assert invariant_merge(A[0:k])\n",
    "                    i=i+1\n",
    "                else:\n",
    "                    A[k]=righthalf[j]\n",
    "                    assert invariant_merge(A[0:k])\n",
    "                    j=j+1\n",
    "\n",
    "                k=k+1\n",
    "\n",
    "            while i < len(lefthalf):\n",
    "                A[k]=lefthalf[i]\n",
    "                assert invariant_merge(A[0:k])\n",
    "                i=i+1\n",
    "                k=k+1\n",
    "\n",
    "            while j < len(righthalf):\n",
    "                A[k]=righthalf[j]\n",
    "                assert invariant_merge(A[0:k])\n",
    "                j=j+1\n",
    "                k=k+1\n",
    "    except  AssertionError:\n",
    "        print \"Error en el ordenamiento del siguiente arreglo: \"\n",
    "        print A[0:k]"
   ]
  },
  {
   "cell_type": "code",
   "execution_count": null,
   "metadata": {
    "collapsed": false
   },
   "outputs": [],
   "source": [
    "B = np.random.permutation(range(0,10)).tolist()\n",
    "merge_sort_error(B)"
   ]
  },
  {
   "cell_type": "markdown",
   "metadata": {},
   "source": [
    "<h3>2. Ordenamiento</h3>"
   ]
  },
  {
   "cell_type": "markdown",
   "metadata": {},
   "source": [
    "El siguiente algoritmo se realiza el merge sort."
   ]
  },
  {
   "cell_type": "code",
   "execution_count": null,
   "metadata": {
    "collapsed": false
   },
   "outputs": [],
   "source": [
    "import random as rnd\n",
    "import math\n",
    "\n",
    "def merge_sort(A, acct):\n",
    "    try:\n",
    "        if len(A) > 1:\n",
    "            acct.count()\n",
    "            mid = int(len(A)/2); acct.count()\n",
    "            lefthalf = A[:mid]; acct.count()\n",
    "            righthalf = A[mid:]; acct.count()\n",
    "\n",
    "            merge_sort(lefthalf, acct)\n",
    "            merge_sort(righthalf, acct)\n",
    "\n",
    "            i=0; acct.count()\n",
    "            j=0; acct.count()\n",
    "            k=0; acct.count()\n",
    "\n",
    "            while i < len(lefthalf) and j < len(righthalf):\n",
    "                acct.count()\n",
    "                if lefthalf[i] < righthalf[j]:\n",
    "                    acct.count()\n",
    "                    A[k]=lefthalf[i]; acct.count()\n",
    "                    assert invariant_merge(A[0:k])\n",
    "                    i=i+1; acct.count()\n",
    "                else:\n",
    "                    acct.count()\n",
    "                    A[k]=righthalf[j]; acct.count()\n",
    "                    assert invariant_merge(A[0:k])\n",
    "                    j=j+1; acct.count()\n",
    "\n",
    "                k=k+1; acct.count()\n",
    "\n",
    "            while i < len(lefthalf):\n",
    "                acct.count()\n",
    "                A[k]=lefthalf[i]; acct.count()\n",
    "                assert invariant_merge(A[0:k])\n",
    "                i=i+1; acct.count()\n",
    "                k=k+1; acct.count()\n",
    "\n",
    "            while j < len(righthalf):\n",
    "                acct.count()\n",
    "                A[k]=righthalf[j]; acct.count()\n",
    "                assert invariant_merge(A[0:k])\n",
    "                j=j+1; acct.count()\n",
    "                k=k+1; acct.count()\n",
    "    except  AssertionError:\n",
    "        print \"Error en el ordenamiento el siguiente arreglo: \"\n",
    "        print A[0:k]"
   ]
  },
  {
   "cell_type": "markdown",
   "metadata": {},
   "source": [
    "El siguiente codigo, prueba el algoritmos 100 veces y guarda en un arreglo las cantides de instrucciones para cada arreglo."
   ]
  },
  {
   "cell_type": "code",
   "execution_count": null,
   "metadata": {
    "collapsed": true
   },
   "outputs": [],
   "source": [
    "def exper_analysis_merge(n):\n",
    "    steps = []\n",
    "    timeP = []\n",
    "    comp = []\n",
    "    acct = Counter()\n",
    "    for i in range(n):\n",
    "        if i==0:\n",
    "            comp.append(0)\n",
    "        else:\n",
    "            comp.append(i*(math.log(i)))\n",
    "        l = range(i)\n",
    "        rnd.shuffle(l)\n",
    "        acct.reset()\n",
    "        tic = time.clock()\n",
    "        merge_sort(l, acct)\n",
    "        toc = time.clock()\n",
    "        timeP.append(toc - tic)\n",
    "        steps.append(acct.steps)\n",
    "        \n",
    "    results = [steps, timeP, comp]\n",
    "    return results"
   ]
  },
  {
   "cell_type": "markdown",
   "metadata": {},
   "source": [
    "<h3>3. Grafica</h3>"
   ]
  },
  {
   "cell_type": "markdown",
   "metadata": {},
   "source": [
    "<b>Negro:</b> Operaciones\n",
    "\n",
    "<b>Rojo :</b> Tiempo\n",
    "\n",
    "<b>Azul :</b> Complejidad (nlogn)"
   ]
  },
  {
   "cell_type": "code",
   "execution_count": null,
   "metadata": {
    "collapsed": false
   },
   "outputs": [],
   "source": [
    "pl.clf()\n",
    "x = np.arange(100)\n",
    "res = exper_analysis_merge(100)\n",
    "y = np.array(res[0])\n",
    "h = np.array(res[1]) * 100000\n",
    "c = np.array(res[2]) * 5\n",
    "\n",
    "pl.plot(x, y, 'k.', h, 'r.', c, '.')"
   ]
  },
  {
   "cell_type": "markdown",
   "metadata": {},
   "source": [
    "<h2>Quick Sort</h2>"
   ]
  },
  {
   "cell_type": "markdown",
   "metadata": {},
   "source": [
    "<h3>1. Invariante</h3>"
   ]
  },
  {
   "cell_type": "markdown",
   "metadata": {},
   "source": [
    "Esta invariante se mira si el pivote actual es mayor que los elementos que estan a la izquierda y menor que los elementos que estan a la derecha del pivote."
   ]
  },
  {
   "cell_type": "code",
   "execution_count": null,
   "metadata": {
    "collapsed": true
   },
   "outputs": [],
   "source": [
    "def invariant_quick(A, pivot):\n",
    "    right = list(A[(pivot+1):])\n",
    "    left = list(A[:(pivot-1)])\n",
    "    pivot_value = A[pivot]\n",
    "    right_correct = True\n",
    "    left_correct = True\n",
    "    \n",
    "    for i in range(0, len(right)):\n",
    "        if right[i] < pivot_value:\n",
    "            right_correct = False\n",
    "    \n",
    "    for i in range(0, len(left)):\n",
    "        if left[i] > pivot_value:\n",
    "            left_correct = False\n",
    "            \n",
    "    if right_correct and left_correct:\n",
    "        return True\n",
    "    else:\n",
    "        return False"
   ]
  },
  {
   "cell_type": "code",
   "execution_count": null,
   "metadata": {
    "collapsed": false
   },
   "outputs": [],
   "source": [
    "print invariant_quick([1,2,3,4,5], 2)\n",
    "print invariant_quick([1,3,7,5,2], 2)"
   ]
  },
  {
   "cell_type": "markdown",
   "metadata": {},
   "source": [
    "El siguente codigo del quick sort tiene error en el momento de ordenar el arreglo, por lo tanto lanza una exceccion."
   ]
  },
  {
   "cell_type": "code",
   "execution_count": null,
   "metadata": {
    "collapsed": false
   },
   "outputs": [],
   "source": [
    "\n",
    "import random as rnd\n",
    "        \n",
    "def partition_err(A, begin, end):\n",
    "    try:\n",
    "        pivot = begin\n",
    "        for i in xrange(begin+1, end+1):\n",
    "            if A[i] >= A[begin]:\n",
    "                pivot += 1; acct.count()\n",
    "                A[i], A[pivot] = A[pivot], A[i]\n",
    "        A[pivot], A[begin] = A[begin], A[pivot]\n",
    "        assert invariant_quick(A, pivot)\n",
    "        return pivot\n",
    "    except  AssertionError:\n",
    "        print \"Algunos del \", A[:(pivot-1)], \" no es menor que \", A[pivot]\n",
    "        print \"Algunos del \", A[(pivot+1):], \" no es mayor que \", A[pivot]\n",
    "\n",
    "def quicksort_start_err(A, begin, end):\n",
    "    try:\n",
    "        if end is None:\n",
    "            end = len(A) - 1\n",
    "        if begin >= end:\n",
    "            return\n",
    "        pivot = partition_err(A, begin, end)\n",
    "        quicksort_start_err(A, begin, pivot-1)\n",
    "        quicksort_start_err(A, pivot+1, end)\n",
    "    except:\n",
    "        print \"Error en la verificacion del pivote\"\n",
    "        \n",
    "def quick_sort_error(A):\n",
    "    quicksort_start_err(A, 0, None)"
   ]
  },
  {
   "cell_type": "code",
   "execution_count": null,
   "metadata": {
    "collapsed": false
   },
   "outputs": [],
   "source": [
    "B = np.random.permutation(range(0,10))\n",
    "quick_sort_error(B)"
   ]
  },
  {
   "cell_type": "markdown",
   "metadata": {},
   "source": [
    "<h3>2. Ordenamiento</h3>"
   ]
  },
  {
   "cell_type": "markdown",
   "metadata": {},
   "source": [
    "El siguiente algoritmo se realiza el quick sort."
   ]
  },
  {
   "cell_type": "code",
   "execution_count": null,
   "metadata": {
    "collapsed": false
   },
   "outputs": [],
   "source": [
    "import random as rnd\n",
    "        \n",
    "def partition(A, begin, end, acct):\n",
    "    try:\n",
    "        pivot = begin\n",
    "        for i in xrange(begin+1, end+1):\n",
    "            acct.count()\n",
    "            if A[i] <= A[begin]:\n",
    "                acct.count()\n",
    "                pivot += 1; acct.count()\n",
    "                A[i], A[pivot] = A[pivot], A[i]; acct.count()\n",
    "        A[pivot], A[begin] = A[begin], A[pivot]; acct.count()\n",
    "        return pivot\n",
    "    except  AssertionError:\n",
    "        print \"Algunos del \", A[:(pivot-1)], \" no es menor que \", A[pivot]\n",
    "        print \"Algunos del \", A[(pivot+1):], \" no es mayor que \", A[pivot]\n",
    "\n",
    "def quicksort_start(A, begin, end, acct):\n",
    "    try:\n",
    "        if end is None:\n",
    "            acct.count()\n",
    "            end = len(A) - 1\n",
    "        if begin >= end:\n",
    "            acct.count()\n",
    "            return\n",
    "        pivot = partition(A, begin, end, acct); acct.count()\n",
    "        quicksort_start(A, begin, pivot-1, acct); acct.count()\n",
    "        quicksort_start(A, pivot+1, end, acct); acct.count()\n",
    "    except:\n",
    "        print \"Error en la verificacion del pivote\"\n",
    "    \n",
    "def quick_sort(A, acct):\n",
    "    quicksort_start(A, 0, None, acct)"
   ]
  },
  {
   "cell_type": "markdown",
   "metadata": {},
   "source": [
    "El siguiente codigo, prueba el algoritmos 100 veces y guarda en un arreglo las cantides de instrucciones para cada arreglo."
   ]
  },
  {
   "cell_type": "code",
   "execution_count": null,
   "metadata": {
    "collapsed": true
   },
   "outputs": [],
   "source": [
    "def exper_analysis_quick(n):\n",
    "    steps = []\n",
    "    timeP = []\n",
    "    comp = []\n",
    "    acct = Counter()\n",
    "    for i in range(n):\n",
    "        comp.append(i*i)\n",
    "        l = range(i)\n",
    "        rnd.shuffle(l)\n",
    "        acct.reset()\n",
    "        tic = time.clock()\n",
    "        quick_sort(l, acct)\n",
    "        toc = time.clock()\n",
    "        timeP.append(toc - tic)\n",
    "        steps.append(acct.steps)\n",
    "        \n",
    "    results = [steps, timeP, comp]\n",
    "    return results"
   ]
  },
  {
   "cell_type": "markdown",
   "metadata": {},
   "source": [
    "<h3>3. Grafica</h3>"
   ]
  },
  {
   "cell_type": "markdown",
   "metadata": {},
   "source": [
    "<b>Negro:</b> Operaciones\n",
    "\n",
    "<b>Rojo :</b> Tiempo\n",
    "\n",
    "<b>Azul :</b> Complejidad (n^2)"
   ]
  },
  {
   "cell_type": "code",
   "execution_count": null,
   "metadata": {
    "collapsed": false
   },
   "outputs": [],
   "source": [
    "pl.clf()\n",
    "x = np.arange(100)\n",
    "res = exper_analysis_quick(100)\n",
    "y = np.array(res[0])\n",
    "h = np.array(res[1]) * 1000000\n",
    "c = np.array(res[2])\n",
    "\n",
    "pl.plot(x, y, 'k.', h, 'r.', c, '.')"
   ]
  }
 ],
 "metadata": {
  "anaconda-cloud": {},
  "kernelspec": {
   "display_name": "Python 2",
   "language": "python",
   "name": "python2"
  },
  "language_info": {
   "codemirror_mode": {
    "name": "ipython",
    "version": 2
   },
   "file_extension": ".py",
   "mimetype": "text/x-python",
   "name": "python",
   "nbconvert_exporter": "python",
   "pygments_lexer": "ipython2",
   "version": "2.7.13"
  }
 },
 "nbformat": 4,
 "nbformat_minor": 0
}
