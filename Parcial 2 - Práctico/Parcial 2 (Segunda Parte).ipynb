{
 "cells": [
  {
   "cell_type": "markdown",
   "metadata": {},
   "source": [
    "<h1>Parcial 2 (Segunda Parte)</h1>\n",
    "<h3>Rie Kaneko Bojacá</h3>"
   ]
  },
  {
   "cell_type": "code",
   "execution_count": 1,
   "metadata": {
    "collapsed": true
   },
   "outputs": [],
   "source": [
    "import numpy as np\n",
    "import random as rnd\n",
    "import string\n",
    "import matplotlib.pyplot as pl\n",
    "import time\n",
    "%matplotlib inline"
   ]
  },
  {
   "cell_type": "markdown",
   "metadata": {},
   "source": [
    "<h5>Código con Ciclo Anidados</h5>"
   ]
  },
  {
   "cell_type": "code",
   "execution_count": 2,
   "metadata": {
    "collapsed": true
   },
   "outputs": [],
   "source": [
    "def levenshtein(str1, str2):\n",
    "    n = len(str1)\n",
    "    m = len(str2)\n",
    "    d = np.zeros((n+1,m+1))\n",
    "    \n",
    "    for i in range(n+1):\n",
    "        d[i][0] = i\n",
    "    for i in range(m+1):\n",
    "        d[0][i] = i\n",
    "    \n",
    "    for i in range(1, n+1):\n",
    "        for j in range(1, m+1):\n",
    "            if str1[i-1] == str2[j-1]:\n",
    "                a = 0\n",
    "            else:\n",
    "                a = 1\n",
    "            d[i][j] = min(d[i][j-1]+3, d[i-1][j]+2, d[i-1][j-1]+(a*4))\n",
    "            \n",
    "    return d[n][m]"
   ]
  },
  {
   "cell_type": "markdown",
   "metadata": {},
   "source": [
    "<h4>1. Es posible transformar $algorithm$ en $analysis$ sin usar operaciones \"izquierda\". Escriba una secuencia de operaciones que tenga el mismo costo que el mostrado en el ejemplo pero sin usar operaciones \"izquierda\".</h4>"
   ]
  },
  {
   "cell_type": "markdown",
   "metadata": {},
   "source": [
    "    Operación               Z               Costo               Total\n",
    "-------------------------------------------------------------------------\n",
    "    Inicialización       algorithm            0                   0\n",
    "    Derecha              algorithm            0                   0\n",
    "    insertar(n)          anlgorithm           3                   3\n",
    "    insertar(a)          analgorithm          3                   6\n",
    "    Derecha              analgorithm          0                   6\n",
    "    reemplazar(g->y)     analyorithm          4                   10\n",
    "    reemplazar(o->s)     analysrithm          4                   14\n",
    "    reemplazar(r->i)     analysiithm          4                   18\n",
    "    reemplazar(i->s)     analysisthm          4                   22\n",
    "    eliminar(t)          analysishm           2                   24\n",
    "    eliminar(h)          analysism            2                   26\n",
    "    eliminar(m)          analysis             2                   28"
   ]
  },
  {
   "cell_type": "markdown",
   "metadata": {},
   "source": [
    "<h4>2. Muestre que para dos cadenas x y y con distancia de edición $d(x, y)$, existe una secuencia S de operaciones que transforman x en y con costo $d(x, y)$ donde S no contiene operaciones \"izquierda\".</h4>"
   ]
  },
  {
   "cell_type": "markdown",
   "metadata": {},
   "source": [
    "Para no utilizar el opción \"izquierdo\", se recorre carácter por carácter de la opción \"derecha\" y se verifica si el caracter que esta en la primera palabra $z$ coinside con el caracter de la segunda ( $y$ ). \n",
    "\n",
    "1. En el caso de que son inguales ( $z[i]=y[i]$ ), no se hace nada y va al siguiente caracter. \n",
    "2. En el caso de que no ( $z[i]!=y[i]$ ), se revisa si el carácter $z[i]$ exitsa en algún posición de la palabra $y$ ( $z[i]=y[k]$ ) \n",
    "3. Si $z[i]=y[k]$ y $i<k$, entonces se hace la opción \"insertar\" siempre y cuando no exita caracteres intermedios en la primera palabra ( $z$ ) lo que está entre el caracter $y[i]$ y $y[k]$.\n",
    "4. En el caso de que no cumpla lo anterior, pero igual existen uno o más caracteres, se hace la opción \"reemplazar\".\n",
    "5. Si sobra algún caracter en la palabra $z$ que no tenga la palabra $y$, se elige la opción \"eliminar\"."
   ]
  },
  {
   "cell_type": "markdown",
   "metadata": {},
   "source": [
    "<h4>3. Muestre que el problema de calcular la distancia de edición $d(x, y)$ presenta una subestructura óptima.</h4>"
   ]
  },
  {
   "cell_type": "markdown",
   "metadata": {},
   "source": [
    "El código de distancia en programación dinámica se maneja una sub-estructura óptima la cual se basa en Bottom up. Este algoritmo analiza y compara las palábras de izquierda a derecha, poniendo los costos en la matriz creada (nxm) inicialmente dependiendo de los tres posibles cambios escogiendo siempre el de costo mínimo.\n",
    "1. Eliminación, con el costo de 2\n",
    "2. Insersión, con el costo de 3\n",
    "2. Cambio, con el costo de 4\n",
    "\n",
    "Una vez se realiza nxm iteraciónes, el valor mínimo total será asignado a la última celda de la matriz, y este valor es retornado."
   ]
  },
  {
   "cell_type": "markdown",
   "metadata": {},
   "source": [
    "<h4>4. Recursivamente de\f",
    "na el valor de la distancia de edición $d(x, y)$ en terminos de los sufíjos de las cadenas $x$ y $y$. Señale como la distancia de edición contiene sobre la apamiento de los subproblemas.</h4>"
   ]
  },
  {
   "cell_type": "markdown",
   "metadata": {},
   "source": [
    "El código recursivo también se realiza en Bottom up a igual que el algoritmo implementado por ciclo anidados, pero se analiza y compará de derecha a izquierda. Este algoritmo cuenta con dos casos bases cuales hacen referencia cuando algunas de las dos paláblas es vacía. Cuando uno de estos casos sucede, se retorna la longitud de la palábra opuesta hasta el primer llamado recursivo donde al igual que el otro algoritmo, se va a evaluando los tres posibles cambios, escogiendo siempre el costo menor.\n",
    "\n",
    "Allí es donde se ve sobre apamiento de los problemas porque se necesita que los tres llamados de la función realizados retorne el debido valor y así escoger el costo mínimo total."
   ]
  },
  {
   "cell_type": "markdown",
   "metadata": {},
   "source": [
    "<h5>Código con Recurrencia</h5>"
   ]
  },
  {
   "cell_type": "code",
   "execution_count": 3,
   "metadata": {
    "collapsed": true
   },
   "outputs": [],
   "source": [
    "def levenshtein_rec(a, b):\n",
    "    if(\"\" == a):\n",
    "        return len(b)\n",
    "    if(\"\" == b):\n",
    "        return len(a)\n",
    "    return min(lev(a[:-1], b[:-1])+(a[-1] != b[-1])*4, lev(a[:-1], b)+2, lev(a, b[:-1])+3)"
   ]
  },
  {
   "cell_type": "markdown",
   "metadata": {},
   "source": [
    "<h4>5. Describa un algoritmo de programación dinámica que calcule la distancia de edición de $x$ y $y$. Analise el tiempo de ejecución y el espacio requeridos por su algoritmo.</h4>"
   ]
  },
  {
   "cell_type": "markdown",
   "metadata": {},
   "source": [
    "El tiempo de ejección del algoritmo de programación dinámica es de $O(nxm)$ en donde la longitud de la primera palabra es $n$ y $m$ la longitud de la segunda. Esto pasa por que se compara carácter por carácter, evaluando los tres casos posibles (eliminacion, inserción y cambio) dentro del ciclo anidados. \n",
    "De la misma manera el gasto de memória para este algoritmo es de $O(nxm)$ porque este código hace uso de una matriz de $n$ filas por $m$ columnas, lo cual va a llenando diagonalmente según los costos."
   ]
  },
  {
   "cell_type": "code",
   "execution_count": 4,
   "metadata": {
    "collapsed": true
   },
   "outputs": [],
   "source": [
    "def analysis_time(n):\n",
    "    timeP = []\n",
    "    for i in range(n):\n",
    "        word1 = ''.join(rnd.choice(string.ascii_uppercase) for _ in range(i))\n",
    "        word2 = ''.join(rnd.choice(string.ascii_uppercase) for _ in range(i))\n",
    "        \n",
    "        tic = time.clock()\n",
    "        levenshtein(word1, word2)\n",
    "        toc = time.clock()\n",
    "        timeP.append(toc - tic)\n",
    "        \n",
    "    return timeP"
   ]
  },
  {
   "cell_type": "code",
   "execution_count": 5,
   "metadata": {
    "collapsed": false
   },
   "outputs": [
    {
     "data": {
      "text/plain": [
       "[<matplotlib.lines.Line2D at 0x76fe390>]"
      ]
     },
     "execution_count": 5,
     "metadata": {},
     "output_type": "execute_result"
    },
    {
     "data": {
      "image/png": "[encoded data removed]",
      "text/plain": [
       "<matplotlib.figure.Figure at 0x77488d0>"
      ]
     },
     "metadata": {},
     "output_type": "display_data"
    }
   ],
   "source": [
    "pl.clf()\n",
    "res = analysis_time(100)\n",
    "x = np.arange(100)\n",
    "y = np.array(res)\n",
    "\n",
    "pl.plot(x, y)"
   ]
  },
  {
   "cell_type": "markdown",
   "metadata": {},
   "source": [
    "<h4>6. Implemente su algoritmo en Python, y publiquelo en un NoteBook donde lo pruebe para las cadenas:<br>$x = software engineering$ <br>$y = computer science$</h4>"
   ]
  },
  {
   "cell_type": "code",
   "execution_count": 6,
   "metadata": {
    "collapsed": false,
    "scrolled": true
   },
   "outputs": [
    {
     "name": "stdout",
     "output_type": "stream",
     "text": [
      "44.0\n"
     ]
    }
   ],
   "source": [
    "x = \"software engineering\"\n",
    "y = \"computer science\"\n",
    "print levenshtein(x, y)"
   ]
  },
  {
   "cell_type": "markdown",
   "metadata": {},
   "source": [
    "<h4>7. Ejecute su programa para las tres instancias proveidas en 3 archivos de texto plano, donde cada archivo contiene las siguientes cuatro líneas:<br>\n",
    "(a) El número de caracteres $m$ en la cadena $x$.<br>\n",
    "(b) La cadena $x$<br>\n",
    "(c) El número de caracteres $n$ en la cadena $y$.<br>\n",
    "(d) La cadena $y$.</h4>"
   ]
  },
  {
   "cell_type": "code",
   "execution_count": 7,
   "metadata": {
    "collapsed": true
   },
   "outputs": [],
   "source": [
    "def levenshtein_text(str1, str2, n, m):\n",
    "    d = np.zeros((n+1,m+1))\n",
    "    \n",
    "    for i in range(n+1):\n",
    "        d[i][0] = i\n",
    "    for i in range(m+1):\n",
    "        d[0][i] = i\n",
    "    \n",
    "    for i in range(1, n+1):\n",
    "        for j in range(1, m+1):\n",
    "            if str1[i-1] == str2[j-1]:\n",
    "                a = 0\n",
    "            else:\n",
    "                a = 1\n",
    "            d[i][j] = min(d[i][j-1]+3, d[i-1][j]+2, d[i-1][j-1]+(a*4))\n",
    "            \n",
    "    return d[n][m]"
   ]
  },
  {
   "cell_type": "code",
   "execution_count": 8,
   "metadata": {
    "collapsed": true
   },
   "outputs": [],
   "source": [
    "def open_text(name):\n",
    "    myfile = open(name)\n",
    "    mytext = []\n",
    "    for line in myfile:\n",
    "        mytext.append(line)\n",
    "    myfile.close()\n",
    "    return mytext"
   ]
  },
  {
   "cell_type": "markdown",
   "metadata": {},
   "source": [
    "<h4>Instance</h4>"
   ]
  },
  {
   "cell_type": "code",
   "execution_count": 9,
   "metadata": {
    "collapsed": false
   },
   "outputs": [
    {
     "name": "stdout",
     "output_type": "stream",
     "text": [
      "Distancia:  1601.0\n"
     ]
    }
   ],
   "source": [
    "mytext = open_text('ps7_input1.txt')\n",
    "print \"Distancia: \", levenshtein_text(mytext[1], mytext[3], int(mytext[0]), int(mytext[2]))"
   ]
  },
  {
   "cell_type": "code",
   "execution_count": 10,
   "metadata": {
    "collapsed": false
   },
   "outputs": [
    {
     "name": "stdout",
     "output_type": "stream",
     "text": [
      "Distancia:  1687.0\n"
     ]
    }
   ],
   "source": [
    "mytext = open_text('ps7_input2.txt')\n",
    "print \"Distancia: \", levenshtein_text(mytext[1], mytext[3], int(mytext[0]), int(mytext[2]))"
   ]
  },
  {
   "cell_type": "code",
   "execution_count": 11,
   "metadata": {
    "collapsed": false
   },
   "outputs": [
    {
     "name": "stdout",
     "output_type": "stream",
     "text": [
      "Distancia:  1431.0\n"
     ]
    }
   ],
   "source": [
    "mytext = open_text('ps7_input3.txt')\n",
    "print \"Distancia: \", levenshtein_text(mytext[1], mytext[3], int(mytext[0]), int(mytext[2]))"
   ]
  }
 ],
 "metadata": {
  "anaconda-cloud": {},
  "kernelspec": {
   "display_name": "Python [default]",
   "language": "python",
   "name": "python2"
  },
  "language_info": {
   "codemirror_mode": {
    "name": "ipython",
    "version": 2
   },
   "file_extension": ".py",
   "mimetype": "text/x-python",
   "name": "python",
   "nbconvert_exporter": "python",
   "pygments_lexer": "ipython2",
   "version": "2.7.12"
  }
 },
 "nbformat": 4,
 "nbformat_minor": 2
}
