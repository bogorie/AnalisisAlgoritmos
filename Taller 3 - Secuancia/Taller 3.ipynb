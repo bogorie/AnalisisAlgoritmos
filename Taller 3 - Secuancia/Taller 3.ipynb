{
 "cells": [
  {
   "cell_type": "markdown",
   "metadata": {},
   "source": [
    "<h1>La subsecuencia de suma máxima</h1>"
   ]
  },
  {
   "cell_type": "markdown",
   "metadata": {},
   "source": [
    "Dados n enteros a_1,a_2,...,a_n, necesitamos encontrar el valor de la expresión:\n",
    "\n",
    "$max_{1≤ i≤ j ≤n}{\\sum_{k=i}^ja_k}$\n",
    "\n",
    "que calcula el máximo de las sumas parciales de elementos consecutivos. "
   ]
  },
  {
   "cell_type": "markdown",
   "metadata": {},
   "source": [
    "<h3>1. Algoritmo trivial para solucionar el problema en tiempo $O(n$<sup>$3$</sup>$)$</h3>"
   ]
  },
  {
   "cell_type": "code",
   "execution_count": 1,
   "metadata": {
    "collapsed": true
   },
   "outputs": [],
   "source": [
    "def secuencia(A):\n",
    "    max = 0\n",
    "    for i in range(0, len(A)-1):\n",
    "        for j in range(i+1, len(A)):\n",
    "            sum = A[j]\n",
    "            for k in range(i+1, j):\n",
    "                sum += A[k]\n",
    "            if sum > max:\n",
    "                max = sum\n",
    "    return max"
   ]
  },
  {
   "cell_type": "markdown",
   "metadata": {},
   "source": [
    "Test:"
   ]
  },
  {
   "cell_type": "code",
   "execution_count": 2,
   "metadata": {
    "collapsed": false
   },
   "outputs": [
    {
     "name": "stdout",
     "output_type": "stream",
     "text": [
      "Secuencia de suma máxima:  20\n"
     ]
    }
   ],
   "source": [
    "A = [-2,11,-4,13,-5,-2]\n",
    "print \"Secuencia de suma máxima: \", secuencia(A)"
   ]
  },
  {
   "cell_type": "markdown",
   "metadata": {},
   "source": [
    "<h3>2. Algoritmo dividir y conquistar para solucionar el problema en tiempo $O(n$$log$$n$$)$</h3>"
   ]
  },
  {
   "cell_type": "code",
   "execution_count": 3,
   "metadata": {
    "collapsed": false
   },
   "outputs": [],
   "source": [
    "def maxSec(arr):\n",
    "    if len(arr) == 0:\n",
    "        return 0\n",
    "    return maxSecuencia(arr, 0, len(arr)-1)\n",
    "    \n",
    "def maxSecuencia(arr, left, right):\n",
    "    if right == left:\n",
    "        return arr[left]\n",
    "    \n",
    "    middle = (left+right)/2\n",
    "    \n",
    "    leftans = maxSecuencia(arr, left, middle)\n",
    "    rightans = maxSecuencia(arr, middle+1, right)\n",
    "    \n",
    "    leftmax = arr[middle]\n",
    "    rightmax = arr[middle+1]\n",
    "    temp = 0\n",
    "    \n",
    "    for i in range(middle, left, -1):\n",
    "        temp += arr[i]\n",
    "        if temp > leftmax:\n",
    "            leftmax = temp\n",
    "            \n",
    "    temp = 0\n",
    "    for i in range(middle+1, right):\n",
    "        temp += arr[i]\n",
    "        if temp > rightmax:\n",
    "            rightmax = temp\n",
    "    return max(max(leftans, rightans), leftmax+rightmax)"
   ]
  },
  {
   "cell_type": "code",
   "execution_count": 4,
   "metadata": {
    "collapsed": false
   },
   "outputs": [
    {
     "name": "stdout",
     "output_type": "stream",
     "text": [
      "Secuencia de suma máxima:  20\n"
     ]
    }
   ],
   "source": [
    "A = [-2,11,-4,13,-5, -2]\n",
    "print \"Secuencia de suma máxima: \", maxSec(A)"
   ]
  },
  {
   "cell_type": "markdown",
   "metadata": {},
   "source": [
    "<h3> 3. Implemente el algoritmo mostrado en el enunciado</h3>"
   ]
  },
  {
   "cell_type": "code",
   "execution_count": 5,
   "metadata": {
    "collapsed": false
   },
   "outputs": [],
   "source": [
    "def Sumamax3(a, prim, ult):\n",
    "    #Casos base\n",
    "    if prim > ult:\n",
    "        return 0\n",
    "    if prim == ult:\n",
    "        return max(0, a[prim])\n",
    "    mitad = (prim+ult)/2\n",
    "    \n",
    "    #Casos 1 y 2\n",
    "    max_aux = max(Sumamax3(a, prim, mitad), Sumamax3(a, mitad+1, ult))\n",
    "    \n",
    "    #Casos 3: Parte izquierda\n",
    "    max_izq = 0\n",
    "    suma = 0\n",
    "    for i in range(mitad, prim-1, -1):\n",
    "        suma = suma + a[i]\n",
    "        max_izq = max(max_izq, suma)\n",
    "        \n",
    "    #Caso 3: Parte derecha\n",
    "    max_der = 0\n",
    "    suma = 0\n",
    "    for i in range(mitad+1, ult+1):\n",
    "        suma = suma+a[i]\n",
    "        max_der = max(max_der, suma)\n",
    "    \n",
    "    #Combinacion de resultados\n",
    "    return max(max_der+max_izq, max_aux)"
   ]
  },
  {
   "cell_type": "code",
   "execution_count": 6,
   "metadata": {
    "collapsed": false
   },
   "outputs": [
    {
     "name": "stdout",
     "output_type": "stream",
     "text": [
      "Secuencia de suma máxima:  20\n"
     ]
    }
   ],
   "source": [
    "A = [-2,11,-4,13,-5, -2]\n",
    "print \"Secuencia de suma máxima: \", Sumamax3(A, 0, len(A)-1)"
   ]
  }
 ],
 "metadata": {
  "anaconda-cloud": {},
  "kernelspec": {
   "display_name": "Python 2",
   "language": "python",
   "name": "python2"
  },
  "language_info": {
   "codemirror_mode": {
    "name": "ipython",
    "version": 2
   },
   "file_extension": ".py",
   "mimetype": "text/x-python",
   "name": "python",
   "nbconvert_exporter": "python",
   "pygments_lexer": "ipython2",
   "version": "2.7.13"
  }
 },
 "nbformat": 4,
 "nbformat_minor": 1
}
