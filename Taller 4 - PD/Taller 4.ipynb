{
 "cells": [
  {
   "cell_type": "markdown",
   "metadata": {},
   "source": [
    "<h1>TALLER 4</h4>"
   ]
  },
  {
   "cell_type": "markdown",
   "metadata": {},
   "source": [
    "<h3>Punto 1</h3>"
   ]
  },
  {
   "cell_type": "markdown",
   "metadata": {},
   "source": [
    "Implemente un método que retorne la subsecuencia común más larga (SCL) apartir de la matriz C construida por el algoritmo de PD que calcula la longitud de la SCL."
   ]
  },
  {
   "cell_type": "code",
   "execution_count": 1,
   "metadata": {
    "collapsed": true
   },
   "outputs": [],
   "source": [
    "import numpy as np\n",
    "\n",
    "global C\n",
    "\n",
    "def lcs(X,Y):\n",
    "    global C\n",
    "    C = np.ones((len(X)+1,len(Y)+1))*-1\n",
    "    lcs3(X,Y,len(X),len(Y))\n",
    "    return C[len(X),len(Y)], C\n",
    "    \n",
    "\n",
    "def lcs3(x,y,i,j):\n",
    "    global C\n",
    "    if C[i,j] == -1:\n",
    "        if i == 0 or j == 0:\n",
    "            C[i,j] = 0\n",
    "        else:\n",
    "            if x[i-1]==y[j-1]:\n",
    "                C[i,j] = lcs3(x,y,i-1,j-1)+1\n",
    "            else:\n",
    "                C[i,j] = max(lcs3(x,y,i-1,j),lcs3(x,y,i,j-1))\n",
    "                \n",
    "    return C[i,j]"
   ]
  },
  {
   "cell_type": "code",
   "execution_count": 2,
   "metadata": {
    "collapsed": true
   },
   "outputs": [],
   "source": [
    "def print_word(mat, X):\n",
    "    count = 1\n",
    "    l = []\n",
    "    for i in range(1, len(mat)):\n",
    "        for j in range(1, len(mat[0])):\n",
    "            if count == mat[i,j]:\n",
    "                l.append(X[j-1])\n",
    "                count = count+1\n",
    "    return l"
   ]
  },
  {
   "cell_type": "code",
   "execution_count": 3,
   "metadata": {
    "collapsed": false
   },
   "outputs": [
    {
     "name": "stdout",
     "output_type": "stream",
     "text": [
      "MATIRZ:\n",
      "[[ 0. -1.  0.  0.  0. -1.]\n",
      " [-1.  1.  1.  1.  1. -1.]\n",
      " [-1. -1. -1.  2.  2. -1.]\n",
      " [-1. -1. -1. -1. -1.  3.]]\n",
      "\n",
      "CAMINO:\n",
      "A\n",
      "B\n",
      "C\n"
     ]
    }
   ],
   "source": [
    "word1 = 'ABC'\n",
    "word2 = 'AWBDC'\n",
    "len_lcs, lcs_mat = lcs(word1, word2)\n",
    "word_list = print_word(lcs_mat, word2)\n",
    "print \"MATIRZ:\"\n",
    "print lcs_mat\n",
    "print \"\\nCAMINO:\"\n",
    "for i in range(0, len(word_list)):\n",
    "    print word_list[i]"
   ]
  },
  {
   "cell_type": "markdown",
   "metadata": {},
   "source": [
    "<h3>Punto 2</h3>"
   ]
  },
  {
   "cell_type": "markdown",
   "metadata": {},
   "source": [
    "<h4>2.1</h4>"
   ]
  },
  {
   "cell_type": "markdown",
   "metadata": {},
   "source": [
    "Implemente un método para determinar los cortes que se deben realizar a partir de la solución de PD que encuentra el valor de la solución óptima."
   ]
  },
  {
   "cell_type": "code",
   "execution_count": 4,
   "metadata": {
    "collapsed": true
   },
   "outputs": [],
   "source": [
    "def cut_rodBU(p,n):\n",
    "    r = [0] * (n+1)\n",
    "    r[0] = 0\n",
    "    r2 = [0] * (n+1)\n",
    "    \n",
    "    for j in range(1,n+1):\n",
    "        q = float('-inf')\n",
    "        for i in range(1,j+1):\n",
    "            a = p[i-1]\n",
    "            b = r[j-i]\n",
    "            if q < a+b:\n",
    "                l = []\n",
    "                q=a+b\n",
    "                l.append(i)\n",
    "                if r2[j-i] != 0:\n",
    "                    l = r2[j-i]+l\n",
    "        r2[j]= l\n",
    "        r[j] = q\n",
    "    return r[n], r2[n]"
   ]
  },
  {
   "cell_type": "code",
   "execution_count": 5,
   "metadata": {
    "collapsed": false
   },
   "outputs": [
    {
     "name": "stdout",
     "output_type": "stream",
     "text": [
      "COSTO MINIMO:\n",
      "22\n",
      "\n",
      "CORTE:\n",
      "6\n",
      "2\n"
     ]
    }
   ],
   "source": [
    "p = [1,5,8,9,10,17,17,20,24,30]\n",
    "n = 8\n",
    "cost_min, cut = cut_rodBU(p,n)\n",
    "print \"COSTO MINIMO:\"\n",
    "print cost_min\n",
    "print \"\\nCORTE:\"\n",
    "for i in range(0, len(cut)):\n",
    "    print cut[i]"
   ]
  },
  {
   "cell_type": "markdown",
   "metadata": {},
   "source": [
    "<h4>2.2</h4>"
   ]
  },
  {
   "cell_type": "markdown",
   "metadata": {},
   "source": [
    "Realice una comparación experimental sistemática de los algoritmos para diferentes valores  de p y de n."
   ]
  },
  {
   "cell_type": "code",
   "execution_count": 6,
   "metadata": {
    "collapsed": true
   },
   "outputs": [],
   "source": [
    "import numpy as np\n",
    "import random as rnd\n",
    "import matplotlib.pyplot as pl\n",
    "import time\n",
    "%matplotlib inline\n",
    "\n",
    "class Counter:\n",
    "    def __init__(self):\n",
    "        self.steps = 0\n",
    "\n",
    "    def reset(self):\n",
    "        self.steps = 0\n",
    "\n",
    "    def count(self):\n",
    "        self.steps += 1\n",
    "\n",
    "    def print_steps(self):\n",
    "        print \"Number of steps =\", self.steps"
   ]
  },
  {
   "cell_type": "markdown",
   "metadata": {
    "collapsed": true
   },
   "source": [
    "<h4>A) Implementación de arriba hacia abajo con memorización</h4>"
   ]
  },
  {
   "cell_type": "code",
   "execution_count": 7,
   "metadata": {
    "collapsed": true
   },
   "outputs": [],
   "source": [
    "def memo_cut_rodTD(p, n, acct):\n",
    "    r = [-1] * (n+1); acct.count()\n",
    "    return memo_cut_rodTD_aux(p,n,r, acct)\n",
    "\n",
    "def memo_cut_rodTD_aux(p,n,r, acct):\n",
    "    if r[n] >= 0:\n",
    "        acct.count()\n",
    "        return r[n]\n",
    "    if n == 0:\n",
    "        acct.count()\n",
    "        q = 0; acct.count()\n",
    "    else:\n",
    "        acct.count()\n",
    "        q = float('-inf'); acct.count()\n",
    "        for i in range(1,n+1):\n",
    "            acct.count()\n",
    "            q = max(q, p[i-1]+memo_cut_rodTD_aux(p,n-i,r, acct)); acct.count()\n",
    "    r[n]=q; acct.count()\n",
    "    return q"
   ]
  },
  {
   "cell_type": "code",
   "execution_count": 8,
   "metadata": {
    "collapsed": true
   },
   "outputs": [],
   "source": [
    "def updown_analysis(n):\n",
    "    steps = []\n",
    "    timeP = []\n",
    "    acct = Counter()\n",
    "    for i in range(n):\n",
    "        p = np.random.randint(1, 100, (1, i)).tolist()[0]\n",
    "        acct.reset()\n",
    "        \n",
    "        tic = time.clock()\n",
    "        memo_cut_rodTD(p, i, acct)\n",
    "        toc = time.clock()\n",
    "        timeP.append(toc - tic)\n",
    "        steps.append(acct.steps)\n",
    "        \n",
    "    results = [steps, timeP]\n",
    "    return results"
   ]
  },
  {
   "cell_type": "markdown",
   "metadata": {},
   "source": [
    "Rojo -> Tiempo\n",
    "\n",
    "Azul -> Pasos"
   ]
  },
  {
   "cell_type": "code",
   "execution_count": 9,
   "metadata": {
    "collapsed": false
   },
   "outputs": [
    {
     "data": {
      "text/plain": [
       "[<matplotlib.lines.Line2D at 0x7598828>,\n",
       " <matplotlib.lines.Line2D at 0x75989e8>]"
      ]
     },
     "execution_count": 9,
     "metadata": {},
     "output_type": "execute_result"
    },
    {
     "data": {
      "image/png": "[encoded data removed]",
      "text/plain": [
       "<matplotlib.figure.Figure at 0x41e0550>"
      ]
     },
     "metadata": {},
     "output_type": "display_data"
    }
   ],
   "source": [
    "pl.clf()\n",
    "res = updown_analysis(100)\n",
    "x = np.arange(100)\n",
    "y1 = np.array(res[1]) * 1000000\n",
    "y2 = np.array(res[0])\n",
    "\n",
    "pl.plot(x, y1, 'r', y2, 'b')"
   ]
  },
  {
   "cell_type": "markdown",
   "metadata": {},
   "source": [
    "<h4>B) Implementación abajo hacia arriba (bottom-up) con memorización</h4>"
   ]
  },
  {
   "cell_type": "code",
   "execution_count": 10,
   "metadata": {
    "collapsed": true
   },
   "outputs": [],
   "source": [
    "def memo_cut_rodBU(p,n,acct):\n",
    "    r = [0] * (n+1); acct.count()\n",
    "    r[0] = 0; acct.count()\n",
    "    for j in range(1,n+1):\n",
    "        acct.count()\n",
    "        q = float('-inf'); acct.count()\n",
    "        for i in range(1,j+1): \n",
    "            acct.count()\n",
    "            q = max(q, p[i-1]+r[j-i]); acct.count()\n",
    "        r[j] = q; acct.count()\n",
    "    return r[n]"
   ]
  },
  {
   "cell_type": "markdown",
   "metadata": {},
   "source": [
    "Para mostrar la gráfica:"
   ]
  },
  {
   "cell_type": "code",
   "execution_count": 11,
   "metadata": {
    "collapsed": true
   },
   "outputs": [],
   "source": [
    "def downup_analysis(n):\n",
    "    steps = []\n",
    "    timeP = []\n",
    "    acct = Counter()\n",
    "    for i in range(n):\n",
    "        p = np.random.randint(1, 100, (1, i)).tolist()[0]\n",
    "        acct.reset()\n",
    "        \n",
    "        tic = time.clock()\n",
    "        memo_cut_rodBU(p, i, acct)\n",
    "        toc = time.clock()\n",
    "        timeP.append(toc - tic)\n",
    "        steps.append(acct.steps)\n",
    "        \n",
    "    results = [steps, timeP]\n",
    "    return results"
   ]
  },
  {
   "cell_type": "markdown",
   "metadata": {},
   "source": [
    "Rojo -> Tiempo\n",
    "\n",
    "Azul -> Pasos"
   ]
  },
  {
   "cell_type": "code",
   "execution_count": 12,
   "metadata": {
    "collapsed": false
   },
   "outputs": [
    {
     "data": {
      "text/plain": [
       "[<matplotlib.lines.Line2D at 0x766b438>,\n",
       " <matplotlib.lines.Line2D at 0x766b5f8>]"
      ]
     },
     "execution_count": 12,
     "metadata": {},
     "output_type": "execute_result"
    },
    {
     "data": {
      "image/png": "[encoded data removed]",
      "text/plain": [
       "<matplotlib.figure.Figure at 0x76adf98>"
      ]
     },
     "metadata": {},
     "output_type": "display_data"
    }
   ],
   "source": [
    "pl.clf()\n",
    "res = downup_analysis(100)\n",
    "x = np.arange(100)\n",
    "y1 = np.array(res[1]) * 1000000\n",
    "y2 = np.array(res[0])\n",
    "\n",
    "pl.plot(x, y1, 'r', y2, 'b')"
   ]
  },
  {
   "cell_type": "markdown",
   "metadata": {},
   "source": [
    "<h3>Punto 3</h3>"
   ]
  },
  {
   "cell_type": "markdown",
   "metadata": {},
   "source": [
    "Implemente, describa y analice un algoritmo de PD para calcular la distancia de edición entre dos cadenas."
   ]
  },
  {
   "cell_type": "markdown",
   "metadata": {},
   "source": [
    "<h4>Descripción y Análisis:</h4>"
   ]
  },
  {
   "cell_type": "markdown",
   "metadata": {},
   "source": [
    "Para calcular la distancia de edición, se usó la distancia de Levenshtein donde se revisa tres posibles casos: sustitución de un caracter, eliinación, y adición. El código revisa cual de los tres casos es el mínimo costo y lo añade a la matriz del costo. Cuando termina la iteraciones, la última celda es el costo real de la distancia entre las dos palábras. Para este código se tiene la complejidad es de $O(n^2)$. "
   ]
  },
  {
   "cell_type": "markdown",
   "metadata": {},
   "source": [
    "<h4>Implementación:</h4>"
   ]
  },
  {
   "cell_type": "code",
   "execution_count": 22,
   "metadata": {
    "collapsed": false
   },
   "outputs": [],
   "source": [
    "def levenshtein(word1, word2):\n",
    "    cost = 0\n",
    "    size1 = len(word1)\n",
    "    size2 = len(word2)\n",
    "    m = np.empty((size1+1, size2+1))\n",
    "    \n",
    "    for i in range(0, size1+1):\n",
    "        m[i,0] = i\n",
    "        \n",
    "    for i in range(1, size2+1):\n",
    "        m[0,i] = i\n",
    "    \n",
    "    for i in range(1, size1+1):\n",
    "        for j in range(1, size2+1):\n",
    "            if word1[i-1] == word2[j-1]:\n",
    "                cost = 0\n",
    "            else:\n",
    "                cost = 1\n",
    "            menor = min(m[i-1,j] + 1, m[i,j-1] + 1)\n",
    "            m[i,j] = min(menor, m[i-1,j-1]+cost)\n",
    "            \n",
    "    return m[size1, size2]"
   ]
  },
  {
   "cell_type": "code",
   "execution_count": 26,
   "metadata": {
    "collapsed": false
   },
   "outputs": [
    {
     "name": "stdout",
     "output_type": "stream",
     "text": [
      "5.0\n"
     ]
    }
   ],
   "source": [
    "word1 = \"hola\"\n",
    "word2 = \"caracola\"\n",
    "print levenshtein(word1, word2)"
   ]
  },
  {
   "cell_type": "markdown",
   "metadata": {},
   "source": [
    "<h3>Punto 4</h3>"
   ]
  },
  {
   "cell_type": "markdown",
   "metadata": {},
   "source": [
    "En el rio atrato hay n embarcaderos, en cada uno de ellos se puede alquilar un bote para realizar un viaje rio abajo a otro embarcadero. Existe una tabla de tarifas que indica el costo del viaje del embarcadero i al j, para i, j = 1,2,...,n  (i<j), puede pasar que un viaje de i a j sea más caro que una serie de viajes sucesivos intermedios, no hay un costo asociado a cambiar de bote en algún embarcadero. El problema consiste en diseñar un algoritmo de PD que determine el costo mínimo para cada par de puntos i,j."
   ]
  },
  {
   "cell_type": "code",
   "execution_count": 159,
   "metadata": {
    "collapsed": false
   },
   "outputs": [],
   "source": [
    "def start(source, dest, n, mat):\n",
    "    c = np.zeros((n, n))\n",
    "    for i in range(1, n):\n",
    "        for j in range(1, n):\n",
    "            print i, n\n",
    "            c[i,j] = cost_menor(i,j,n,mat,c)\n",
    "    return c\n",
    "\n",
    "def cost_menor(source, dest, n, mat, c):\n",
    "    print source+1, n\n",
    "    cont = float('inf')\n",
    "    for i in range(source+1, n):\n",
    "        #print \"MAT: \",  mat[source,i] + c[i,dest]\n",
    "        print \"\\n\"\n",
    "        cont = min(cont, mat[source,i]+c[i,dest])\n",
    "    return cont"
   ]
  }
 ],
 "metadata": {
  "kernelspec": {
   "display_name": "Python 2",
   "language": "python",
   "name": "python2"
  },
  "language_info": {
   "codemirror_mode": {
    "name": "ipython",
    "version": 2
   },
   "file_extension": ".py",
   "mimetype": "text/x-python",
   "name": "python",
   "nbconvert_exporter": "python",
   "pygments_lexer": "ipython2",
   "version": "2.7.13"
  }
 },
 "nbformat": 4,
 "nbformat_minor": 2
}
