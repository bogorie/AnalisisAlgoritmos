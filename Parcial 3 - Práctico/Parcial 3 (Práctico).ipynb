{
 "cells": [
  {
   "cell_type": "markdown",
   "metadata": {},
   "source": [
    "<h1>Parcial 3: Práctico</h1>"
   ]
  },
  {
   "cell_type": "markdown",
   "metadata": {},
   "source": [
    "<h2>Punto 1</h2>\n",
    "<i>Describa un algoritmo que determine en tiempo $O(n^2 log n)$ si existen tres puntos colineales de un conjunto de n puntos dados.</i>"
   ]
  },
  {
   "cell_type": "markdown",
   "metadata": {},
   "source": [
    "<br><b>equiation_line:</b> Construye la ecuación de la recta según los puntos que son enviados por parámetro (<i>point1, point2</i>).</br>\n",
    "<br><b>contained_point:</b> Se crea una recta para la función anterior con las variables <i>p1</i> y <i>p2</i> y verifica si el otro punto (<i>first</i>) está en la recta de dicha recta. La función retorna <i>True</i> si el punto <i>first</i> está en la recta.</br>\n",
    "<br><b>cicle:</b> Son dos ciclos que recorren los puntos para mandar a la función <i>contained_point</i> todas las combinaciones posibles de los puntos sin repetir los mismos elementos en ninguna combinación.</br>\n",
    "<br><b>is_collinear:</b> Se tiene una cola de todos los puntos, y en la varible <i>first</i> se guarda el primer punto, el cual se manda a la función <i>cicle</i> junto con la cola <i>points</i>. Este proceso se realiza hasta que el tamaño de la cola sea menor a 3, cuando ya no podra hacer mas verificaciones colineales entre 3 puntos, donde retorna <i>False</i> o cuando encuentre al menos una combinación de colineales y retorne<i>True</i>.\n",
    "\n",
    "A pesar de que se está usando una recursión y un par de for anidados, dando la impresión de tener complejidad de $O(n^3)$, al asegurar que las combinaciones no se repitan y por ende, realizar menos iteraciones, la complejidad en tiempo de ejecución se convierte en $O(n^2logn)$"
   ]
  },
  {
   "cell_type": "code",
   "execution_count": 1,
   "metadata": {
    "collapsed": true
   },
   "outputs": [],
   "source": [
    "def equation_line(point1, point2):\n",
    "    A = (point1[1] - point2[1])\n",
    "    B = (point2[0] - point1[0])\n",
    "    C = (point1[0]*point2[1] - point2[0]*point1[1])\n",
    "    return A, B, -C\n",
    "\n",
    "def contained_point(first, p1, p2):\n",
    "    line = equation_line(p1, p2)\n",
    "    if first[1] == (line[2]/line[1])-(line[0]/line[1])*(first[0]):\n",
    "        return True\n",
    "    else:\n",
    "        return False\n",
    "\n",
    "def cicle(points, first):\n",
    "    for i in range(0, len(points)):\n",
    "        for j in range(i+1, len(points)):\n",
    "            ans = contained_point(first, points[i], points[j])\n",
    "            if ans:\n",
    "                return True\n",
    "    return False\n",
    "\n",
    "def is_collinear(points):\n",
    "    if len(points) < 3:\n",
    "        return False\n",
    "    if len(points) >= 3:\n",
    "        first = points.pop(0)\n",
    "        ans = cicle(points, first)\n",
    "        if ans:\n",
    "            return True\n",
    "        return is_collinear(points)"
   ]
  },
  {
   "cell_type": "code",
   "execution_count": 2,
   "metadata": {
    "collapsed": false
   },
   "outputs": [
    {
     "name": "stdout",
     "output_type": "stream",
     "text": [
      "True\n"
     ]
    }
   ],
   "source": [
    "points_1 = [[4,1], [1,2], [5,5], [4,4], [3,3]]\n",
    "print is_collinear(points_1)"
   ]
  },
  {
   "cell_type": "code",
   "execution_count": 3,
   "metadata": {
    "collapsed": false
   },
   "outputs": [
    {
     "name": "stdout",
     "output_type": "stream",
     "text": [
      "False\n"
     ]
    }
   ],
   "source": [
    "points_2 = [[4,4], [-1,1], [3,3], [-4,9], [1,5]]\n",
    "print is_collinear(points_2)"
   ]
  },
  {
   "cell_type": "markdown",
   "metadata": {},
   "source": [
    "<h2>Punto 2</h2>\n",
    "<i>Diseñe un algoritmo que en tiempo $ O(n log n)$ pueda determinar si un poligono definido por una secuencia de n puntos es simple.</i>"
   ]
  },
  {
   "cell_type": "markdown",
   "metadata": {},
   "source": [
    "<br><b>intersecition:</b> En esta función se mira si existe la intercepción entre las dos líneas que llegan por parámetro, <i>line1, line2</i>. En el caso de que exista las intercepción entre las dos líneas, retorna las posiciónes de estos y en el caso de que no exísta retorna <i>False</i>.</br>\n",
    "<br><b>is_vertex:</b> Cuando se halla la posición de la intercepción, se verifica si está dentro de la lista de los puntos que se han dado al principio ( los vértices del polígono). En el caso de que los puntos sean iguales con la intrcepción, significa que es el vértice, y en el caso de que no sean iguales no son vértices, lo cual retorna <i>False</i>.</br>\n",
    "<br><b>is_polygonSimple:</b> <i>lines</i> es una cola donde se obtiene la primera recta y se manda a la función <i>is_vertex</i> junto con el resto de la cola y los puntos extremos del polígono. Este proceso se realiza hasta que la función anterior retorne <i>False</i> o hasta que el tamaño de la cola sea menor a 2.</br>\n",
    "\n",
    "Para concluir, de la misma manera como en el ejercicio anterior la complejidad es de $O(n log n)$ debido a que en las combinaciones de pares de líneas realizadas se estan omitiento los pares de lineas con elementos ya ealuados en iteraciones anteriores."
   ]
  },
  {
   "cell_type": "code",
   "execution_count": 4,
   "metadata": {
    "collapsed": true
   },
   "outputs": [],
   "source": [
    "def intersection(line1, line2):\n",
    "    D  = line1[0] * line2[1] - line1[1] * line2[0]\n",
    "    Dx = line1[2] * line2[1] - line1[1] * line2[2]\n",
    "    Dy = line1[0] * line2[2] - line1[2] * line2[0]\n",
    "    \n",
    "    if D != 0:\n",
    "        x = Dx / D\n",
    "        y = Dy / D\n",
    "        return x, y\n",
    "    else:\n",
    "        return False\n",
    "\n",
    "def is_vertex(points, line1, line2):\n",
    "    x, y = intersection(line1, line2)\n",
    "    point = [x, y]\n",
    "    for i in range(0, len(points)):\n",
    "        if points[i] == point:\n",
    "            return True\n",
    "    return False\n",
    "\n",
    "def is_polygonSimple(points, lines):\n",
    "    if len(lines) < 2:\n",
    "        return True\n",
    "    else:\n",
    "        first = lines.pop(0)\n",
    "        for i in range(0, len(lines)):\n",
    "            if intersection(first, lines[i]):\n",
    "                if not is_vertex(points, first, lines[i]):\n",
    "                    return False\n",
    "        return is_polygonSimple(points, lines)"
   ]
  },
  {
   "cell_type": "code",
   "execution_count": 5,
   "metadata": {
    "collapsed": false
   },
   "outputs": [],
   "source": [
    "p1 = [1,3]\n",
    "p2 = [3,3]\n",
    "p3 = [1,1]\n",
    "p4 = [3,1]\n",
    "\n",
    "line1 = equation_line(p2, p3)\n",
    "line2 = equation_line(p1, p4)\n",
    "line3 = equation_line(p3, p4)\n",
    "line4 = equation_line(p1, p2)\n",
    "\n",
    "points = [p1, p2, p3, p4]"
   ]
  },
  {
   "cell_type": "code",
   "execution_count": 6,
   "metadata": {
    "collapsed": false
   },
   "outputs": [
    {
     "name": "stdout",
     "output_type": "stream",
     "text": [
      "False\n"
     ]
    }
   ],
   "source": [
    "lines_1 = [line1, line2, line3, line4]\n",
    "print is_polygonSimple(points, lines_1)"
   ]
  },
  {
   "cell_type": "code",
   "execution_count": 7,
   "metadata": {
    "collapsed": false
   },
   "outputs": [
    {
     "name": "stdout",
     "output_type": "stream",
     "text": [
      "True\n"
     ]
    }
   ],
   "source": [
    "lines_2 = [line1, line3, line4]\n",
    "print is_polygonSimple(points, lines_2)"
   ]
  }
 ],
 "metadata": {
  "kernelspec": {
   "display_name": "Python 2",
   "language": "python",
   "name": "python2"
  },
  "language_info": {
   "codemirror_mode": {
    "name": "ipython",
    "version": 2
   },
   "file_extension": ".py",
   "mimetype": "text/x-python",
   "name": "python",
   "nbconvert_exporter": "python",
   "pygments_lexer": "ipython2",
   "version": "2.7.13"
  }
 },
 "nbformat": 4,
 "nbformat_minor": 2
}
