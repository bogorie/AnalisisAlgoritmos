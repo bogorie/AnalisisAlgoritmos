{
 "cells": [
  {
   "cell_type": "markdown",
   "metadata": {},
   "source": [
    "<h1>Taller 8: Algorito Geonétrico</h1>"
   ]
  },
  {
   "cell_type": "markdown",
   "metadata": {},
   "source": [
    "<h3> Points and Line Segments</h3>"
   ]
  },
  {
   "cell_type": "markdown",
   "metadata": {},
   "source": [
    "What is the length of a line segment $S_i$?"
   ]
  },
  {
   "cell_type": "code",
   "execution_count": 1,
   "metadata": {
    "collapsed": true
   },
   "outputs": [],
   "source": [
    "import numpy as np\n",
    "import math\n",
    "%matplotlib inline\n",
    "from matplotlib import pyplot as plt\n",
    "from matplotlib.path import Path\n",
    "from matplotlib.patches import PathPatch"
   ]
  },
  {
   "cell_type": "code",
   "execution_count": 2,
   "metadata": {
    "collapsed": false
   },
   "outputs": [
    {
     "name": "stdout",
     "output_type": "stream",
     "text": [
      "Length(P1,P2) =  5.0\n"
     ]
    }
   ],
   "source": [
    "def length_segment(p1,p2):\n",
    "    return ((p2[0]-p1[0])**2+(p2[1]-p1[1])**2)**.5\n",
    "\n",
    "P1 = [0.,0.]\n",
    "P2 = [3.,4.]\n",
    "print 'Length(P1,P2) = ', length_segment(P1, P2)\n",
    "#np.linalg.norm([P1, P2])"
   ]
  },
  {
   "cell_type": "markdown",
   "metadata": {},
   "source": [
    "What is the midpoint of a line segment $S_i$?"
   ]
  },
  {
   "cell_type": "code",
   "execution_count": 3,
   "metadata": {
    "collapsed": false
   },
   "outputs": [
    {
     "name": "stdout",
     "output_type": "stream",
     "text": [
      "Length(P1,P2) =  [0.5, 2.0]\n"
     ]
    }
   ],
   "source": [
    "def midpoint_segment(p1,p2):\n",
    "    return [(p1[0]+p2[0])/2, (p1[1]+p2[1])/2]\n",
    "\n",
    "P3 = [2.,-1.]\n",
    "P4 = [-1.,5.]\n",
    "print 'Length(P1,P2) = ', midpoint_segment(P3, P4)"
   ]
  },
  {
   "cell_type": "markdown",
   "metadata": {},
   "source": [
    "<h2>Punto 1</h2>\n",
    "<i>What is the intersection between two line segments $S_i$ and $S_j$?</i>"
   ]
  },
  {
   "cell_type": "code",
   "execution_count": 4,
   "metadata": {
    "collapsed": true
   },
   "outputs": [],
   "source": [
    "def ecuation_line(point1, point2):\n",
    "    A = (point1[1] - point2[1])\n",
    "    B = (point2[0] - point1[0])\n",
    "    C = (point1[0]*point2[1] - point2[0]*point1[1])\n",
    "    return A, B, -C\n",
    "\n",
    "def intersection(line1, line2):\n",
    "    D  = line1[0] * line2[1] - line1[1] * line2[0]\n",
    "    Dx = line1[2] * line2[1] - line1[1] * line2[2]\n",
    "    Dy = line1[0] * line2[2] - line1[2] * line2[0]\n",
    "    \n",
    "    if D != 0:\n",
    "        x = Dx / D\n",
    "        y = Dy / D\n",
    "        return x, y\n",
    "    else:\n",
    "        return False\n",
    "\n",
    "def graph_intersection(line1, line2, interc):\n",
    "    fig, ax = plt.subplots(figsize=(8, 8))\n",
    "    x = np.linspace(-100, 100)\n",
    "    y1 = (line1[2]/line1[1])-(line1[0]/line1[1])*x\n",
    "    y2 = (line2[2]/line2[1])-(line2[0]/line2[1])*x\n",
    "\n",
    "    plt.plot(x, y1, lw=3, label=r'$Line 1$')\n",
    "    plt.plot(x, y2 , lw=3, label=r'$Line 2$')\n",
    "    plt.plot(interc[0], interc[1], 'o', color='red')\n",
    "\n",
    "    plt.xlabel(r'$x$', fontsize=16)\n",
    "    plt.ylabel(r'$y$', fontsize=16)\n",
    "    plt.xlim(-2, 14)\n",
    "    plt.ylim(-2, 14)\n",
    "    plt.legend(fontsize=14)\n",
    "    plt.show()"
   ]
  },
  {
   "cell_type": "code",
   "execution_count": 5,
   "metadata": {
    "collapsed": false
   },
   "outputs": [
    {
     "name": "stdout",
     "output_type": "stream",
     "text": [
      "Intercepción: (1, 2)\n"
     ]
    },
    {
     "data": {
      "image/png": "[encoded data removed]",
      "text/plain": [
       "<matplotlib.figure.Figure at 0x7a883c8>"
      ]
     },
     "metadata": {},
     "output_type": "display_data"
    }
   ],
   "source": [
    "line1 = ecuation_line([0,1], [2,3])\n",
    "line2 = ecuation_line([1,3], [2,-5])\n",
    "interc = intersection(line1, line2)\n",
    "\n",
    "if interc:\n",
    "    print \"Intercepción:\", interc\n",
    "    graph_intersection(line1, line2, interc)\n",
    "else:\n",
    "    print \"No tiene intercepción.\""
   ]
  },
  {
   "cell_type": "markdown",
   "metadata": {},
   "source": [
    "<h2>Punto 2</h2>\n",
    "<i>Is a given point $P$ contained in the line segment $S$?</i>"
   ]
  },
  {
   "cell_type": "code",
   "execution_count": 6,
   "metadata": {
    "collapsed": true
   },
   "outputs": [],
   "source": [
    "def contained_point(line, point):\n",
    "    if point[1] == (line[2]/line[1])-(line[0]/line[1])*(point[0]):\n",
    "        return True\n",
    "    else:\n",
    "        return False\n",
    "\n",
    "def graph_contained_point(line, point):\n",
    "    fig, ax = plt.subplots(figsize=(8, 8))\n",
    "    x = np.linspace(-100, 100)\n",
    "    y = (line[2]/line[1])-(line[0]/line[1])*x\n",
    "\n",
    "    plt.plot(x, y, lw=3)\n",
    "    plt.plot(point[0],point[1], 'o', color='red')\n",
    "\n",
    "    plt.xlabel(r'$x$', fontsize=16)\n",
    "    plt.ylabel(r'$y$', fontsize=16)\n",
    "    plt.xlim(-2, 14)\n",
    "    plt.ylim(-2, 14)\n",
    "    plt.legend(fontsize=14)\n",
    "    plt.show()"
   ]
  },
  {
   "cell_type": "code",
   "execution_count": 7,
   "metadata": {
    "collapsed": false
   },
   "outputs": [
    {
     "name": "stdout",
     "output_type": "stream",
     "text": [
      "True\n"
     ]
    },
    {
     "name": "stderr",
     "output_type": "stream",
     "text": [
      "D:\\Users\\oscar\\Anaconda2\\lib\\site-packages\\matplotlib\\axes\\_axes.py:545: UserWarning: No labelled objects found. Use label='...' kwarg on individual plots.\n",
      "  warnings.warn(\"No labelled objects found. \"\n"
     ]
    },
    {
     "data": {
      "image/png": "[encoded data removed]",
      "text/plain": [
       "<matplotlib.figure.Figure at 0x47e0518>"
      ]
     },
     "metadata": {},
     "output_type": "display_data"
    },
    {
     "name": "stdout",
     "output_type": "stream",
     "text": [
      "False\n"
     ]
    },
    {
     "data": {
      "image/png": "[encoded data removed]",
      "text/plain": [
       "<matplotlib.figure.Figure at 0x804dac8>"
      ]
     },
     "metadata": {},
     "output_type": "display_data"
    }
   ],
   "source": [
    "line = ecuation_line([2,2], [1,1])\n",
    "point1 = [3, 3]\n",
    "point2 = [1, 3]\n",
    "\n",
    "print contained_point(line, point1)\n",
    "graph_contained_point(line, point1)\n",
    "print contained_point(line, point2)\n",
    "graph_contained_point(line, point2)"
   ]
  },
  {
   "cell_type": "markdown",
   "metadata": {},
   "source": [
    "<i>CCW. Given three points a, b, and c, are the segments $\\bar{ab}$, $\\bar{bc}$ a counterclockwise turn?</i>"
   ]
  },
  {
   "cell_type": "markdown",
   "metadata": {},
   "source": [
    "<h3>Cross product</h3>\n",
    "\n",
    "Consider vectors $p_1$ and $p_2$, cross product can be interpreted as the area of the parallelogram formed by the points $(0,0)$, $p_1$, $p_2$, and $p_1 + p_2$. An equivalent defintion of cross product is a determinant:\n",
    "\n",
    "\\begin{align}\n",
    "p_1 \\times p2 & = &det(\\begin{matrix}x_1 & x_2\\\\ y_1 & y_2\\end{matrix})\\\\\n",
    "  & = &x_1y_2 - x_2y_1\\\\\n",
    "  & = &-p_2\\times p_1\n",
    "\\end{align}\n",
    "\n",
    "<ul>\n",
    "<li>If $p_1\\times p_2 > 0$, then $ p_1$ is clockwise from $p_2$ respect to the origin $(0,0)$</li>\n",
    "<li>If $p_1\\times p_2 < 0$, then $ p_1$ is counterclockwise from $p_2$ respect to the origin $(0,0)$</li>\n",
    "<li>If $p_1\\times p_2 = 0$, then $ p_1$ and $p_2$ are colinear</li>\n",
    "</ul>\n",
    "\n",
    "To determine if a directed segment $\\bar{p_0p_1}$ is closer to a directed segment $\\bar{p_0p2}$ in a clockwise direction we use $p_0$ as the origin. i.e. $p_1-p_0$, $p_2-p_0$, hence the cross product can be computed as\n",
    "\n",
    "$$ (p_1 - p_0) \\times (p_2 - p_0) = (x_1-x_0)(y_1-y0) \\times (x_2-x_0)(y_2-y0)$$\n",
    "\n",
    "To determine whether two consecutive line segments $\\bar{p_0 p_1}$ and $\\bar{p_1 p_2}$ turn counterclockwise at point $p_1$ or not, we simply check whether directed segment $\\bar{p_0 p_2}$ is clockwise or counterclockwise relative to directed segment $\\bar{p_0 p_1}$. To do so, we compute the cross product $\\bar{p_2 p_0} \\times \\bar{p_1 p_0}$. If the sign of this cross product is negative, then $\\bar{p_0p_2}$ is counterclockwise with respect to $\\bar{p_0 p_1}$ and thus we make a left turn at $p_1$. A positive cross product indicates a clockwise orientation and a right turn. A cross product of $0$ means that points $p_0$ , $p_1$ , and $p_2$ are colinear.\n"
   ]
  },
  {
   "cell_type": "code",
   "execution_count": 8,
   "metadata": {
    "collapsed": true
   },
   "outputs": [],
   "source": [
    "def ccw2(p0, p1, p2):\n",
    "    area = (p2[0]-p0[0])*(p1[1]-p0[1]) - (p1[0]-p0[0])*(p2[1]-p0[1])\n",
    "    if area < 0: return -1 #counterclockwise\n",
    "    elif area > 0: return 1 #clockwise\n",
    "    elif area == 0:  return  0 #collinear"
   ]
  },
  {
   "cell_type": "code",
   "execution_count": 9,
   "metadata": {
    "collapsed": false
   },
   "outputs": [
    {
     "name": "stdout",
     "output_type": "stream",
     "text": [
      "-1 1 0\n"
     ]
    }
   ],
   "source": [
    "P1 = [0.,0.]\n",
    "P2 = [3.,4.]\n",
    "P3 = [2.,-1.]\n",
    "P4 = [-1.,5.]\n",
    "print ccw2(P1,P2,P4), ccw2(P1,P2,P3), ccw2([0,0],[1,1],[2,2])"
   ]
  },
  {
   "cell_type": "code",
   "execution_count": 10,
   "metadata": {
    "collapsed": true
   },
   "outputs": [],
   "source": [
    "def ccw(p0, p1, p2):\n",
    "    area = (p1[0]-p0[0])*(p2[1]-p0[1]) - (p1[1]-p0[1])*(p2[0]-p0[0])\n",
    "    if area < 0: return -1 #clockwise\n",
    "    elif area > 0: return 1 #counterclockwise\n",
    "    elif area == 0:  return  0 #collinear"
   ]
  },
  {
   "cell_type": "code",
   "execution_count": 11,
   "metadata": {
    "collapsed": false
   },
   "outputs": [
    {
     "name": "stdout",
     "output_type": "stream",
     "text": [
      "1 -1 0\n"
     ]
    }
   ],
   "source": [
    "P1 = [0.,0.]\n",
    "P2 = [3.,4.]\n",
    "P3 = [2.,-1.]\n",
    "P4 = [-1.,5.]\n",
    "print ccw(P1,P2,P4), ccw(P1,P2,P3), ccw([0,0],[1,1],[2,2])"
   ]
  },
  {
   "cell_type": "code",
   "execution_count": 12,
   "metadata": {
    "collapsed": false
   },
   "outputs": [
    {
     "name": "stdout",
     "output_type": "stream",
     "text": [
      "[0.0, 0.0] [3.0, 4.0]\n",
      "(30L,)\n",
      "(40L,)\n"
     ]
    }
   ],
   "source": [
    "print P1,P2\n",
    "print np.arange(P1[0],P2[0],.1).shape\n",
    "print np.arange(P1[1],P2[1],.1).shape"
   ]
  },
  {
   "cell_type": "code",
   "execution_count": 13,
   "metadata": {
    "collapsed": false
   },
   "outputs": [
    {
     "data": {
      "text/plain": [
       "(-2.0, 6)"
      ]
     },
     "execution_count": 13,
     "metadata": {},
     "output_type": "execute_result"
    },
    {
     "data": {
      "image/png": "[encoded data removed]",
      "text/plain": [
       "<matplotlib.figure.Figure at 0x8d76ef0>"
      ]
     },
     "metadata": {},
     "output_type": "display_data"
    }
   ],
   "source": [
    "fig, ax = plt.subplots(figsize=(8, 8))\n",
    "plt.plot(P1[0],P1[1],'ro')\n",
    "plt.plot(P2[0],P2[1],'bo')\n",
    "plt.plot(P3[0],P3[1],'mo')\n",
    "plt.plot(P4[0],P4[1],'go')\n",
    "plt.xlim(-2., 6)\n",
    "plt.ylim(-2., 6)"
   ]
  },
  {
   "cell_type": "code",
   "execution_count": 14,
   "metadata": {
    "collapsed": true
   },
   "outputs": [],
   "source": [
    "from sympy.geometry import *"
   ]
  },
  {
   "cell_type": "code",
   "execution_count": 15,
   "metadata": {
    "collapsed": true
   },
   "outputs": [],
   "source": [
    "P1 = Point(0, 0)\n",
    "P2 = Point(3, 4)\n",
    "P3 = Point(2, -1)\n",
    "P4 = Point(-1, 5)\n",
    "S1 = Segment(P1, P2)\n",
    "S2 = Segment(P3, P4)"
   ]
  },
  {
   "cell_type": "code",
   "execution_count": 16,
   "metadata": {
    "collapsed": false
   },
   "outputs": [
    {
     "name": "stdout",
     "output_type": "stream",
     "text": [
      "False\n",
      "5\n",
      "Point2D(1/2, 2)\n",
      "4/3\n",
      "[Point2D(9/10, 6/5)]\n",
      "acos(-sqrt(5)/5)\n",
      "False\n"
     ]
    }
   ],
   "source": [
    "print Point.is_collinear(P1, P2, P3)\n",
    "print S1.length\n",
    "print S2.midpoint\n",
    "print S1.slope\n",
    "print S1.intersection(S2)\n",
    "print Segment.angle_between(S1, S2)\n",
    "print S1.contains(P3)"
   ]
  },
  {
   "cell_type": "markdown",
   "metadata": {},
   "source": [
    "<h3>Lines</h3>"
   ]
  },
  {
   "cell_type": "markdown",
   "metadata": {},
   "source": [
    "<h2>Punto 3</h2>\n",
    "<i>What is the distance from a point $P$ to the line $L$?</i>"
   ]
  },
  {
   "cell_type": "code",
   "execution_count": 17,
   "metadata": {
    "collapsed": true
   },
   "outputs": [],
   "source": [
    "from sympy import Point, Line\n",
    "\n",
    "def distance_point_line(line, point):\n",
    "    return line.distance(point)"
   ]
  },
  {
   "cell_type": "code",
   "execution_count": 18,
   "metadata": {
    "collapsed": false
   },
   "outputs": [
    {
     "name": "stdout",
     "output_type": "stream",
     "text": [
      "La distancia entre la recta y el punto es de: 2\n"
     ]
    }
   ],
   "source": [
    "p1 = Point(1, 1)\n",
    "p2 = Point(1, 2)\n",
    "p0 = Point (-1, 1)\n",
    "\n",
    "dist = distance_point_line(Line(p1, p2), p0)\n",
    "print 'La distancia entre la recta y el punto es de:', dist"
   ]
  },
  {
   "cell_type": "markdown",
   "metadata": {},
   "source": [
    "<h2>Punto 4</h2>\n",
    "<i>What is an ortogonal line $L_i$ which intersect $L_j$ at an arbitrary point?</i>"
   ]
  },
  {
   "cell_type": "code",
   "execution_count": 19,
   "metadata": {
    "collapsed": true
   },
   "outputs": [],
   "source": [
    "def orthogonal_line(line, point):\n",
    "    ort = line.perpendicular_line(point)\n",
    "    return ort.equation()"
   ]
  },
  {
   "cell_type": "code",
   "execution_count": 20,
   "metadata": {
    "collapsed": false
   },
   "outputs": [
    {
     "name": "stdout",
     "output_type": "stream",
     "text": [
      "La recta ortogonal es: y - 1\n"
     ]
    }
   ],
   "source": [
    "ort = orthogonal_line(Line(p1, p2), p0)\n",
    "print \"La recta ortogonal es:\", ort"
   ]
  },
  {
   "cell_type": "markdown",
   "metadata": {},
   "source": [
    "<h2>Punto 5</h2>\n",
    "<i>What is a line $L_i$ parallel to $L_j$ with a distance $d$?</i>"
   ]
  },
  {
   "cell_type": "code",
   "execution_count": 21,
   "metadata": {
    "collapsed": true
   },
   "outputs": [],
   "source": [
    "def parallel_line(p1, p2, distance):\n",
    "    line = Line(p1, p2)\n",
    "    p = p1.translate(distance)\n",
    "    par = line.parallel_line(p)\n",
    "    return par.equation()"
   ]
  },
  {
   "cell_type": "code",
   "execution_count": 22,
   "metadata": {
    "collapsed": false
   },
   "outputs": [
    {
     "name": "stdout",
     "output_type": "stream",
     "text": [
      "La recta parallela es: x - 6\n"
     ]
    }
   ],
   "source": [
    "distance = 5\n",
    "par = parallel_line(p1, p2, distance)\n",
    "print \"La recta parallela es:\", par"
   ]
  },
  {
   "cell_type": "markdown",
   "metadata": {},
   "source": [
    "Others:"
   ]
  },
  {
   "cell_type": "code",
   "execution_count": 23,
   "metadata": {
    "collapsed": false
   },
   "outputs": [
    {
     "name": "stdout",
     "output_type": "stream",
     "text": [
      "Point2D(4*t + 2, -3*t - 1)\n",
      "3*x + 4*y - 2\n",
      "False\n",
      "3\n",
      "False\n"
     ]
    }
   ],
   "source": [
    "L1 = Line(P1, P2)\n",
    "L2 = L1.perpendicular_line(P3)        # perpendicular line to L1\n",
    "print L2.arbitrary_point()            # parametric equation of L2\n",
    "print L2.equation()                   # algebraic equation of L2\n",
    "print L2.contains(P4)                 # is P4 in L2?\n",
    "print L2.distance(P4)                 # distance from P4 to L2\n",
    "print L1.is_parallel(S2)              # is S2 parallel to L1?\n"
   ]
  },
  {
   "cell_type": "markdown",
   "metadata": {},
   "source": [
    "<h3>Polygons</h3>\n",
    "\n",
    "Jordan curve theorem (Veblen, 1905): Any continous simple closed curve cuts the plane in exactly two pieces: the inside and the outside."
   ]
  },
  {
   "cell_type": "markdown",
   "metadata": {},
   "source": [
    "Activities:\n",
    "1. Draw polygons.\n",
    "2. Is a point inside a polygon?"
   ]
  },
  {
   "cell_type": "markdown",
   "metadata": {
    "collapsed": true
   },
   "source": [
    "<h3>Convex Hull</h3>"
   ]
  },
  {
   "cell_type": "code",
   "execution_count": 24,
   "metadata": {
    "collapsed": false
   },
   "outputs": [
    {
     "data": {
      "image/png": "[encoded data removed]",
      "text/plain": [
       "<matplotlib.figure.Figure at 0x9d014a8>"
      ]
     },
     "metadata": {},
     "output_type": "display_data"
    }
   ],
   "source": [
    "import numpy as np\n",
    "\n",
    "import matplotlib.pyplot as plt\n",
    "import matplotlib\n",
    "from matplotlib.patches import Polygon\n",
    "from matplotlib.collections import PatchCollection\n",
    "\n",
    "fig, ax = plt.subplots()\n",
    "patches = []\n",
    "\n",
    "polygon = Polygon([[0.1,0.9],[0.1,0.3],[0.3,0.4],[0.3,0.5]], True)\n",
    "patches.append(polygon)\n",
    "polygon = Polygon([[0.5,0.1],[0.5,0.3],[0.52,0.3],[0.54,0.4],[0.3,0.4]], True)\n",
    "patches.append(polygon)\n",
    "polygon = Polygon([[0.5,0.6],[0.5,0.7],[0.7,0.8],[0.66,0.5],[0.8,0.4],[0.65,0.4],[0.6,0.2]], True)\n",
    "patches.append(polygon)\n",
    "\n",
    "p = PatchCollection(patches, cmap=matplotlib.cm.jet, alpha=0.4)\n",
    "\n",
    "colors = 100*np.random.rand(len(patches))\n",
    "p.set_array(np.array(colors))\n",
    "\n",
    "ax.add_collection(p)\n",
    "\n",
    "plt.show()"
   ]
  },
  {
   "cell_type": "markdown",
   "metadata": {
    "slideshow": {
     "slide_type": "slide"
    }
   },
   "source": [
    "A set of points $P\\subseteq Q$ is convex hull if for any two points $p_0$ and $q_0 \\in Q$ in the set, the line segment $\\overline{p_0p_1}$ is completely in the polygon defined by $P$. We implicitly assume that all points in the set $Q$ are unique and that $Q$ contains at least three points which are not colinear."
   ]
  },
  {
   "cell_type": "markdown",
   "metadata": {
    "slideshow": {
     "slide_type": "slide"
    }
   },
   "source": [
    "<b>The mechanical approach:</b> Using a rubber band around the points"
   ]
  },
  {
   "cell_type": "markdown",
   "metadata": {},
   "source": [
    "<h3>A naïve approach</h3>\n",
    "\n",
    "Hit 1: Edges of convex hull of $Q$ connect pairs of points in $Q$.\n",
    "\n",
    "Hit 2: $p_i,p_j$ is on convex hull if all other points are counterclockwise of $\\overline{p_ip_j}$\n",
    "\n",
    "$\\forall \\: p_i, p_j \\in Q: p_i \\neq p_j$\n",
    "1. Compute ccw2($p_i$, $p_j$, $p_k$) $\\forall \\: p_k \\in Q$, $p_k \\neq p_i$\n",
    "2. $p_i$, $p_j$ is on $P$ if all values in step 1. are negative"
   ]
  },
  {
   "cell_type": "markdown",
   "metadata": {},
   "source": [
    "Analysis:"
   ]
  },
  {
   "cell_type": "code",
   "execution_count": 25,
   "metadata": {
    "collapsed": true
   },
   "outputs": [],
   "source": [
    "# Q: Matrix n x 2 (n points)\n",
    "def convexhull_bf(Q):\n",
    "    P = []\n",
    "    for i in range(len(Q)):\n",
    "        for j in range(len(Q)):\n",
    "            if i == j:\n",
    "                continue\n",
    "            ij_P = True\n",
    "            for k in range(len(Q)):\n",
    "                if i== k or j == k :\n",
    "                    continue\n",
    "                #print Q[i],Q[j],Q[k], ccw2(Q[i],Q[j],Q[k])\n",
    "                if not(ccw2(Q[i],Q[j],Q[k])<0):\n",
    "                    ij_P = False\n",
    "                    break\n",
    "            if ij_P:\n",
    "                P.append(Q[i])\n",
    "                P.append(Q[j])\n",
    "    return P"
   ]
  },
  {
   "cell_type": "code",
   "execution_count": 26,
   "metadata": {
    "collapsed": false
   },
   "outputs": [
    {
     "name": "stdout",
     "output_type": "stream",
     "text": [
      "[[0.5, 0.6], [0.6, 0.2], [0.5, 0.7], [0.5, 0.6], [0.7, 0.8], [0.5, 0.7], [0.8, 0.4], [0.7, 0.8], [0.6, 0.2], [0.8, 0.4]]\n"
     ]
    }
   ],
   "source": [
    "print convexhull_bf([[0.5,0.6],[0.5,0.7],[0.7,0.8],[0.66,0.5],[0.8,0.4],[0.65,0.4],[0.6,0.2]])"
   ]
  },
  {
   "cell_type": "code",
   "execution_count": 27,
   "metadata": {
    "collapsed": false
   },
   "outputs": [
    {
     "name": "stdout",
     "output_type": "stream",
     "text": [
      "[[0.1, 0.9], [0.1, 0.3], [0.1, 0.3], [0.3, 0.4], [0.3, 0.4], [0.3, 0.5], [0.3, 0.5], [0.1, 0.9]]\n"
     ]
    }
   ],
   "source": [
    "print convexhull_bf([[0.1,0.9],[0.1,0.3],[0.3,0.4],[0.3,0.5]])"
   ]
  },
  {
   "cell_type": "markdown",
   "metadata": {},
   "source": [
    "<h3>Graham Scan</h3>"
   ]
  },
  {
   "cell_type": "markdown",
   "metadata": {
    "collapsed": true
   },
   "source": [
    "<ul>\n",
    "<li>Choose point p with smallest y-coordinate.</li>\n",
    "<li>Sort points by polar angle with p to get simple polygon.</li>\n",
    "<li>Consider points in order, and discard those that would create a clockwise turn.</li>\n",
    "</ul>"
   ]
  },
  {
   "cell_type": "markdown",
   "metadata": {
    "collapsed": true
   },
   "source": [
    "<h3>Implementation</h3>\n",
    "\n",
    "GRAHAM-SCAN(Q)\n",
    "1. let $p_0$ be the point in $Q$ with the minimum $y$-coordinate, or the leftmost such point in case of a tie\n",
    "2. let $\\langle p_1, p_2, \\ldots, p_m\\rangle$ be the remaining points in $Q$, sorted by polar angle in counterclockwise order around $p_0$ (if more than one point has the same angle, remove all but the one that is farthest from $p_0$ )\n",
    "3. let $S$ be an empty stack\n",
    "4. PUSH($p_0$,$S$)\n",
    "5. PUSH($p_1$,$S$)\n",
    "6. PUSH($p_2$,$S$)\n",
    "7. for $i = 3$ to $m$\n",
    "8. &nbsp;&nbsp;&nbsp;     while the angle formed by points NEXT-TO-TOP($S$), TOP(S), and $p_i$ makes a nonleft turn\n",
    "9. &nbsp;&nbsp;&nbsp;&nbsp;&nbsp;&nbsp; POP(S)\n",
    "10. PUSH($p_i$,$S$)\n",
    "11. return $S$\n"
   ]
  },
  {
   "cell_type": "markdown",
   "metadata": {},
   "source": [
    "<h3>Analysis</h3>"
   ]
  },
  {
   "cell_type": "code",
   "execution_count": 28,
   "metadata": {
    "collapsed": true
   },
   "outputs": [],
   "source": [
    "COUNTERCLOCKWISE, CLOCKWISE, COLINEAR = (1, -1, 0)\n",
    "\n",
    "def _keep_left(hull, r):\n",
    "    while len(hull) > 1 and ccw(hull[-2], hull[-1], r) != COUNTERCLOCKWISE:\n",
    "            hull.pop()\n",
    "    if not len(hull) or hull[-1] != r:\n",
    "        hull.append(r)\n",
    "    return hull\n",
    "\n",
    "def convex_hull(points):\n",
    "    \"\"\"Returns points on convex hull of an array of points in CCW order.\"\"\"\n",
    "    points = sorted(points)\n",
    "    # Function reduce takes starting value ([]) and first elements of array \"points\" and passes to function\n",
    "    #_keep_left. Then it takes result of function _take_left and passes it again to the function _take_left\n",
    "    # with the next element of array \"points\" and so on.\n",
    "\n",
    "    l = reduce(_keep_left, points, [])\n",
    "    u = reduce(_keep_left, reversed(points), [])\n",
    "    # Extend l (lower hull) with all elements of u(upper hull) excluding its first and last elements\n",
    "    # it reads from left to right, if first element is true it returns it\n",
    "    return l.extend(u[i] for i in xrange(1, len(u) - 1)) or l\n"
   ]
  },
  {
   "cell_type": "code",
   "execution_count": 29,
   "metadata": {
    "collapsed": false
   },
   "outputs": [
    {
     "data": {
      "image/png": "[encoded data removed]",
      "text/plain": [
       "<matplotlib.figure.Figure at 0x9979f60>"
      ]
     },
     "metadata": {},
     "output_type": "display_data"
    }
   ],
   "source": [
    "n = 100\n",
    "x_coord = np.random.random([n])\n",
    "y_coord = np.random.random([n])\n",
    "# Make pairs\n",
    "points = zip(x_coord,y_coord)\n",
    "\n",
    "ch = (convex_hull(points))\n",
    "# Divide list into separate tuples\n",
    "ch_unzip= zip(*ch)\n",
    "\n",
    "# Add a single element into tuple\n",
    "ch_unzip[0]= ch_unzip[0] + (ch_unzip[0][0],)\n",
    "ch_unzip[1]= ch_unzip[1]+ (ch_unzip[1][0],)\n",
    "\n",
    "# Plot points and convex hull\n",
    "plt.plot(x_coord, y_coord,'go')\n",
    "plt.plot(ch_unzip[0],ch_unzip[1],'r')\n",
    "plt.axis([-0.5, 1.5, -0.5, 1.5])\n",
    "plt.show()"
   ]
  },
  {
   "cell_type": "markdown",
   "metadata": {
    "collapsed": true
   },
   "source": [
    "<h3>Package wrap or Jarvi's march algorithm</h3>\n",
    "\n",
    "\n",
    "<ul>\n",
    "<li>Start with point with smallest y-coordinate.</li>\n",
    "<li>Rotate sweep line around current point in ccw direction.</li>\n",
    "<li>First point hit is on the hull.</li>\n",
    "<li>Repeat.</li>\n",
    "</ul>\n",
    "\n",
    "\n",
    "<h3>Implementation</h3>\n",
    "\n",
    "<ul>\n",
    "<li>Compute angle between current point and all remaining points.</li>\n",
    "<li>Pick smallest angle larger than current angle.</li>\n",
    "<li> $\\Theta(n)$ per iteration.</li>\n",
    "<ul>"
   ]
  },
  {
   "cell_type": "markdown",
   "metadata": {},
   "source": [
    "<h3>Running Time Analysis</h3>\n",
    "\n",
    "\n"
   ]
  },
  {
   "cell_type": "markdown",
   "metadata": {},
   "source": [
    "<h3>How many points on hull?</h3>\n",
    "\n",
    "<ul>\n",
    "<li>Worst case:  $h = ?$.</li>\n",
    "<li>Average case:  difficult problems in stochastic geometry.\n",
    "<ul>\n",
    "<li>in a disc:  $h = N^{1/3}$.</li>\n",
    "<li>in a convex polygon with $O(1)$ edges:  $h = \\log n$.</li>\n",
    "</ul>\n",
    "</li>\n",
    "</ul>"
   ]
  },
  {
   "cell_type": "code",
   "execution_count": 30,
   "metadata": {
    "collapsed": true
   },
   "outputs": [],
   "source": [
    "# Jarvis March O(nh) - Tom Switzer <thomas.switzer@gmail.com>\n",
    " \n",
    "TURN_LEFT, TURN_RIGHT, TURN_NONE = (1, -1, 0)\n",
    " \n",
    "def turn(p, q, r):\n",
    "    \"\"\"Returns -1, 0, 1 if p,q,r forms a right, straight, or left turn.\"\"\"\n",
    "    return cmp((q[0] - p[0])*(r[1] - p[1]) - (r[0] - p[0])*(q[1] - p[1]), 0)\n",
    " \n",
    "def _dist(p, q):\n",
    "    \"\"\"Returns the squared Euclidean distance between p and q.\"\"\"\n",
    "    dx, dy = q[0] - p[0], q[1] - p[1]\n",
    "    return dx * dx + dy * dy\n",
    " \n",
    "def _next_hull_pt(points, p):\n",
    "    \"\"\"Returns the next point on the convex hull in CCW from p.\"\"\"\n",
    "    q = p\n",
    "    for r in points:\n",
    "        t = turn(p, q, r)\n",
    "        if t == TURN_RIGHT or t == TURN_NONE and _dist(p, r) > _dist(p, q):\n",
    "            q = r\n",
    "    return q\n",
    " \n",
    "def convexhull_jarvis_march(points):\n",
    "    \"\"\"Returns the points on the convex hull of points in CCW order.\"\"\"\n",
    "    hull = [min(points)]\n",
    "    for p in hull:\n",
    "        q = _next_hull_pt(points, p)\n",
    "        if q != hull[0]:\n",
    "            hull.append(q)\n",
    "    return hull"
   ]
  },
  {
   "cell_type": "code",
   "execution_count": 31,
   "metadata": {
    "collapsed": false
   },
   "outputs": [
    {
     "data": {
      "image/png": "[encoded data removed]",
      "text/plain": [
       "<matplotlib.figure.Figure at 0x90d2668>"
      ]
     },
     "metadata": {},
     "output_type": "display_data"
    }
   ],
   "source": [
    "n = 100\n",
    "x_coord = np.random.random([n])\n",
    "y_coord = np.random.random([n])\n",
    "# Make pairs\n",
    "points = zip(x_coord,y_coord)\n",
    "\n",
    "ch = (convexhull_jarvis_march(points))\n",
    "# Divide list into separate tuples\n",
    "ch_unzip= zip(*ch)\n",
    "\n",
    "# Add a single element into tuple\n",
    "ch_unzip[0]= ch_unzip[0] + (ch_unzip[0][0],)\n",
    "ch_unzip[1]= ch_unzip[1]+ (ch_unzip[1][0],)\n",
    "\n",
    "# Plot points and convex hull\n",
    "plt.plot(x_coord, y_coord,'bo')\n",
    "plt.plot(ch_unzip[0],ch_unzip[1],'r')\n",
    "plt.axis([-0.5, 1.5, -0.5, 1.5])\n",
    "plt.show()"
   ]
  },
  {
   "cell_type": "markdown",
   "metadata": {},
   "source": [
    "Note: Clustering algorithms might be an interesting and advanced topic to review."
   ]
  },
  {
   "cell_type": "markdown",
   "metadata": {},
   "source": [
    "<h3>Find the closet pair of points</h3>\n",
    "\n",
    "Given a set of euclidean points $Q$ we must find the closet pair of points.\n",
    "\n",
    "\n",
    "<h3>Naive algorithm</h3>\n",
    "\n",
    "Compaire the distance for each pair of point in $Q$"
   ]
  },
  {
   "cell_type": "code",
   "execution_count": 32,
   "metadata": {
    "collapsed": true
   },
   "outputs": [],
   "source": [
    "def closetpair_bf(Q):\n",
    "    min_distance = float('Inf')    \n",
    "    min_pair = None\n",
    "    for i in Q:\n",
    "        for j in Q:\n",
    "            if length_segment(p1,p2) < min_distance:\n",
    "                min_pair = [i, j]\n",
    "    return min_pair"
   ]
  },
  {
   "cell_type": "markdown",
   "metadata": {},
   "source": [
    "How can we do it better?\n",
    "\n",
    "<h3>An divide-and-conquer algorithm</h3>\n",
    "\n",
    "[Cormen]\n",
    "<ul>\n",
    "<li>Each recursive invocation of the algorithm takes as input a subset $P \\subseteq Q$ and arrays $X$ and $Y$, each of which contains all the points of the input subset $P$. </li>\n",
    "<li>The points in array $X$ are sorted so that their $x$-coordinates are monotonically increasing. </li>\n",
    "<li>Similarly, array $Y$ is sorted by monotonically increasing $y$-coordinate.</li>\n",
    "<li>If $|P|<3$\n",
    "</ul>\n",
    "\n",
    "<b>Divide:</b> \n",
    "<ul>\n",
    "<li>Find a vertical line $l$ that bisects the point set $P$ into two sets $P_L$ and $P_R$ such that $|PL| = \\lceil|P|/2\\rceil$, $|P_R| = \\lfloor|P|/2\\rfloor$, all points in $P_L$ are on or to the left of line $l$, and all points in $P_R$ are on or to the right of $l$. </li>\n",
    "<li>Divide the array $X$ into arrays $X_L$ and $X_R$ , which contain the points of $P_L$ and $P_R$ respectively, sorted by monotonically increasing $x$-coordinate. </li>\n",
    "<li>Similarly, divide the array $Y$ into arrays $Y_L$ and $Y_R$ , which contain the points of $P_L$ and $P_R$ respectively, sorted by monotonically increasing $y$-coordinate.</li>\n",
    "</ul>\n",
    "\n",
    "<b>Conquer:</b> Having divided $P$ into $P_L$ and $P_R$, make two recursive calls, one to find\n",
    "the closest pair of points in $P_L$ and the other to find the closest pair of points\n",
    "in $P_R$ . The inputs to the first call are the subset $P_L$ and arrays $X_L$ and $Y_L$ ; the\n",
    "second call receives the inputs $P_R$, $X_R$ , and $Y_R$ . Let the closest-pair distances\n",
    "returned for $P_L$ and $P_R$ be $\\delta_L$ and $\\delta_R$, respectively, and let $\\delta = \\min\\{\\delta_L, \\delta_R\\}$.\n",
    "\n",
    "\n",
    "<b>Combine:</b> The closest pair is either the pair with distance $\\delta$ found by one of the recursive calls, or it is a pair of points with one point in $P_L$ and the other in $P_R$. The algorithm determines whether there is a pair with one point in $P_L$ and the other point in $P_R$ and whose distance is less than $\\delta$. Observe that if a pair of\n",
    "points has distance less than $\\delta$, both points of the pair must be within $\\delta$ units\n",
    "of line $l$. To find such a pair, if one exists, we do the following:\n",
    "<ol>\n",
    "<li> Create an array $Y'$ , which is the array $Y$ with all points not in the $2\\delta$-wide vertical strip removed. The array $Y'$ is sorted by $y$-coordinate, just as $Y$ is.</li>\n",
    "<li>. For each point $p$ in the array $Y'$, try to find points in $Y'$ that are within $\\delta$ units of $p$. As we shall see shortly, only the $12$ points in $Y'$ that follow $p$ need be considered. Compute the distance from $p$ to each of these 12 points, and keep track of the closest-pair distance $\\delta'$ found over all pairs of points in $Y'$.\n",
    "<li> If $\\delta' < \\delta$, then the vertical strip does indeed contain a closer pair than the recursive calls found. Return this pair and its distance $\\delta'$ . Otherwise, return the closest pair and its distance $\\delta$ found by the recursive calls.\n",
    "</ol>\n",
    "\n",
    "Note: Apply for 7 instead of 12"
   ]
  },
  {
   "cell_type": "markdown",
   "metadata": {},
   "source": [
    "<h3>Voronoi Diagrams</h3>"
   ]
  },
  {
   "cell_type": "code",
   "execution_count": 35,
   "metadata": {
    "collapsed": false,
    "scrolled": true
   },
   "outputs": [
    {
     "data": {
      "image/png": "[encoded data removed]",
      "text/plain": [
       "<matplotlib.figure.Figure at 0xa53a898>"
      ]
     },
     "metadata": {},
     "output_type": "display_data"
    }
   ],
   "source": [
    "from scipy.spatial import Voronoi, voronoi_plot_2d\n",
    "\n",
    "points = np.array([[0, 0], [0, 1], [0, 2], [1, 0], [1, 1], [1, 2],[2, 0], [2, 1], [2, 2]])\n",
    "\n",
    "vor = Voronoi(points)\n",
    "voronoi_plot_2d(vor)\n",
    "plt.show()"
   ]
  },
  {
   "cell_type": "markdown",
   "metadata": {},
   "source": [
    "<a https://upload.wikimedia.org/wikipedia/commons/0/0c/Fortunes-algorithm-slowed.gif>Fortune algorithm</a>"
   ]
  },
  {
   "cell_type": "markdown",
   "metadata": {},
   "source": [
    "<h2>Punto 6</h2>\n",
    "<i>Implement an divide-and-coquer algorithm which run in time $O(n\\lg n)$</i>"
   ]
  },
  {
   "cell_type": "markdown",
   "metadata": {
    "collapsed": true
   },
   "source": [
    "<b>Coloring Voronoi diagram</b>"
   ]
  },
  {
   "cell_type": "code",
   "execution_count": 34,
   "metadata": {
    "collapsed": false
   },
   "outputs": [
    {
     "data": {
      "image/png": "[encoded data removed]",
      "text/plain": [
       "<matplotlib.figure.Figure at 0x9ac3828>"
      ]
     },
     "metadata": {},
     "output_type": "display_data"
    }
   ],
   "source": [
    "import numpy as np\n",
    "import matplotlib.pyplot as plt\n",
    "from scipy.spatial import Voronoi, voronoi_plot_2d\n",
    "\n",
    "points = np.random.rand(15,2)\n",
    "\n",
    "vor = Voronoi(points)\n",
    "\n",
    "voronoi_plot_2d(vor)\n",
    "\n",
    "for region in vor.regions:\n",
    "    if not -1 in region:\n",
    "        polygon = [vor.vertices[i] for i in region]\n",
    "        plt.fill(*zip(*polygon))\n",
    "\n",
    "plt.show()"
   ]
  },
  {
   "cell_type": "markdown",
   "metadata": {},
   "source": [
    "<h2>Punto 7</h2>\n",
    "<i>Research about algorithms to compute Voronoi diagrams. Describe and discuss the algorithms reviewed.</i>"
   ]
  },
  {
   "cell_type": "markdown",
   "metadata": {
    "collapsed": true
   },
   "source": [
    "<b>Algoritmo de Fortune</b>\n",
    "<br>Complejidad: $O(n\\lg n)$</br>\n",
    "<br>El algoritmo de Fortune está basado en una de las técnicas clave dentro de la geometría computacional denominada barrido de recta. La esencia de esta técnica yace en suponer que existe una recta $L$ que recorre el plano de arriba hacia abajo y que a lo largo de su recorrido se interseca con las estructuras que deseamos procesar.</br>\n",
    "<br>Este es una variación de los algoritmos tipo <i>sweep line</i> aplicado al cálculo del diagrama de Voronoi.</br>\n",
    "<br>El problema al barrer el plano con una línea es que la parte del diagrama que cae por encima de la línea puede modificarse por puntos que están debajo.</br>\n",
    "<br>Para evitar este problema se construye la <i>beach line</i>, el conjunto de puntos que equidistan de la <i>sweep line</i> y algún pi por encima de la <i>sweep line</i>.\n",
    "\n",
    "\n",
    "<b>Algoritmo de Divide y Conquista</b>\n",
    "<br>Complejidad: $O(n\\lg n)$</br>\n",
    "<br> Dado el problema de construir el diagrama de Voronói para el conjunto\n",
    "${\\displaystyle P}$ de sitios, ahora se dividirá a este último en dos subconjuntos ${\\displaystyle P_{1}}$ y ${\\displaystyle P_{2}}$, con aproximadamente el mismo tamaño, de los que se debe encontrar su diagrama de Voronoi independientemente. Finalmente, ${\\displaystyle Vor(P_{1})}$ y ${\\displaystyle Vor(P_{2})}$ deben ser unidos para poder obtener ${\\displaystyle Vor(P)}$.\n",
    "\n",
    "\n",
    "<b>Algoritmo de Duerza Bruta</b>\n",
    "<br>Complejidad: $O(n^2\\lg n)$</br>\n",
    "<br> Una promera aproximación para el diagrama de Voronói, donde se consiste enumerar sistemáticamente todos los posibles candidatos para la solución de un problema, con el fin de chequear si dicho candidato satisface la solución al mismo.</br>\n",
    "<br>Este algoritmo tiene muchas desventajas de entre las cuales se tienen las que a continuación se describen:</br>\n",
    "1. El cálculo explícito de los semi-planos y su intersección puede provocar problemas de precisión en la computadora generado, evidentemente.\n",
    "2. Involucra que no se produce información inmediata y que se pueda aprovechar acerca del vecindario de cada sitio.\n",
    "3. No resulta extraño descubrir que su complejidad computacional sea alta."
   ]
  },
  {
   "cell_type": "markdown",
   "metadata": {},
   "source": [
    "<b>Referencias</b>\n",
    "<br>http://asignatura.us.es/fgcitig/contenidos/gctem3ma.htm</br>\n",
    "<br>http://blog.ivank.net/fortunes-algorithm-and-implementation.html</br>\n",
    "<br>https://es.wikipedia.org/wiki/Pol%C3%ADgonos_de_Thiessen#Algoritmo_por_fuerza_bruta</br>"
   ]
  },
  {
   "cell_type": "markdown",
   "metadata": {},
   "source": [
    "<h2>References</h2>\n",
    "\n",
    "https://www.cs.princeton.edu/~rs/AlgsDS07/16Geometric.pdf\n",
    "\n",
    "http://blancosilva.github.io/post/2014/10/28/Computational-Geometry-in-Python.html\n",
    "\n",
    "http://people.inf.elte.hu/fekete/algoritmusok_msc/terinfo_geom/konyvek/Computational%20Geometry%20-%20Algorithms%20and%20Applications,%203rd%20Ed.pdf"
   ]
  }
 ],
 "metadata": {
  "kernelspec": {
   "display_name": "Python 2",
   "language": "python",
   "name": "python2"
  },
  "language_info": {
   "codemirror_mode": {
    "name": "ipython",
    "version": 2
   },
   "file_extension": ".py",
   "mimetype": "text/x-python",
   "name": "python",
   "nbconvert_exporter": "python",
   "pygments_lexer": "ipython2",
   "version": "2.7.13"
  }
 },
 "nbformat": 4,
 "nbformat_minor": 1
}
