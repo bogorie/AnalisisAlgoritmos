{
 "cells": [
  {
   "cell_type": "markdown",
   "metadata": {},
   "source": [
    "<h1>Taller 8: Algorito Geonétrico</h1>"
   ]
  },
  {
   "cell_type": "markdown",
   "metadata": {},
   "source": [
    "Librerias:"
   ]
  },
  {
   "cell_type": "code",
   "execution_count": 1,
   "metadata": {
    "collapsed": true
   },
   "outputs": [],
   "source": [
    "import numpy as np\n",
    "import math\n",
    "%matplotlib inline\n",
    "from matplotlib import pyplot as plt\n",
    "from matplotlib.path import Path\n",
    "from matplotlib.patches import PathPatch\n",
    "from sympy.geometry import *\n",
    "from sympy import Point, Line"
   ]
  },
  {
   "cell_type": "markdown",
   "metadata": {},
   "source": [
    "<h2>Punto 1</h2>"
   ]
  },
  {
   "cell_type": "markdown",
   "metadata": {},
   "source": [
    "<i>What is the intersection between two line segments $S_i$ and $S_j$?</i>"
   ]
  },
  {
   "cell_type": "code",
   "execution_count": 2,
   "metadata": {
    "collapsed": true
   },
   "outputs": [],
   "source": [
    "def ecuation_line(point1, point2):\n",
    "    A = (point1[1] - point2[1])\n",
    "    B = (point2[0] - point1[0])\n",
    "    C = (point1[0]*point2[1] - point2[0]*point1[1])\n",
    "    return A, B, -C\n",
    "\n",
    "def intersection(line1, line2):\n",
    "    D  = line1[0] * line2[1] - line1[1] * line2[0]\n",
    "    Dx = line1[2] * line2[1] - line1[1] * line2[2]\n",
    "    Dy = line1[0] * line2[2] - line1[2] * line2[0]\n",
    "    \n",
    "    if D != 0:\n",
    "        x = Dx / D\n",
    "        y = Dy / D\n",
    "        return x, y\n",
    "    else:\n",
    "        return False\n",
    "\n",
    "def graph_intersection(line1, line2, interc):\n",
    "    fig, ax = plt.subplots(figsize=(8, 8))\n",
    "    x = np.linspace(-100, 100)\n",
    "    y1 = (line1[2]/line1[1])-(line1[0]/line1[1])*x\n",
    "    y2 = (line2[2]/line2[1])-(line2[0]/line2[1])*x\n",
    "\n",
    "    plt.plot(x, y1, lw=3, label=r'$Line 1$')\n",
    "    plt.plot(x, y2 , lw=3, label=r'$Line 2$')\n",
    "    plt.plot(interc[0], interc[1], 'o', color='red')\n",
    "\n",
    "    plt.xlabel(r'$x$', fontsize=16)\n",
    "    plt.ylabel(r'$y$', fontsize=16)\n",
    "    plt.xlim(-2, 14)\n",
    "    plt.ylim(-2, 14)\n",
    "    plt.legend(fontsize=14)\n",
    "    plt.show()"
   ]
  },
  {
   "cell_type": "code",
   "execution_count": 3,
   "metadata": {
    "collapsed": false
   },
   "outputs": [
    {
     "name": "stdout",
     "output_type": "stream",
     "text": [
      "Intercepción: (1, 2)\n"
     ]
    },
    {
     "data": {
      "image/png": "[encoded data removed]",
      "text/plain": [
       "<matplotlib.figure.Figure at 0x88832e8>"
      ]
     },
     "metadata": {},
     "output_type": "display_data"
    }
   ],
   "source": [
    "line1 = ecuation_line([0,1], [2,3])\n",
    "line2 = ecuation_line([1,3], [2,-5])\n",
    "interc = intersection(line1, line2)\n",
    "\n",
    "if interc:\n",
    "    print \"Intercepción:\", interc\n",
    "    graph_intersection(line1, line2, interc)\n",
    "else:\n",
    "    print \"No tiene intercepción.\""
   ]
  },
  {
   "cell_type": "markdown",
   "metadata": {},
   "source": [
    "<h2>Punto 2</h2>"
   ]
  },
  {
   "cell_type": "markdown",
   "metadata": {},
   "source": [
    "<i>Is a given point $P$ contained in the line segment $S$?</i>"
   ]
  },
  {
   "cell_type": "code",
   "execution_count": 4,
   "metadata": {
    "collapsed": true
   },
   "outputs": [],
   "source": [
    "def contained_point(line, point):\n",
    "    if point[1] == (line[2]/line[1])-(line[0]/line[1])*(point[0]):\n",
    "        return True\n",
    "    else:\n",
    "        return False\n",
    "\n",
    "def graph_contained_point(line, point):\n",
    "    fig, ax = plt.subplots(figsize=(8, 8))\n",
    "    x = np.linspace(-100, 100)\n",
    "    y = (line[2]/line[1])-(line[0]/line[1])*x\n",
    "\n",
    "    plt.plot(x, y, lw=3)\n",
    "    plt.plot(point[0],point[1], 'o', color='red')\n",
    "\n",
    "    plt.xlabel(r'$x$', fontsize=16)\n",
    "    plt.ylabel(r'$y$', fontsize=16)\n",
    "    plt.xlim(-2, 14)\n",
    "    plt.ylim(-2, 14)\n",
    "    plt.legend(fontsize=14)\n",
    "    plt.show()"
   ]
  },
  {
   "cell_type": "code",
   "execution_count": 5,
   "metadata": {
    "collapsed": false
   },
   "outputs": [
    {
     "name": "stdout",
     "output_type": "stream",
     "text": [
      "True\n"
     ]
    },
    {
     "name": "stderr",
     "output_type": "stream",
     "text": [
      "D:\\Users\\oscar\\Anaconda2\\lib\\site-packages\\matplotlib\\axes\\_axes.py:545: UserWarning: No labelled objects found. Use label='...' kwarg on individual plots.\n",
      "  warnings.warn(\"No labelled objects found. \"\n"
     ]
    },
    {
     "data": {
      "image/png": "[encoded data removed]",
      "text/plain": [
       "<matplotlib.figure.Figure at 0x8cfb908>"
      ]
     },
     "metadata": {},
     "output_type": "display_data"
    },
    {
     "name": "stdout",
     "output_type": "stream",
     "text": [
      "False\n"
     ]
    },
    {
     "data": {
      "image/png": "[encoded data removed]",
      "text/plain": [
       "<matplotlib.figure.Figure at 0x8d31748>"
      ]
     },
     "metadata": {},
     "output_type": "display_data"
    }
   ],
   "source": [
    "line = ecuation_line([2,2], [1,1])\n",
    "point1 = [3, 3]\n",
    "point2 = [1, 3]\n",
    "\n",
    "print contained_point(line, point1)\n",
    "graph_contained_point(line, point1)\n",
    "print contained_point(line, point2)\n",
    "graph_contained_point(line, point2)"
   ]
  },
  {
   "cell_type": "markdown",
   "metadata": {},
   "source": [
    "<h2>Punto 3</h2>"
   ]
  },
  {
   "cell_type": "markdown",
   "metadata": {},
   "source": [
    "<i>What is the distance from a point $P$ to the line $L$?</i>"
   ]
  },
  {
   "cell_type": "code",
   "execution_count": 6,
   "metadata": {
    "collapsed": true
   },
   "outputs": [],
   "source": [
    "def distance_point_line(line, point):\n",
    "    return line.distance(point)"
   ]
  },
  {
   "cell_type": "code",
   "execution_count": 7,
   "metadata": {
    "collapsed": false
   },
   "outputs": [
    {
     "name": "stdout",
     "output_type": "stream",
     "text": [
      "La distancia entre la recta y el punto es de: 2\n"
     ]
    }
   ],
   "source": [
    "p1 = Point(1, 1)\n",
    "p2 = Point(1, 2)\n",
    "p0 = Point (-1, 1)\n",
    "\n",
    "dist = distance_point_line(Line(p1, p2), p0)\n",
    "print 'La distancia entre la recta y el punto es de:', dist"
   ]
  },
  {
   "cell_type": "markdown",
   "metadata": {},
   "source": [
    "<h2>Punto 4</h2>"
   ]
  },
  {
   "cell_type": "markdown",
   "metadata": {},
   "source": [
    "<i>What is an ortogonal line $L_i$ which intersect $L_j$ at an arbitrary point?</i>"
   ]
  },
  {
   "cell_type": "code",
   "execution_count": 8,
   "metadata": {
    "collapsed": true
   },
   "outputs": [],
   "source": [
    "def orthogonal_line(line, point):\n",
    "    ort = line.perpendicular_line(point)\n",
    "    return ort.equation()"
   ]
  },
  {
   "cell_type": "code",
   "execution_count": 9,
   "metadata": {
    "collapsed": false
   },
   "outputs": [
    {
     "name": "stdout",
     "output_type": "stream",
     "text": [
      "La recta ortogonal es: y - 1\n"
     ]
    }
   ],
   "source": [
    "ort = orthogonal_line(Line(p1, p2), p0)\n",
    "print \"La recta ortogonal es:\", ort"
   ]
  },
  {
   "cell_type": "markdown",
   "metadata": {},
   "source": [
    "<h2>Punto 5</h2>"
   ]
  },
  {
   "cell_type": "markdown",
   "metadata": {},
   "source": [
    "<i>What is a line $L_i$ parallel to $L_j$ with a distance $d$?</i>"
   ]
  },
  {
   "cell_type": "code",
   "execution_count": 10,
   "metadata": {
    "collapsed": true
   },
   "outputs": [],
   "source": [
    "def parallel_line(p1, p2, distance):\n",
    "    line = Line(p1, p2)\n",
    "    p = p1.translate(distance)\n",
    "    par = line.parallel_line(p)\n",
    "    return par.equation()"
   ]
  },
  {
   "cell_type": "code",
   "execution_count": 11,
   "metadata": {
    "collapsed": false
   },
   "outputs": [
    {
     "name": "stdout",
     "output_type": "stream",
     "text": [
      "La recta parallela es: x - 6\n"
     ]
    }
   ],
   "source": [
    "distance = 5\n",
    "par = parallel_line(p1, p2, distance)\n",
    "print \"La recta parallela es:\", par"
   ]
  },
  {
   "cell_type": "markdown",
   "metadata": {},
   "source": [
    "<h2>Punto 6</h2>"
   ]
  },
  {
   "cell_type": "markdown",
   "metadata": {},
   "source": [
    "<i>Implement an divide-and-coquer algorithm which run in time $O(n\\lg n)$</i>"
   ]
  },
  {
   "cell_type": "markdown",
   "metadata": {},
   "source": [
    "<b>Coloring Voronoi diagram</b>"
   ]
  },
  {
   "cell_type": "code",
   "execution_count": 12,
   "metadata": {
    "collapsed": false
   },
   "outputs": [],
   "source": [
    "import matplotlib.pyplot as plt\n",
    "from scipy.spatial import Voronoi\n",
    "\n",
    "def voronoi_finite_polygons_2d(vor, radius=None):\n",
    "    if vor.points.shape[1] != 2:\n",
    "        raise ValueError(\"Requires 2D input\")\n",
    "\n",
    "    new_regions = []\n",
    "    new_vertices = vor.vertices.tolist()\n",
    "\n",
    "    center = vor.points.mean(axis=0)\n",
    "    if radius is None:\n",
    "        radius = vor.points.ptp().max()\n",
    "\n",
    "    all_ridges = {}\n",
    "    for (p1, p2), (v1, v2) in zip(vor.ridge_points, vor.ridge_vertices):\n",
    "        all_ridges.setdefault(p1, []).append((p2, v1, v2))\n",
    "        all_ridges.setdefault(p2, []).append((p1, v1, v2))\n",
    "\n",
    "    for p1, region in enumerate(vor.point_region):\n",
    "        vertices = vor.regions[region]\n",
    "\n",
    "        if all(v >= 0 for v in vertices):\n",
    "            new_regions.append(vertices)\n",
    "            continue\n",
    "\n",
    "        ridges = all_ridges[p1]\n",
    "        new_region = [v for v in vertices if v >= 0]\n",
    "\n",
    "        for p2, v1, v2 in ridges:\n",
    "            if v2 < 0:\n",
    "                v1, v2 = v2, v1\n",
    "            if v1 >= 0:\n",
    "                continue\n",
    "\n",
    "            t = vor.points[p2] - vor.points[p1]\n",
    "            t /= np.linalg.norm(t)\n",
    "            n = np.array([-t[1], t[0]])\n",
    "\n",
    "            midpoint = vor.points[[p1, p2]].mean(axis=0)\n",
    "            direction = np.sign(np.dot(midpoint - center, n)) * n\n",
    "            far_point = vor.vertices[v2] + direction * radius\n",
    "\n",
    "            new_region.append(len(new_vertices))\n",
    "            new_vertices.append(far_point.tolist())\n",
    "\n",
    "        vs = np.asarray([new_vertices[v] for v in new_region])\n",
    "        c = vs.mean(axis=0)\n",
    "        angles = np.arctan2(vs[:,1] - c[1], vs[:,0] - c[0])\n",
    "        new_region = np.array(new_region)[np.argsort(angles)]\n",
    "\n",
    "        new_regions.append(new_region.tolist())\n",
    "\n",
    "    return new_regions, np.asarray(new_vertices)\n",
    "\n",
    "def graph_voronoi():\n",
    "    np.random.seed(1234)\n",
    "    points = np.random.rand(15, 2)\n",
    "\n",
    "    vor = Voronoi(points)\n",
    "\n",
    "    regions, vertices = voronoi_finite_polygons_2d(vor)\n",
    "\n",
    "    for region in regions:\n",
    "        polygon = vertices[region]\n",
    "        plt.fill(*zip(*polygon), alpha=0.4)\n",
    "\n",
    "    plt.plot(points[:,0], points[:,1], 'ko')\n",
    "    plt.xlim(vor.min_bound[0] - 0.1, vor.max_bound[0] + 0.1)\n",
    "    plt.ylim(vor.min_bound[1] - 0.1, vor.max_bound[1] + 0.1)\n",
    "\n",
    "    plt.show()"
   ]
  },
  {
   "cell_type": "code",
   "execution_count": 13,
   "metadata": {
    "collapsed": false
   },
   "outputs": [
    {
     "data": {
      "image/png": "[encoded data removed]",
      "text/plain": [
       "<matplotlib.figure.Figure at 0x8f2c550>"
      ]
     },
     "metadata": {},
     "output_type": "display_data"
    }
   ],
   "source": [
    "graph_voronoi()"
   ]
  },
  {
   "cell_type": "markdown",
   "metadata": {},
   "source": [
    "<h2>Punto 7</h2>"
   ]
  },
  {
   "cell_type": "markdown",
   "metadata": {},
   "source": [
    "<i>Research about algorithms to compute Voronoi diagrams. Describe and discuss the algorithms reviewed.</i>"
   ]
  },
  {
   "cell_type": "markdown",
   "metadata": {},
   "source": [
    "<b>Algoritmo de Fortune</b>\n",
    "<br>Complejidad: $O(n\\lg n)$</br>\n",
    "<br>El algoritmo de Fortune está basado en una de las técnicas clave dentro de la geometría computacional denominada barrido de recta. La esencia de esta técnica yace en suponer que existe una recta $L$ que recorre el plano de arriba hacia abajo y que a lo largo de su recorrido se interseca con las estructuras que deseamos procesar.</br>\n",
    "<br>Este es una variación de los algoritmos tipo <i>sweep line</i> aplicado al cálculo del diagrama de Voronoi.</br>\n",
    "<br>El problema al barrer el plano con una línea es que la parte del diagrama que cae por encima de la línea puede modificarse por puntos que están debajo.</br>\n",
    "<br>Para evitar este problema se construye la <i>beach line</i>, el conjunto de puntos que equidistan de la <i>sweep line</i> y algún pi por encima de la <i>sweep line</i>.\n",
    "\n",
    "\n",
    "<b>Algoritmo de Divide y Conquista</b>\n",
    "<br>Complejidad: $O(n\\lg n)$</br>\n",
    "<br> Dado el problema de construir el diagrama de Voronói para el conjunto\n",
    "${\\displaystyle P}$ de sitios, ahora se dividirá a este último en dos subconjuntos ${\\displaystyle P_{1}}$ y ${\\displaystyle P_{2}}$, con aproximadamente el mismo tamaño, de los que se debe encontrar su diagrama de Voronoi independientemente. Finalmente, ${\\displaystyle Vor(P_{1})}$ y ${\\displaystyle Vor(P_{2})}$ deben ser unidos para poder obtener ${\\displaystyle Vor(P)}$.\n",
    "\n",
    "\n",
    "<b>Algoritmo de Duerza Bruta</b>\n",
    "<br>Complejidad: $O(n^2\\lg n)$</br>\n",
    "<br> Una promera aproximación para el diagrama de Voronói, donde se consiste enumerar sistemáticamente todos los posibles candidatos para la solución de un problema, con el fin de chequear si dicho candidato satisface la solución al mismo.</br>\n",
    "<br>Este algoritmo tiene muchas desventajas de entre las cuales se tienen las que a continuación se describen:</br>\n",
    "1. El cálculo explícito de los semi-planos y su intersección puede provocar problemas de precisión en la computadora generado, evidentemente.\n",
    "2. Involucra que no se produce información inmediata y que se pueda aprovechar acerca del vecindario de cada sitio.\n",
    "3. No resulta extraño descubrir que su complejidad computacional sea alta."
   ]
  },
  {
   "cell_type": "markdown",
   "metadata": {},
   "source": [
    "<br>Referencias:</br>\n",
    "<br>http://asignatura.us.es/fgcitig/contenidos/gctem3ma.htm</br>\n",
    "<br>http://blog.ivank.net/fortunes-algorithm-and-implementation.html</br>\n",
    "<br>https://es.wikipedia.org/wiki/Pol%C3%ADgonos_de_Thiessen#Algoritmo_por_fuerza_bruta</br>"
   ]
  }
 ],
 "metadata": {
  "kernelspec": {
   "display_name": "Python 2",
   "language": "python",
   "name": "python2"
  },
  "language_info": {
   "codemirror_mode": {
    "name": "ipython",
    "version": 2
   },
   "file_extension": ".py",
   "mimetype": "text/x-python",
   "name": "python",
   "nbconvert_exporter": "python",
   "pygments_lexer": "ipython2",
   "version": "2.7.13"
  }
 },
 "nbformat": 4,
 "nbformat_minor": 2
}
